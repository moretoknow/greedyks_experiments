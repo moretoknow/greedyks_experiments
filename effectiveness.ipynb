{
 "cells": [
  {
   "cell_type": "code",
   "execution_count": 1,
   "metadata": {
    "ExecuteTime": {
     "end_time": "2022-04-14T04:09:53.831022Z",
     "start_time": "2022-04-14T04:09:52.699586Z"
    }
   },
   "outputs": [],
   "source": [
    "import numpy as np\n",
    "import time\n",
    "import jcs_paper_util as util\n",
    "import pandas as pd"
   ]
  },
  {
   "cell_type": "code",
   "execution_count": 2,
   "metadata": {
    "ExecuteTime": {
     "end_time": "2022-04-14T04:09:53.835955Z",
     "start_time": "2022-04-14T04:09:53.832218Z"
    }
   },
   "outputs": [],
   "source": [
    "util.matplotlib_setup()\n",
    "util.default_num_reps = 100\n",
    "util.eval_error_D = util.eval_effectiveness\n",
    "util.approx_methods = ['Reservoir Sampling', 'Exact KS','GreedyKS', 'Lall + DDSketch', 'IKS + Reservoir']"
   ]
  },
  {
   "cell_type": "code",
   "execution_count": 3,
   "metadata": {
    "ExecuteTime": {
     "end_time": "2022-04-14T08:12:03.012247Z",
     "start_time": "2022-04-14T04:09:53.837086Z"
    },
    "scrolled": false
   },
   "outputs": [
    {
     "name": "stdout",
     "output_type": "stream",
     "text": [
      ">>>>>>>>>> sample_size\n"
     ]
    },
    {
     "name": "stderr",
     "output_type": "stream",
     "text": [
      "100%|█████████████████████████████████████████████████████████████████████████████████████████████████████████████████████████████████████████| 900/900 [28:35<00:00,  1.91s/it]"
     ]
    },
    {
     "name": "stdout",
     "output_type": "stream",
     "text": [
      ">>>>>>>>>> memo_perct\n"
     ]
    },
    {
     "name": "stderr",
     "output_type": "stream",
     "text": [
      "\n",
      "900it [42:57,  2.86s/it]                                                                                                                                                        "
     ]
    },
    {
     "name": "stdout",
     "output_type": "stream",
     "text": [
      ">>>>>>>>>> mean_diff\n"
     ]
    },
    {
     "name": "stderr",
     "output_type": "stream",
     "text": [
      "\n",
      "900it [1:26:24,  5.76s/it]                                                                                                                                                      "
     ]
    },
    {
     "name": "stdout",
     "output_type": "stream",
     "text": [
      ">>>>>>>>>> std_diff\n"
     ]
    },
    {
     "name": "stderr",
     "output_type": "stream",
     "text": [
      "\n",
      "900it [1:24:10,  5.61s/it]                                                                                                                                                      \n"
     ]
    }
   ],
   "source": [
    "experiments = [\n",
    "    [{'sample_size': (10 ** np.arange(3, 4.5, 0.5)).astype(int)}, 'Sample size', 'sample_size'],\n",
    "    [{'memo_perct': 10. ** np.arange(-3, -1.5, 0.5)}, 'Memory fraction', 'memo_perct'],\n",
    "    [{'mean_diff': 10. ** np.arange(-2, -0.5, 0.5)}, 'Difference in distribution mean', 'mean_diff'],\n",
    "    [{'std_diff': 10. ** np.arange(-2, -0.5, 0.5), 'mean_diff':[0]}, 'Difference in distribution standard deviation', 'std_diff'],\n",
    "]\n",
    "\n",
    "for e in experiments:\n",
    "    print('>' * 10, e[2])\n",
    "    kwargs = {'sample_size': (10**4,)}\n",
    "    kwargs.update(e[0])\n",
    "    results = util.get_results(**kwargs)\n",
    "    timestamp = int(time.time())\n",
    "    e.append('effectiveness_{}_{}.pkl'.format(e[2], timestamp))\n",
    "    results.to_pickle('./data_pdf_files/' + e[-1])"
   ]
  },
  {
   "cell_type": "code",
   "execution_count": 5,
   "metadata": {
    "ExecuteTime": {
     "end_time": "2022-04-14T08:25:32.515141Z",
     "start_time": "2022-04-14T08:25:31.907750Z"
    },
    "scrolled": false
   },
   "outputs": [
    {
     "name": "stdout",
     "output_type": "stream",
     "text": [
      ">>>>>>>>>> sample_size\n",
      "normal\n"
     ]
    },
    {
     "data": {
      "text/html": [
       "<div>\n",
       "<style scoped>\n",
       "    .dataframe tbody tr th:only-of-type {\n",
       "        vertical-align: middle;\n",
       "    }\n",
       "\n",
       "    .dataframe tbody tr th {\n",
       "        vertical-align: top;\n",
       "    }\n",
       "\n",
       "    .dataframe thead th {\n",
       "        text-align: right;\n",
       "    }\n",
       "</style>\n",
       "<table border=\"1\" class=\"dataframe\">\n",
       "  <thead>\n",
       "    <tr style=\"text-align: right;\">\n",
       "      <th></th>\n",
       "      <th>Reservoir Sampling</th>\n",
       "      <th>Exact KS</th>\n",
       "      <th>GreedyKS</th>\n",
       "      <th>Lall + DDSketch</th>\n",
       "      <th>IKS + Reservoir</th>\n",
       "    </tr>\n",
       "  </thead>\n",
       "  <tbody>\n",
       "    <tr>\n",
       "      <th>$10^3$</th>\n",
       "      <td>9/81/217.0</td>\n",
       "      <td>5/45/487.0</td>\n",
       "      <td>6/53/521.4</td>\n",
       "      <td>94/0/19.8</td>\n",
       "      <td>11/81/144.9</td>\n",
       "    </tr>\n",
       "    <tr>\n",
       "      <th>$10^{3.5}$</th>\n",
       "      <td>10/82/1122.2</td>\n",
       "      <td>12/0/1130.4</td>\n",
       "      <td>14/1/1233.9</td>\n",
       "      <td>72/0/104.8</td>\n",
       "      <td>17/62/1055.6</td>\n",
       "    </tr>\n",
       "    <tr>\n",
       "      <th>$10^4$</th>\n",
       "      <td>12/69/3247.2</td>\n",
       "      <td>12/0/1504.3</td>\n",
       "      <td>13/0/1566.7</td>\n",
       "      <td>36/0/482.9</td>\n",
       "      <td>21/55/2622.8</td>\n",
       "    </tr>\n",
       "  </tbody>\n",
       "</table>\n",
       "</div>"
      ],
      "text/plain": [
       "           Reservoir Sampling     Exact KS     GreedyKS Lall + DDSketch  \\\n",
       "$10^3$             9/81/217.0   5/45/487.0   6/53/521.4       94/0/19.8   \n",
       "$10^{3.5}$       10/82/1122.2  12/0/1130.4  14/1/1233.9      72/0/104.8   \n",
       "$10^4$           12/69/3247.2  12/0/1504.3  13/0/1566.7      36/0/482.9   \n",
       "\n",
       "           IKS + Reservoir  \n",
       "$10^3$         11/81/144.9  \n",
       "$10^{3.5}$    17/62/1055.6  \n",
       "$10^4$        21/55/2622.8  "
      ]
     },
     "metadata": {},
     "output_type": "display_data"
    },
    {
     "name": "stdout",
     "output_type": "stream",
     "text": [
      "uniform\n"
     ]
    },
    {
     "data": {
      "text/html": [
       "<div>\n",
       "<style scoped>\n",
       "    .dataframe tbody tr th:only-of-type {\n",
       "        vertical-align: middle;\n",
       "    }\n",
       "\n",
       "    .dataframe tbody tr th {\n",
       "        vertical-align: top;\n",
       "    }\n",
       "\n",
       "    .dataframe thead th {\n",
       "        text-align: right;\n",
       "    }\n",
       "</style>\n",
       "<table border=\"1\" class=\"dataframe\">\n",
       "  <thead>\n",
       "    <tr style=\"text-align: right;\">\n",
       "      <th></th>\n",
       "      <th>Reservoir Sampling</th>\n",
       "      <th>Exact KS</th>\n",
       "      <th>GreedyKS</th>\n",
       "      <th>Lall + DDSketch</th>\n",
       "      <th>IKS + Reservoir</th>\n",
       "    </tr>\n",
       "  </thead>\n",
       "  <tbody>\n",
       "    <tr>\n",
       "      <th>$10^3$</th>\n",
       "      <td>11/83/267.2</td>\n",
       "      <td>8/53/481.6</td>\n",
       "      <td>10/60/511.4</td>\n",
       "      <td>91/0/21.9</td>\n",
       "      <td>10/80/365.7</td>\n",
       "    </tr>\n",
       "    <tr>\n",
       "      <th>$10^{3.5}$</th>\n",
       "      <td>12/81/726.9</td>\n",
       "      <td>9/8/1283.4</td>\n",
       "      <td>11/11/1334.5</td>\n",
       "      <td>80/0/57.8</td>\n",
       "      <td>20/63/700.2</td>\n",
       "    </tr>\n",
       "    <tr>\n",
       "      <th>$10^4$</th>\n",
       "      <td>10/81/4131.2</td>\n",
       "      <td>7/0/1966.7</td>\n",
       "      <td>7/0/2066.5</td>\n",
       "      <td>29/0/497.8</td>\n",
       "      <td>23/62/3511.3</td>\n",
       "    </tr>\n",
       "  </tbody>\n",
       "</table>\n",
       "</div>"
      ],
      "text/plain": [
       "           Reservoir Sampling    Exact KS      GreedyKS Lall + DDSketch  \\\n",
       "$10^3$            11/83/267.2  8/53/481.6   10/60/511.4       91/0/21.9   \n",
       "$10^{3.5}$        12/81/726.9  9/8/1283.4  11/11/1334.5       80/0/57.8   \n",
       "$10^4$           10/81/4131.2  7/0/1966.7    7/0/2066.5      29/0/497.8   \n",
       "\n",
       "           IKS + Reservoir  \n",
       "$10^3$         10/80/365.7  \n",
       "$10^{3.5}$     20/63/700.2  \n",
       "$10^4$        23/62/3511.3  "
      ]
     },
     "metadata": {},
     "output_type": "display_data"
    },
    {
     "name": "stdout",
     "output_type": "stream",
     "text": [
      "exp\n"
     ]
    },
    {
     "data": {
      "text/html": [
       "<div>\n",
       "<style scoped>\n",
       "    .dataframe tbody tr th:only-of-type {\n",
       "        vertical-align: middle;\n",
       "    }\n",
       "\n",
       "    .dataframe tbody tr th {\n",
       "        vertical-align: top;\n",
       "    }\n",
       "\n",
       "    .dataframe thead th {\n",
       "        text-align: right;\n",
       "    }\n",
       "</style>\n",
       "<table border=\"1\" class=\"dataframe\">\n",
       "  <thead>\n",
       "    <tr style=\"text-align: right;\">\n",
       "      <th></th>\n",
       "      <th>Reservoir Sampling</th>\n",
       "      <th>Exact KS</th>\n",
       "      <th>GreedyKS</th>\n",
       "      <th>Lall + DDSketch</th>\n",
       "      <th>IKS + Reservoir</th>\n",
       "    </tr>\n",
       "  </thead>\n",
       "  <tbody>\n",
       "    <tr>\n",
       "      <th>$10^3$</th>\n",
       "      <td>5/88/515.3</td>\n",
       "      <td>7/0/255.4</td>\n",
       "      <td>6/0/283.4</td>\n",
       "      <td>16/0/133.5</td>\n",
       "      <td>5/83/300.2</td>\n",
       "    </tr>\n",
       "    <tr>\n",
       "      <th>$10^{3.5}$</th>\n",
       "      <td>9/85/884.7</td>\n",
       "      <td>10/0/366.6</td>\n",
       "      <td>11/0/387.8</td>\n",
       "      <td>16/0/276.9</td>\n",
       "      <td>20/63/1184.8</td>\n",
       "    </tr>\n",
       "    <tr>\n",
       "      <th>$10^4$</th>\n",
       "      <td>21/51/4066.2</td>\n",
       "      <td>7/0/566.5</td>\n",
       "      <td>7/0/586.1</td>\n",
       "      <td>14/0/525.9</td>\n",
       "      <td>23/54/3692.5</td>\n",
       "    </tr>\n",
       "  </tbody>\n",
       "</table>\n",
       "</div>"
      ],
      "text/plain": [
       "           Reservoir Sampling    Exact KS    GreedyKS Lall + DDSketch  \\\n",
       "$10^3$             5/88/515.3   7/0/255.4   6/0/283.4      16/0/133.5   \n",
       "$10^{3.5}$         9/85/884.7  10/0/366.6  11/0/387.8      16/0/276.9   \n",
       "$10^4$           21/51/4066.2   7/0/566.5   7/0/586.1      14/0/525.9   \n",
       "\n",
       "           IKS + Reservoir  \n",
       "$10^3$          5/83/300.2  \n",
       "$10^{3.5}$    20/63/1184.8  \n",
       "$10^4$        23/54/3692.5  "
      ]
     },
     "metadata": {},
     "output_type": "display_data"
    },
    {
     "name": "stdout",
     "output_type": "stream",
     "text": [
      ">>>>>>>>>> memo_perct\n",
      "normal\n"
     ]
    },
    {
     "data": {
      "text/html": [
       "<div>\n",
       "<style scoped>\n",
       "    .dataframe tbody tr th:only-of-type {\n",
       "        vertical-align: middle;\n",
       "    }\n",
       "\n",
       "    .dataframe tbody tr th {\n",
       "        vertical-align: top;\n",
       "    }\n",
       "\n",
       "    .dataframe thead th {\n",
       "        text-align: right;\n",
       "    }\n",
       "</style>\n",
       "<table border=\"1\" class=\"dataframe\">\n",
       "  <thead>\n",
       "    <tr style=\"text-align: right;\">\n",
       "      <th></th>\n",
       "      <th>Reservoir Sampling</th>\n",
       "      <th>Exact KS</th>\n",
       "      <th>GreedyKS</th>\n",
       "      <th>Lall + DDSketch</th>\n",
       "      <th>IKS + Reservoir</th>\n",
       "    </tr>\n",
       "  </thead>\n",
       "  <tbody>\n",
       "    <tr>\n",
       "      <th>$10^{-3}$</th>\n",
       "      <td>11/81/3226.8</td>\n",
       "      <td>19/0/1536.4</td>\n",
       "      <td>18/0/1975.0</td>\n",
       "      <td>100/0/nan</td>\n",
       "      <td>23/63/4068.6</td>\n",
       "    </tr>\n",
       "    <tr>\n",
       "      <th>$10^{-2.5}$</th>\n",
       "      <td>16/75/2941.1</td>\n",
       "      <td>19/0/1526.0</td>\n",
       "      <td>17/0/1655.0</td>\n",
       "      <td>100/0/nan</td>\n",
       "      <td>34/51/2077.9</td>\n",
       "    </tr>\n",
       "    <tr>\n",
       "      <th>$10^{-2}$</th>\n",
       "      <td>7/74/2933.2</td>\n",
       "      <td>10/0/1442.4</td>\n",
       "      <td>10/0/1487.4</td>\n",
       "      <td>42/0/470.0</td>\n",
       "      <td>19/59/2576.5</td>\n",
       "    </tr>\n",
       "  </tbody>\n",
       "</table>\n",
       "</div>"
      ],
      "text/plain": [
       "            Reservoir Sampling     Exact KS     GreedyKS Lall + DDSketch  \\\n",
       "$10^{-3}$         11/81/3226.8  19/0/1536.4  18/0/1975.0       100/0/nan   \n",
       "$10^{-2.5}$       16/75/2941.1  19/0/1526.0  17/0/1655.0       100/0/nan   \n",
       "$10^{-2}$          7/74/2933.2  10/0/1442.4  10/0/1487.4      42/0/470.0   \n",
       "\n",
       "            IKS + Reservoir  \n",
       "$10^{-3}$      23/63/4068.6  \n",
       "$10^{-2.5}$    34/51/2077.9  \n",
       "$10^{-2}$      19/59/2576.5  "
      ]
     },
     "metadata": {},
     "output_type": "display_data"
    },
    {
     "name": "stdout",
     "output_type": "stream",
     "text": [
      "uniform\n"
     ]
    },
    {
     "data": {
      "text/html": [
       "<div>\n",
       "<style scoped>\n",
       "    .dataframe tbody tr th:only-of-type {\n",
       "        vertical-align: middle;\n",
       "    }\n",
       "\n",
       "    .dataframe tbody tr th {\n",
       "        vertical-align: top;\n",
       "    }\n",
       "\n",
       "    .dataframe thead th {\n",
       "        text-align: right;\n",
       "    }\n",
       "</style>\n",
       "<table border=\"1\" class=\"dataframe\">\n",
       "  <thead>\n",
       "    <tr style=\"text-align: right;\">\n",
       "      <th></th>\n",
       "      <th>Reservoir Sampling</th>\n",
       "      <th>Exact KS</th>\n",
       "      <th>GreedyKS</th>\n",
       "      <th>Lall + DDSketch</th>\n",
       "      <th>IKS + Reservoir</th>\n",
       "    </tr>\n",
       "  </thead>\n",
       "  <tbody>\n",
       "    <tr>\n",
       "      <th>$10^{-3}$</th>\n",
       "      <td>10/83/1039.4</td>\n",
       "      <td>8/0/1726.8</td>\n",
       "      <td>8/0/2275.8</td>\n",
       "      <td>100/0/nan</td>\n",
       "      <td>15/73/2684.0</td>\n",
       "    </tr>\n",
       "    <tr>\n",
       "      <th>$10^{-2.5}$</th>\n",
       "      <td>15/78/3177.3</td>\n",
       "      <td>7/0/1811.7</td>\n",
       "      <td>9/0/2000.8</td>\n",
       "      <td>100/0/nan</td>\n",
       "      <td>24/56/2851.1</td>\n",
       "    </tr>\n",
       "    <tr>\n",
       "      <th>$10^{-2}$</th>\n",
       "      <td>14/69/3296.6</td>\n",
       "      <td>10/0/1960.6</td>\n",
       "      <td>11/0/2039.7</td>\n",
       "      <td>32/0/364.6</td>\n",
       "      <td>23/58/2009.2</td>\n",
       "    </tr>\n",
       "  </tbody>\n",
       "</table>\n",
       "</div>"
      ],
      "text/plain": [
       "            Reservoir Sampling     Exact KS     GreedyKS Lall + DDSketch  \\\n",
       "$10^{-3}$         10/83/1039.4   8/0/1726.8   8/0/2275.8       100/0/nan   \n",
       "$10^{-2.5}$       15/78/3177.3   7/0/1811.7   9/0/2000.8       100/0/nan   \n",
       "$10^{-2}$         14/69/3296.6  10/0/1960.6  11/0/2039.7      32/0/364.6   \n",
       "\n",
       "            IKS + Reservoir  \n",
       "$10^{-3}$      15/73/2684.0  \n",
       "$10^{-2.5}$    24/56/2851.1  \n",
       "$10^{-2}$      23/58/2009.2  "
      ]
     },
     "metadata": {},
     "output_type": "display_data"
    },
    {
     "name": "stdout",
     "output_type": "stream",
     "text": [
      "exp\n"
     ]
    },
    {
     "data": {
      "text/html": [
       "<div>\n",
       "<style scoped>\n",
       "    .dataframe tbody tr th:only-of-type {\n",
       "        vertical-align: middle;\n",
       "    }\n",
       "\n",
       "    .dataframe tbody tr th {\n",
       "        vertical-align: top;\n",
       "    }\n",
       "\n",
       "    .dataframe thead th {\n",
       "        text-align: right;\n",
       "    }\n",
       "</style>\n",
       "<table border=\"1\" class=\"dataframe\">\n",
       "  <thead>\n",
       "    <tr style=\"text-align: right;\">\n",
       "      <th></th>\n",
       "      <th>Reservoir Sampling</th>\n",
       "      <th>Exact KS</th>\n",
       "      <th>GreedyKS</th>\n",
       "      <th>Lall + DDSketch</th>\n",
       "      <th>IKS + Reservoir</th>\n",
       "    </tr>\n",
       "  </thead>\n",
       "  <tbody>\n",
       "    <tr>\n",
       "      <th>$10^{-3}$</th>\n",
       "      <td>15/81/2658.2</td>\n",
       "      <td>10/0/581.5</td>\n",
       "      <td>11/0/661.3</td>\n",
       "      <td>100/0/nan</td>\n",
       "      <td>18/76/3838.3</td>\n",
       "    </tr>\n",
       "    <tr>\n",
       "      <th>$10^{-2.5}$</th>\n",
       "      <td>16/76/2813.1</td>\n",
       "      <td>4/0/562.4</td>\n",
       "      <td>5/0/601.3</td>\n",
       "      <td>42/0/333.0</td>\n",
       "      <td>24/59/2685.1</td>\n",
       "    </tr>\n",
       "    <tr>\n",
       "      <th>$10^{-2}$</th>\n",
       "      <td>8/70/4517.7</td>\n",
       "      <td>12/0/576.9</td>\n",
       "      <td>15/0/596.6</td>\n",
       "      <td>19/0/552.3</td>\n",
       "      <td>22/56/3697.1</td>\n",
       "    </tr>\n",
       "  </tbody>\n",
       "</table>\n",
       "</div>"
      ],
      "text/plain": [
       "            Reservoir Sampling    Exact KS    GreedyKS Lall + DDSketch  \\\n",
       "$10^{-3}$         15/81/2658.2  10/0/581.5  11/0/661.3       100/0/nan   \n",
       "$10^{-2.5}$       16/76/2813.1   4/0/562.4   5/0/601.3      42/0/333.0   \n",
       "$10^{-2}$          8/70/4517.7  12/0/576.9  15/0/596.6      19/0/552.3   \n",
       "\n",
       "            IKS + Reservoir  \n",
       "$10^{-3}$      18/76/3838.3  \n",
       "$10^{-2.5}$    24/59/2685.1  \n",
       "$10^{-2}$      22/56/3697.1  "
      ]
     },
     "metadata": {},
     "output_type": "display_data"
    },
    {
     "name": "stdout",
     "output_type": "stream",
     "text": [
      ">>>>>>>>>> mean_diff\n",
      "normal\n"
     ]
    },
    {
     "data": {
      "text/html": [
       "<div>\n",
       "<style scoped>\n",
       "    .dataframe tbody tr th:only-of-type {\n",
       "        vertical-align: middle;\n",
       "    }\n",
       "\n",
       "    .dataframe tbody tr th {\n",
       "        vertical-align: top;\n",
       "    }\n",
       "\n",
       "    .dataframe thead th {\n",
       "        text-align: right;\n",
       "    }\n",
       "</style>\n",
       "<table border=\"1\" class=\"dataframe\">\n",
       "  <thead>\n",
       "    <tr style=\"text-align: right;\">\n",
       "      <th></th>\n",
       "      <th>Reservoir Sampling</th>\n",
       "      <th>Exact KS</th>\n",
       "      <th>GreedyKS</th>\n",
       "      <th>Lall + DDSketch</th>\n",
       "      <th>IKS + Reservoir</th>\n",
       "    </tr>\n",
       "  </thead>\n",
       "  <tbody>\n",
       "    <tr>\n",
       "      <th>$10^{-2}$</th>\n",
       "      <td>6/83/4245.6</td>\n",
       "      <td>6/86/4008.8</td>\n",
       "      <td>6/88/3995.2</td>\n",
       "      <td>46/0/902.6</td>\n",
       "      <td>22/67/2596.2</td>\n",
       "    </tr>\n",
       "    <tr>\n",
       "      <th>$10^{-1.5}$</th>\n",
       "      <td>5/84/2078.2</td>\n",
       "      <td>8/33/4461.9</td>\n",
       "      <td>8/40/4619.8</td>\n",
       "      <td>38/0/746.9</td>\n",
       "      <td>31/53/2995.7</td>\n",
       "    </tr>\n",
       "    <tr>\n",
       "      <th>$10^{-1}$</th>\n",
       "      <td>10/70/2503.2</td>\n",
       "      <td>6/0/1471.0</td>\n",
       "      <td>7/0/1507.1</td>\n",
       "      <td>39/0/479.7</td>\n",
       "      <td>15/67/3087.1</td>\n",
       "    </tr>\n",
       "  </tbody>\n",
       "</table>\n",
       "</div>"
      ],
      "text/plain": [
       "            Reservoir Sampling     Exact KS     GreedyKS Lall + DDSketch  \\\n",
       "$10^{-2}$          6/83/4245.6  6/86/4008.8  6/88/3995.2      46/0/902.6   \n",
       "$10^{-1.5}$        5/84/2078.2  8/33/4461.9  8/40/4619.8      38/0/746.9   \n",
       "$10^{-1}$         10/70/2503.2   6/0/1471.0   7/0/1507.1      39/0/479.7   \n",
       "\n",
       "            IKS + Reservoir  \n",
       "$10^{-2}$      22/67/2596.2  \n",
       "$10^{-1.5}$    31/53/2995.7  \n",
       "$10^{-1}$      15/67/3087.1  "
      ]
     },
     "metadata": {},
     "output_type": "display_data"
    },
    {
     "name": "stdout",
     "output_type": "stream",
     "text": [
      "uniform\n"
     ]
    },
    {
     "data": {
      "text/html": [
       "<div>\n",
       "<style scoped>\n",
       "    .dataframe tbody tr th:only-of-type {\n",
       "        vertical-align: middle;\n",
       "    }\n",
       "\n",
       "    .dataframe tbody tr th {\n",
       "        vertical-align: top;\n",
       "    }\n",
       "\n",
       "    .dataframe thead th {\n",
       "        text-align: right;\n",
       "    }\n",
       "</style>\n",
       "<table border=\"1\" class=\"dataframe\">\n",
       "  <thead>\n",
       "    <tr style=\"text-align: right;\">\n",
       "      <th></th>\n",
       "      <th>Reservoir Sampling</th>\n",
       "      <th>Exact KS</th>\n",
       "      <th>GreedyKS</th>\n",
       "      <th>Lall + DDSketch</th>\n",
       "      <th>IKS + Reservoir</th>\n",
       "    </tr>\n",
       "  </thead>\n",
       "  <tbody>\n",
       "    <tr>\n",
       "      <th>$10^{-2}$</th>\n",
       "      <td>7/87/1637.8</td>\n",
       "      <td>10/75/4239.4</td>\n",
       "      <td>10/79/4099.7</td>\n",
       "      <td>42/0/740.5</td>\n",
       "      <td>23/62/2357.9</td>\n",
       "    </tr>\n",
       "    <tr>\n",
       "      <th>$10^{-1.5}$</th>\n",
       "      <td>8/84/3067.2</td>\n",
       "      <td>6/48/4951.5</td>\n",
       "      <td>7/52/5033.2</td>\n",
       "      <td>45/0/529.1</td>\n",
       "      <td>19/66/3088.3</td>\n",
       "    </tr>\n",
       "    <tr>\n",
       "      <th>$10^{-1}$</th>\n",
       "      <td>11/77/3467.1</td>\n",
       "      <td>7/0/1745.7</td>\n",
       "      <td>8/0/1810.5</td>\n",
       "      <td>46/0/406.2</td>\n",
       "      <td>23/60/2803.6</td>\n",
       "    </tr>\n",
       "  </tbody>\n",
       "</table>\n",
       "</div>"
      ],
      "text/plain": [
       "            Reservoir Sampling      Exact KS      GreedyKS Lall + DDSketch  \\\n",
       "$10^{-2}$          7/87/1637.8  10/75/4239.4  10/79/4099.7      42/0/740.5   \n",
       "$10^{-1.5}$        8/84/3067.2   6/48/4951.5   7/52/5033.2      45/0/529.1   \n",
       "$10^{-1}$         11/77/3467.1    7/0/1745.7    8/0/1810.5      46/0/406.2   \n",
       "\n",
       "            IKS + Reservoir  \n",
       "$10^{-2}$      23/62/2357.9  \n",
       "$10^{-1.5}$    19/66/3088.3  \n",
       "$10^{-1}$      23/60/2803.6  "
      ]
     },
     "metadata": {},
     "output_type": "display_data"
    },
    {
     "name": "stdout",
     "output_type": "stream",
     "text": [
      "exp\n"
     ]
    },
    {
     "data": {
      "text/html": [
       "<div>\n",
       "<style scoped>\n",
       "    .dataframe tbody tr th:only-of-type {\n",
       "        vertical-align: middle;\n",
       "    }\n",
       "\n",
       "    .dataframe tbody tr th {\n",
       "        vertical-align: top;\n",
       "    }\n",
       "\n",
       "    .dataframe thead th {\n",
       "        text-align: right;\n",
       "    }\n",
       "</style>\n",
       "<table border=\"1\" class=\"dataframe\">\n",
       "  <thead>\n",
       "    <tr style=\"text-align: right;\">\n",
       "      <th></th>\n",
       "      <th>Reservoir Sampling</th>\n",
       "      <th>Exact KS</th>\n",
       "      <th>GreedyKS</th>\n",
       "      <th>Lall + DDSketch</th>\n",
       "      <th>IKS + Reservoir</th>\n",
       "    </tr>\n",
       "  </thead>\n",
       "  <tbody>\n",
       "    <tr>\n",
       "      <th>$10^{-2}$</th>\n",
       "      <td>8/80/1821.9</td>\n",
       "      <td>14/64/4516.0</td>\n",
       "      <td>10/70/4389.8</td>\n",
       "      <td>20/9/3929.9</td>\n",
       "      <td>23/58/3377.6</td>\n",
       "    </tr>\n",
       "    <tr>\n",
       "      <th>$10^{-1.5}$</th>\n",
       "      <td>7/86/2256.1</td>\n",
       "      <td>8/0/2371.5</td>\n",
       "      <td>9/0/2505.2</td>\n",
       "      <td>19/0/1970.0</td>\n",
       "      <td>29/57/2641.6</td>\n",
       "    </tr>\n",
       "    <tr>\n",
       "      <th>$10^{-1}$</th>\n",
       "      <td>9/62/3182.3</td>\n",
       "      <td>6/0/569.4</td>\n",
       "      <td>8/0/584.6</td>\n",
       "      <td>14/0/530.3</td>\n",
       "      <td>18/57/4048.1</td>\n",
       "    </tr>\n",
       "  </tbody>\n",
       "</table>\n",
       "</div>"
      ],
      "text/plain": [
       "            Reservoir Sampling      Exact KS      GreedyKS Lall + DDSketch  \\\n",
       "$10^{-2}$          8/80/1821.9  14/64/4516.0  10/70/4389.8     20/9/3929.9   \n",
       "$10^{-1.5}$        7/86/2256.1    8/0/2371.5    9/0/2505.2     19/0/1970.0   \n",
       "$10^{-1}$          9/62/3182.3     6/0/569.4     8/0/584.6      14/0/530.3   \n",
       "\n",
       "            IKS + Reservoir  \n",
       "$10^{-2}$      23/58/3377.6  \n",
       "$10^{-1.5}$    29/57/2641.6  \n",
       "$10^{-1}$      18/57/4048.1  "
      ]
     },
     "metadata": {},
     "output_type": "display_data"
    },
    {
     "name": "stdout",
     "output_type": "stream",
     "text": [
      ">>>>>>>>>> std_diff\n",
      "normal\n"
     ]
    },
    {
     "data": {
      "text/html": [
       "<div>\n",
       "<style scoped>\n",
       "    .dataframe tbody tr th:only-of-type {\n",
       "        vertical-align: middle;\n",
       "    }\n",
       "\n",
       "    .dataframe tbody tr th {\n",
       "        vertical-align: top;\n",
       "    }\n",
       "\n",
       "    .dataframe thead th {\n",
       "        text-align: right;\n",
       "    }\n",
       "</style>\n",
       "<table border=\"1\" class=\"dataframe\">\n",
       "  <thead>\n",
       "    <tr style=\"text-align: right;\">\n",
       "      <th></th>\n",
       "      <th>Reservoir Sampling</th>\n",
       "      <th>Exact KS</th>\n",
       "      <th>GreedyKS</th>\n",
       "      <th>Lall + DDSketch</th>\n",
       "      <th>IKS + Reservoir</th>\n",
       "    </tr>\n",
       "  </thead>\n",
       "  <tbody>\n",
       "    <tr>\n",
       "      <th>$10^{-2}$</th>\n",
       "      <td>16/78/2190.5</td>\n",
       "      <td>14/76/3254.5</td>\n",
       "      <td>14/79/2487.3</td>\n",
       "      <td>37/0/958.2</td>\n",
       "      <td>21/66/3452.1</td>\n",
       "    </tr>\n",
       "    <tr>\n",
       "      <th>$10^{-1.5}$</th>\n",
       "      <td>9/84/3602.7</td>\n",
       "      <td>9/72/3447.2</td>\n",
       "      <td>10/74/3073.8</td>\n",
       "      <td>40/0/869.4</td>\n",
       "      <td>20/63/3172.3</td>\n",
       "    </tr>\n",
       "    <tr>\n",
       "      <th>$10^{-1}$</th>\n",
       "      <td>10/80/2686.8</td>\n",
       "      <td>8/0/2966.7</td>\n",
       "      <td>7/0/3107.5</td>\n",
       "      <td>37/0/758.7</td>\n",
       "      <td>22/63/2514.6</td>\n",
       "    </tr>\n",
       "  </tbody>\n",
       "</table>\n",
       "</div>"
      ],
      "text/plain": [
       "            Reservoir Sampling      Exact KS      GreedyKS Lall + DDSketch  \\\n",
       "$10^{-2}$         16/78/2190.5  14/76/3254.5  14/79/2487.3      37/0/958.2   \n",
       "$10^{-1.5}$        9/84/3602.7   9/72/3447.2  10/74/3073.8      40/0/869.4   \n",
       "$10^{-1}$         10/80/2686.8    8/0/2966.7    7/0/3107.5      37/0/758.7   \n",
       "\n",
       "            IKS + Reservoir  \n",
       "$10^{-2}$      21/66/3452.1  \n",
       "$10^{-1.5}$    20/63/3172.3  \n",
       "$10^{-1}$      22/63/2514.6  "
      ]
     },
     "metadata": {},
     "output_type": "display_data"
    },
    {
     "name": "stdout",
     "output_type": "stream",
     "text": [
      "uniform\n"
     ]
    },
    {
     "data": {
      "text/html": [
       "<div>\n",
       "<style scoped>\n",
       "    .dataframe tbody tr th:only-of-type {\n",
       "        vertical-align: middle;\n",
       "    }\n",
       "\n",
       "    .dataframe tbody tr th {\n",
       "        vertical-align: top;\n",
       "    }\n",
       "\n",
       "    .dataframe thead th {\n",
       "        text-align: right;\n",
       "    }\n",
       "</style>\n",
       "<table border=\"1\" class=\"dataframe\">\n",
       "  <thead>\n",
       "    <tr style=\"text-align: right;\">\n",
       "      <th></th>\n",
       "      <th>Reservoir Sampling</th>\n",
       "      <th>Exact KS</th>\n",
       "      <th>GreedyKS</th>\n",
       "      <th>Lall + DDSketch</th>\n",
       "      <th>IKS + Reservoir</th>\n",
       "    </tr>\n",
       "  </thead>\n",
       "  <tbody>\n",
       "    <tr>\n",
       "      <th>$10^{-2}$</th>\n",
       "      <td>8/83/2225.8</td>\n",
       "      <td>2/84/4790.1</td>\n",
       "      <td>2/85/4801.1</td>\n",
       "      <td>35/0/669.6</td>\n",
       "      <td>22/63/3408.7</td>\n",
       "    </tr>\n",
       "    <tr>\n",
       "      <th>$10^{-1.5}$</th>\n",
       "      <td>11/79/3922.6</td>\n",
       "      <td>5/43/6326.9</td>\n",
       "      <td>5/49/6249.7</td>\n",
       "      <td>39/0/520.0</td>\n",
       "      <td>17/68/3178.7</td>\n",
       "    </tr>\n",
       "    <tr>\n",
       "      <th>$10^{-1}$</th>\n",
       "      <td>18/70/3054.5</td>\n",
       "      <td>7/0/1399.4</td>\n",
       "      <td>9/0/1443.1</td>\n",
       "      <td>39/0/290.0</td>\n",
       "      <td>17/66/3004.4</td>\n",
       "    </tr>\n",
       "  </tbody>\n",
       "</table>\n",
       "</div>"
      ],
      "text/plain": [
       "            Reservoir Sampling     Exact KS     GreedyKS Lall + DDSketch  \\\n",
       "$10^{-2}$          8/83/2225.8  2/84/4790.1  2/85/4801.1      35/0/669.6   \n",
       "$10^{-1.5}$       11/79/3922.6  5/43/6326.9  5/49/6249.7      39/0/520.0   \n",
       "$10^{-1}$         18/70/3054.5   7/0/1399.4   9/0/1443.1      39/0/290.0   \n",
       "\n",
       "            IKS + Reservoir  \n",
       "$10^{-2}$      22/63/3408.7  \n",
       "$10^{-1.5}$    17/68/3178.7  \n",
       "$10^{-1}$      17/66/3004.4  "
      ]
     },
     "metadata": {},
     "output_type": "display_data"
    },
    {
     "name": "stdout",
     "output_type": "stream",
     "text": [
      "exp\n"
     ]
    },
    {
     "data": {
      "text/html": [
       "<div>\n",
       "<style scoped>\n",
       "    .dataframe tbody tr th:only-of-type {\n",
       "        vertical-align: middle;\n",
       "    }\n",
       "\n",
       "    .dataframe tbody tr th {\n",
       "        vertical-align: top;\n",
       "    }\n",
       "\n",
       "    .dataframe thead th {\n",
       "        text-align: right;\n",
       "    }\n",
       "</style>\n",
       "<table border=\"1\" class=\"dataframe\">\n",
       "  <thead>\n",
       "    <tr style=\"text-align: right;\">\n",
       "      <th></th>\n",
       "      <th>Reservoir Sampling</th>\n",
       "      <th>Exact KS</th>\n",
       "      <th>GreedyKS</th>\n",
       "      <th>Lall + DDSketch</th>\n",
       "      <th>IKS + Reservoir</th>\n",
       "    </tr>\n",
       "  </thead>\n",
       "  <tbody>\n",
       "    <tr>\n",
       "      <th>$10^{-2}$</th>\n",
       "      <td>11/80/3072.9</td>\n",
       "      <td>12/79/4424.8</td>\n",
       "      <td>12/81/4141.9</td>\n",
       "      <td>34/0/1566.1</td>\n",
       "      <td>23/62/2674.0</td>\n",
       "    </tr>\n",
       "    <tr>\n",
       "      <th>$10^{-1.5}$</th>\n",
       "      <td>13/80/3898.7</td>\n",
       "      <td>10/0/3135.4</td>\n",
       "      <td>10/0/3270.1</td>\n",
       "      <td>33/0/1261.4</td>\n",
       "      <td>18/66/3621.6</td>\n",
       "    </tr>\n",
       "    <tr>\n",
       "      <th>$10^{-1}$</th>\n",
       "      <td>13/71/3090.6</td>\n",
       "      <td>8/0/678.5</td>\n",
       "      <td>8/0/682.8</td>\n",
       "      <td>22/0/532.7</td>\n",
       "      <td>21/63/2786.3</td>\n",
       "    </tr>\n",
       "  </tbody>\n",
       "</table>\n",
       "</div>"
      ],
      "text/plain": [
       "            Reservoir Sampling      Exact KS      GreedyKS Lall + DDSketch  \\\n",
       "$10^{-2}$         11/80/3072.9  12/79/4424.8  12/81/4141.9     34/0/1566.1   \n",
       "$10^{-1.5}$       13/80/3898.7   10/0/3135.4   10/0/3270.1     33/0/1261.4   \n",
       "$10^{-1}$         13/71/3090.6     8/0/678.5     8/0/682.8      22/0/532.7   \n",
       "\n",
       "            IKS + Reservoir  \n",
       "$10^{-2}$      23/62/2674.0  \n",
       "$10^{-1.5}$    18/66/3621.6  \n",
       "$10^{-1}$      21/63/2786.3  "
      ]
     },
     "metadata": {},
     "output_type": "display_data"
    }
   ],
   "source": [
    "for e in experiments:\n",
    "    f = 'effectiveness_' + e[-1]  + '.pkl'\n",
    "    results = pd.read_pickle('./data_pdf_files/' + f)\n",
    "    exp_type = f[f.find('_') + 1 : f.rfind('.')]\n",
    "    print('>' * 10, exp_type)\n",
    "    res = util.plot_table(results, exp_type, './data_pdf_files/effectiveness_' + exp_type)\n",
    "    for k in res:\n",
    "        print(k)\n",
    "        display(res[k])\n"
   ]
  },
  {
   "cell_type": "code",
   "execution_count": null,
   "metadata": {},
   "outputs": [],
   "source": []
  }
 ],
 "metadata": {
  "kernelspec": {
   "display_name": "Python 3 (ipykernel)",
   "language": "python",
   "name": "python3"
  },
  "language_info": {
   "codemirror_mode": {
    "name": "ipython",
    "version": 3
   },
   "file_extension": ".py",
   "mimetype": "text/x-python",
   "name": "python",
   "nbconvert_exporter": "python",
   "pygments_lexer": "ipython3",
   "version": "3.8.10"
  }
 },
 "nbformat": 4,
 "nbformat_minor": 4
}

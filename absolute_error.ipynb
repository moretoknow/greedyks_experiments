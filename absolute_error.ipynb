{
 "cells": [
  {
   "cell_type": "code",
   "execution_count": 1,
   "id": "18c8f297",
   "metadata": {
    "ExecuteTime": {
     "end_time": "2022-03-24T14:56:39.200508Z",
     "start_time": "2022-03-24T14:56:38.056221Z"
    }
   },
   "outputs": [],
   "source": [
    "import numpy as np\n",
    "import time\n",
    "import jcs_paper_util as util"
   ]
  },
  {
   "cell_type": "code",
   "execution_count": 2,
   "id": "5e6d34a3",
   "metadata": {
    "ExecuteTime": {
     "end_time": "2022-03-24T14:56:40.059871Z",
     "start_time": "2022-03-24T14:56:40.052655Z"
    }
   },
   "outputs": [],
   "source": [
    "util.matplotlib_setup()\n",
    "util.default_num_reps = 2"
   ]
  },
  {
   "cell_type": "code",
   "execution_count": null,
   "id": "d4d130b7",
   "metadata": {
    "ExecuteTime": {
     "start_time": "2022-03-24T14:56:41.547Z"
    },
    "scrolled": false
   },
   "outputs": [
    {
     "name": "stdout",
     "output_type": "stream",
     "text": [
      "sample_size\n"
     ]
    },
    {
     "name": "stderr",
     "output_type": "stream",
     "text": [
      "100%|██████████████████████████████████████████████████████████████████████████████████████████| 18/18 [00:33<00:00,  1.88s/it]\n"
     ]
    },
    {
     "name": "stdout",
     "output_type": "stream",
     "text": [
      "memo_perct\n"
     ]
    },
    {
     "name": "stderr",
     "output_type": "stream",
     "text": [
      "100%|██████████████████████████████████████████████████████████████████████████████████████████| 18/18 [02:53<00:00,  9.63s/it]\n"
     ]
    },
    {
     "name": "stdout",
     "output_type": "stream",
     "text": [
      "mean_diff\n"
     ]
    },
    {
     "name": "stderr",
     "output_type": "stream",
     "text": [
      "100%|██████████████████████████████████████████████████████████████████████████████████████████| 18/18 [01:35<00:00,  5.32s/it]\n"
     ]
    },
    {
     "name": "stdout",
     "output_type": "stream",
     "text": [
      "std_diff\n"
     ]
    },
    {
     "name": "stderr",
     "output_type": "stream",
     "text": [
      "\r",
      "  0%|                                                                                                   | 0/18 [00:00<?, ?it/s]"
     ]
    }
   ],
   "source": [
    "experiments = [\n",
    "    [{'sample_size': 10 ** np.arange(3, 6)}, 'Sample size', 'sample_size'],\n",
    "    [{'memo_perct': 10. ** np.arange(-3, 0)}, 'Memory fraction', 'memo_perct'],\n",
    "    [{'mean_diff': 10. ** np.arange(-3, 0)}, 'Difference in distribution mean', 'mean_diff'],\n",
    "    [{'std_diff': 10. ** np.arange(-3, 0), 'mean_diff':[0]}, 'Difference in distribution standard deviation', 'std_diff'],\n",
    "]\n",
    "\n",
    "for e in experiments:\n",
    "    print(e[2])\n",
    "    results = util.get_results(**e[0])\n",
    "    timestamp = int(time.time())\n",
    "    results.to_pickle('./data_pdf_files/abs_error_{}_{}.pkl'.format(e[2], timestamp))\n",
    "    util.plot_errors(\n",
    "        results,\n",
    "        ['title_norm', 'title_uniform', 'title_expon'],\n",
    "        'Absolute error',\n",
    "        e[1],\n",
    "        e[2],\n",
    "        \"./data_pdf_files/abs_error_{}.pdf\".format(e[2])\n",
    "        )"
   ]
  },
  {
   "cell_type": "code",
   "execution_count": null,
   "id": "850bbfc1",
   "metadata": {},
   "outputs": [],
   "source": []
  }
 ],
 "metadata": {
  "celltoolbar": "Raw Cell Format",
  "kernelspec": {
   "display_name": "Python 3 (ipykernel)",
   "language": "python",
   "name": "python3"
  },
  "language_info": {
   "codemirror_mode": {
    "name": "ipython",
    "version": 3
   },
   "file_extension": ".py",
   "mimetype": "text/x-python",
   "name": "python",
   "nbconvert_exporter": "python",
   "pygments_lexer": "ipython3",
   "version": "3.9.7"
  }
 },
 "nbformat": 4,
 "nbformat_minor": 5
}

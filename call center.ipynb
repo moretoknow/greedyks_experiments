{
 "cells": [
  {
   "cell_type": "code",
   "execution_count": 1,
   "id": "f76ce014",
   "metadata": {
    "ExecuteTime": {
     "end_time": "2022-05-30T00:42:32.459613Z",
     "start_time": "2022-05-30T00:42:31.326052Z"
    }
   },
   "outputs": [],
   "source": [
    "import jcs_paper_util as util\n",
    "import pandas as pd\n",
    "import scipy.stats as st\n",
    "import numpy as np\n",
    "import seaborn as sns\n",
    "import matplotlib.pyplot as plt\n",
    "import matplotlib\n",
    "import time\n",
    "\n",
    "font = {\n",
    "    'family':'serif', \n",
    "    'weight':'normal', \n",
    "    'size':8\n",
    "}\n",
    "matplotlib.rc('font', **font)\n",
    "\n",
    "pd.options.display.float_format = '{:,.4f}'.format"
   ]
  },
  {
   "cell_type": "code",
   "execution_count": 2,
   "id": "0ae4239d",
   "metadata": {
    "ExecuteTime": {
     "end_time": "2022-05-30T00:42:32.467549Z",
     "start_time": "2022-05-30T00:42:32.462765Z"
    }
   },
   "outputs": [],
   "source": [
    "def show_results(results):\n",
    "    #display((results == float('inf')).sum(0))\n",
    "    #results = results.replace(float('inf'), float('nan'))\n",
    "    display(results.describe())\n",
    "    \n",
    "    display(pd.DataFrame({i: st.wilcoxon(results[i], results['GreedyKS'])._asdict() for i in results if i != 'GreedyKS'}))\n",
    "    \n",
    "    fig, axs = plt.subplots(1, 2, figsize=(7.,2.))\n",
    "    \n",
    "    colors = sns.color_palette(\"Set1\", 4)\n",
    "\n",
    "    bps = axs[0].boxplot(results, vert=False, labels=results.columns, patch_artist=True)\n",
    "    axs[0].set_xscale('log')\n",
    "    axs[0].set_xlabel('DTW value')\n",
    "    \n",
    "    for i, j in zip(bps['boxes'],colors):\n",
    "        i.set_facecolor(j)\n",
    "        \n",
    "    for i in bps['medians']:\n",
    "        i.set_color('black')\n",
    "    \n",
    "    sns.ecdfplot(results, log_scale=True, ax=axs[1], palette=colors, legend=False)\n",
    "    axs[1].grid()\n",
    "    axs[1].set_ylim([-0.05, 1.05])\n",
    "    axs[1].set_ylabel('Cumulative Probability')\n",
    "    \n",
    "    axs[1].set_xlabel('DTW value')\n",
    "    \n",
    "    \n",
    "    \n",
    "    fig.tight_layout()\n",
    "    \n",
    "    fig.savefig('./data_pdf_files/call_center.pdf')"
   ]
  },
  {
   "cell_type": "code",
   "execution_count": 3,
   "id": "7029b50b",
   "metadata": {
    "ExecuteTime": {
     "end_time": "2022-05-30T00:21:37.658704Z",
     "start_time": "2022-05-30T00:20:57.533082Z"
    }
   },
   "outputs": [],
   "source": [
    "ts_all = util.load_call_center_data()"
   ]
  },
  {
   "cell_type": "code",
   "execution_count": 4,
   "id": "f9aa298c",
   "metadata": {
    "ExecuteTime": {
     "end_time": "2022-05-29T22:12:20.393450Z",
     "start_time": "2022-05-29T22:03:09.077877Z"
    }
   },
   "outputs": [
    {
     "name": "stderr",
     "output_type": "stream",
     "text": [
      "100%|███████████████████████████████████████████████████████████████████████████████████████████████████████████████████████████████████████████| 53/53 [09:11<00:00, 10.40s/it]\n"
     ]
    }
   ],
   "source": [
    "num_bins, samples, period = 100, [i[1] for i in ts_all.groupby([ts_all.dt.isocalendar().week])], 'week'\n",
    "\n",
    "results = util.get_results_call_center(num_bins, samples, 10)"
   ]
  },
  {
   "cell_type": "code",
   "execution_count": 5,
   "id": "8a26b14c",
   "metadata": {
    "ExecuteTime": {
     "end_time": "2022-05-30T00:24:31.936291Z",
     "start_time": "2022-05-30T00:24:31.933493Z"
    }
   },
   "outputs": [
    {
     "name": "stdout",
     "output_type": "stream",
     "text": [
      "./data_pdf_files/call_center_1653861580.pkl\n"
     ]
    }
   ],
   "source": [
    "filename = f'./data_pdf_files/call_center_{int(time.time())}.pkl'\n",
    "results.to_pickle(filename)\n",
    "print(filename)  # ./data_pdf_files/call_center_1653861580.pkl"
   ]
  },
  {
   "cell_type": "code",
   "execution_count": 6,
   "id": "69fa2903",
   "metadata": {
    "ExecuteTime": {
     "end_time": "2022-05-30T00:42:40.858471Z",
     "start_time": "2022-05-30T00:42:40.389699Z"
    },
    "scrolled": false
   },
   "outputs": [
    {
     "data": {
      "text/html": [
       "<div>\n",
       "<style scoped>\n",
       "    .dataframe tbody tr th:only-of-type {\n",
       "        vertical-align: middle;\n",
       "    }\n",
       "\n",
       "    .dataframe tbody tr th {\n",
       "        vertical-align: top;\n",
       "    }\n",
       "\n",
       "    .dataframe thead th {\n",
       "        text-align: right;\n",
       "    }\n",
       "</style>\n",
       "<table border=\"1\" class=\"dataframe\">\n",
       "  <thead>\n",
       "    <tr style=\"text-align: right;\">\n",
       "      <th></th>\n",
       "      <th>GreedyKS</th>\n",
       "      <th>Reservoir Sampling</th>\n",
       "      <th>IKS + RS</th>\n",
       "      <th>Lall + DDSketch</th>\n",
       "    </tr>\n",
       "  </thead>\n",
       "  <tbody>\n",
       "    <tr>\n",
       "      <th>count</th>\n",
       "      <td>53.0000</td>\n",
       "      <td>53.0000</td>\n",
       "      <td>53.0000</td>\n",
       "      <td>53.0000</td>\n",
       "    </tr>\n",
       "    <tr>\n",
       "      <th>mean</th>\n",
       "      <td>537.5678</td>\n",
       "      <td>12,862.1835</td>\n",
       "      <td>16,108.2035</td>\n",
       "      <td>785.9953</td>\n",
       "    </tr>\n",
       "    <tr>\n",
       "      <th>std</th>\n",
       "      <td>221.9466</td>\n",
       "      <td>10,301.4913</td>\n",
       "      <td>9,947.7231</td>\n",
       "      <td>258.5317</td>\n",
       "    </tr>\n",
       "    <tr>\n",
       "      <th>min</th>\n",
       "      <td>117.1324</td>\n",
       "      <td>1,120.7881</td>\n",
       "      <td>2,523.2513</td>\n",
       "      <td>268.2201</td>\n",
       "    </tr>\n",
       "    <tr>\n",
       "      <th>25%</th>\n",
       "      <td>403.3510</td>\n",
       "      <td>2,810.3608</td>\n",
       "      <td>7,511.9639</td>\n",
       "      <td>580.2982</td>\n",
       "    </tr>\n",
       "    <tr>\n",
       "      <th>50%</th>\n",
       "      <td>497.7027</td>\n",
       "      <td>9,846.2981</td>\n",
       "      <td>13,651.6537</td>\n",
       "      <td>787.9670</td>\n",
       "    </tr>\n",
       "    <tr>\n",
       "      <th>75%</th>\n",
       "      <td>647.9213</td>\n",
       "      <td>24,151.2010</td>\n",
       "      <td>25,217.7896</td>\n",
       "      <td>915.9405</td>\n",
       "    </tr>\n",
       "    <tr>\n",
       "      <th>max</th>\n",
       "      <td>1,193.8928</td>\n",
       "      <td>32,226.0063</td>\n",
       "      <td>39,794.1949</td>\n",
       "      <td>1,346.1508</td>\n",
       "    </tr>\n",
       "  </tbody>\n",
       "</table>\n",
       "</div>"
      ],
      "text/plain": [
       "        GreedyKS  Reservoir Sampling    IKS + RS  Lall + DDSketch\n",
       "count    53.0000             53.0000     53.0000          53.0000\n",
       "mean    537.5678         12,862.1835 16,108.2035         785.9953\n",
       "std     221.9466         10,301.4913  9,947.7231         258.5317\n",
       "min     117.1324          1,120.7881  2,523.2513         268.2201\n",
       "25%     403.3510          2,810.3608  7,511.9639         580.2982\n",
       "50%     497.7027          9,846.2981 13,651.6537         787.9670\n",
       "75%     647.9213         24,151.2010 25,217.7896         915.9405\n",
       "max   1,193.8928         32,226.0063 39,794.1949       1,346.1508"
      ]
     },
     "metadata": {},
     "output_type": "display_data"
    },
    {
     "data": {
      "text/html": [
       "<div>\n",
       "<style scoped>\n",
       "    .dataframe tbody tr th:only-of-type {\n",
       "        vertical-align: middle;\n",
       "    }\n",
       "\n",
       "    .dataframe tbody tr th {\n",
       "        vertical-align: top;\n",
       "    }\n",
       "\n",
       "    .dataframe thead th {\n",
       "        text-align: right;\n",
       "    }\n",
       "</style>\n",
       "<table border=\"1\" class=\"dataframe\">\n",
       "  <thead>\n",
       "    <tr style=\"text-align: right;\">\n",
       "      <th></th>\n",
       "      <th>Reservoir Sampling</th>\n",
       "      <th>IKS + RS</th>\n",
       "      <th>Lall + DDSketch</th>\n",
       "    </tr>\n",
       "  </thead>\n",
       "  <tbody>\n",
       "    <tr>\n",
       "      <th>statistic</th>\n",
       "      <td>0.0000</td>\n",
       "      <td>0.0000</td>\n",
       "      <td>171.0000</td>\n",
       "    </tr>\n",
       "    <tr>\n",
       "      <th>pvalue</th>\n",
       "      <td>0.0000</td>\n",
       "      <td>0.0000</td>\n",
       "      <td>0.0000</td>\n",
       "    </tr>\n",
       "  </tbody>\n",
       "</table>\n",
       "</div>"
      ],
      "text/plain": [
       "           Reservoir Sampling  IKS + RS  Lall + DDSketch\n",
       "statistic              0.0000    0.0000         171.0000\n",
       "pvalue                 0.0000    0.0000           0.0000"
      ]
     },
     "metadata": {},
     "output_type": "display_data"
    },
    {
     "data": {
      "image/png": "[encoded data removed]",
      "text/plain": [
       "<Figure size 504x144 with 2 Axes>"
      ]
     },
     "metadata": {
      "needs_background": "light"
     },
     "output_type": "display_data"
    }
   ],
   "source": [
    "show_results(results)"
   ]
  }
 ],
 "metadata": {
  "kernelspec": {
   "display_name": "Python 3 (ipykernel)",
   "language": "python",
   "name": "python3"
  },
  "language_info": {
   "codemirror_mode": {
    "name": "ipython",
    "version": 3
   },
   "file_extension": ".py",
   "mimetype": "text/x-python",
   "name": "python",
   "nbconvert_exporter": "python",
   "pygments_lexer": "ipython3",
   "version": "3.9.7"
  }
 },
 "nbformat": 4,
 "nbformat_minor": 5
}

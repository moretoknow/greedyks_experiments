{
 "cells": [
  {
   "cell_type": "code",
   "execution_count": 1,
   "metadata": {
    "ExecuteTime": {
     "end_time": "2022-04-14T04:09:53.831022Z",
     "start_time": "2022-04-14T04:09:52.699586Z"
    }
   },
   "outputs": [],
   "source": [
    "import numpy as np\n",
    "import time\n",
    "import jcs_paper_util as util\n",
    "import pandas as pd"
   ]
  },
  {
   "cell_type": "code",
   "execution_count": 2,
   "metadata": {
    "ExecuteTime": {
     "end_time": "2022-04-14T04:09:53.835955Z",
     "start_time": "2022-04-14T04:09:53.832218Z"
    }
   },
   "outputs": [],
   "source": [
    "util.matplotlib_setup()\n",
    "util.default_num_reps = 100\n",
    "util.eval_error_D = util.eval_effectiveness\n",
    "util.approx_methods = ['Reservoir Sampling', 'Exact KS','GreedyKS', 'Lall + DDSketch', 'IKS + Reservoir']"
   ]
  },
  {
   "cell_type": "code",
   "execution_count": 3,
   "metadata": {
    "ExecuteTime": {
     "end_time": "2022-04-14T08:12:03.012247Z",
     "start_time": "2022-04-14T04:09:53.837086Z"
    },
    "scrolled": false
   },
   "outputs": [
    {
     "name": "stdout",
     "output_type": "stream",
     "text": [
      ">>>>>>>>>> sample_size\n"
     ]
    },
    {
     "name": "stderr",
     "output_type": "stream",
     "text": [
      "100%|█████████████████████████████████████████████████████████████████████████████████████████████████████████████████████████████████████████| 900/900 [28:35<00:00,  1.91s/it]"
     ]
    },
    {
     "name": "stdout",
     "output_type": "stream",
     "text": [
      ">>>>>>>>>> memo_perct\n"
     ]
    },
    {
     "name": "stderr",
     "output_type": "stream",
     "text": [
      "\n",
      "900it [42:57,  2.86s/it]                                                                                                                                                        "
     ]
    },
    {
     "name": "stdout",
     "output_type": "stream",
     "text": [
      ">>>>>>>>>> mean_diff\n"
     ]
    },
    {
     "name": "stderr",
     "output_type": "stream",
     "text": [
      "\n",
      "900it [1:26:24,  5.76s/it]                                                                                                                                                      "
     ]
    },
    {
     "name": "stdout",
     "output_type": "stream",
     "text": [
      ">>>>>>>>>> std_diff\n"
     ]
    },
    {
     "name": "stderr",
     "output_type": "stream",
     "text": [
      "\n",
      "900it [1:24:10,  5.61s/it]                                                                                                                                                      \n"
     ]
    }
   ],
   "source": [
    "experiments = [\n",
    "    [{'sample_size': (10 ** np.arange(3, 4.5, 0.5)).astype(int)}, 'Sample size', 'sample_size'],\n",
    "    [{'memo_perct': 10. ** np.arange(-3, -1.5, 0.5)}, 'Memory fraction', 'memo_perct'],\n",
    "    [{'mean_diff': 10. ** np.arange(-2, -0.5, 0.5)}, 'Difference in distribution mean', 'mean_diff'],\n",
    "    [{'std_diff': 10. ** np.arange(-2, -0.5, 0.5), 'mean_diff':[0]}, 'Difference in distribution standard deviation', 'std_diff'],\n",
    "]\n",
    "\n",
    "for e in experiments:\n",
    "    print('>' * 10, e[2])\n",
    "    kwargs = {'sample_size': (10**4,)}\n",
    "    kwargs.update(e[0])\n",
    "    results = util.get_results(**kwargs)\n",
    "    timestamp = int(time.time())\n",
    "    e.append('effectiveness_{}_{}.pkl'.format(e[2], timestamp))\n",
    "    results.to_pickle('./data_pdf_files/' + e[-1])"
   ]
  },
  {
   "cell_type": "code",
   "execution_count": 13,
   "metadata": {
    "ExecuteTime": {
     "end_time": "2022-04-14T08:25:32.515141Z",
     "start_time": "2022-04-14T08:25:31.907750Z"
    },
    "scrolled": false
   },
   "outputs": [
    {
     "name": "stdout",
     "output_type": "stream",
     "text": [
      ">>>>>>>>>> sample_size\n",
      "normal\n"
     ]
    },
    {
     "data": {
      "text/html": [
       "<div>\n",
       "<style scoped>\n",
       "    .dataframe tbody tr th:only-of-type {\n",
       "        vertical-align: middle;\n",
       "    }\n",
       "\n",
       "    .dataframe tbody tr th {\n",
       "        vertical-align: top;\n",
       "    }\n",
       "\n",
       "    .dataframe thead th {\n",
       "        text-align: right;\n",
       "    }\n",
       "</style>\n",
       "<table border=\"1\" class=\"dataframe\">\n",
       "  <thead>\n",
       "    <tr style=\"text-align: right;\">\n",
       "      <th></th>\n",
       "      <th>GreedyKS</th>\n",
       "      <th>Reservoir Sampling</th>\n",
       "      <th>Lall + DDSketch</th>\n",
       "      <th>IKS + Reservoir</th>\n",
       "    </tr>\n",
       "  </thead>\n",
       "  <tbody>\n",
       "    <tr>\n",
       "      <th>$10^3$</th>\n",
       "      <td>6 / 53 / 521.44</td>\n",
       "      <td>9 / 81 / 217.00</td>\n",
       "      <td>94 / 0 / 19.83</td>\n",
       "      <td>11 / 81 / 144.88</td>\n",
       "    </tr>\n",
       "    <tr>\n",
       "      <th>$10^{3.5}$</th>\n",
       "      <td>14 / 1 / 1233.86</td>\n",
       "      <td>10 / 82 / 1122.25</td>\n",
       "      <td>72 / 0 / 104.82</td>\n",
       "      <td>17 / 62 / 1055.57</td>\n",
       "    </tr>\n",
       "    <tr>\n",
       "      <th>$10^4$</th>\n",
       "      <td>13 / 0 / 1566.70</td>\n",
       "      <td>12 / 69 / 3247.16</td>\n",
       "      <td>36 / 0 / 482.94</td>\n",
       "      <td>21 / 55 / 2622.83</td>\n",
       "    </tr>\n",
       "  </tbody>\n",
       "</table>\n",
       "</div>"
      ],
      "text/plain": [
       "                    GreedyKS Reservoir Sampling  Lall + DDSketch  \\\n",
       "$10^3$       6 / 53 / 521.44    9 / 81 / 217.00   94 / 0 / 19.83   \n",
       "$10^{3.5}$  14 / 1 / 1233.86  10 / 82 / 1122.25  72 / 0 / 104.82   \n",
       "$10^4$      13 / 0 / 1566.70  12 / 69 / 3247.16  36 / 0 / 482.94   \n",
       "\n",
       "              IKS + Reservoir  \n",
       "$10^3$       11 / 81 / 144.88  \n",
       "$10^{3.5}$  17 / 62 / 1055.57  \n",
       "$10^4$      21 / 55 / 2622.83  "
      ]
     },
     "metadata": {},
     "output_type": "display_data"
    },
    {
     "name": "stdout",
     "output_type": "stream",
     "text": [
      "uniform\n"
     ]
    },
    {
     "data": {
      "text/html": [
       "<div>\n",
       "<style scoped>\n",
       "    .dataframe tbody tr th:only-of-type {\n",
       "        vertical-align: middle;\n",
       "    }\n",
       "\n",
       "    .dataframe tbody tr th {\n",
       "        vertical-align: top;\n",
       "    }\n",
       "\n",
       "    .dataframe thead th {\n",
       "        text-align: right;\n",
       "    }\n",
       "</style>\n",
       "<table border=\"1\" class=\"dataframe\">\n",
       "  <thead>\n",
       "    <tr style=\"text-align: right;\">\n",
       "      <th></th>\n",
       "      <th>GreedyKS</th>\n",
       "      <th>Reservoir Sampling</th>\n",
       "      <th>Lall + DDSketch</th>\n",
       "      <th>IKS + Reservoir</th>\n",
       "    </tr>\n",
       "  </thead>\n",
       "  <tbody>\n",
       "    <tr>\n",
       "      <th>$10^3$</th>\n",
       "      <td>10 / 60 / 511.37</td>\n",
       "      <td>11 / 83 / 267.17</td>\n",
       "      <td>91 / 0 / 21.89</td>\n",
       "      <td>10 / 80 / 365.70</td>\n",
       "    </tr>\n",
       "    <tr>\n",
       "      <th>$10^{3.5}$</th>\n",
       "      <td>11 / 11 / 1334.54</td>\n",
       "      <td>12 / 81 / 726.86</td>\n",
       "      <td>80 / 0 / 57.80</td>\n",
       "      <td>20 / 63 / 700.18</td>\n",
       "    </tr>\n",
       "    <tr>\n",
       "      <th>$10^4$</th>\n",
       "      <td>7 / 0 / 2066.48</td>\n",
       "      <td>10 / 81 / 4131.22</td>\n",
       "      <td>29 / 0 / 497.76</td>\n",
       "      <td>23 / 62 / 3511.33</td>\n",
       "    </tr>\n",
       "  </tbody>\n",
       "</table>\n",
       "</div>"
      ],
      "text/plain": [
       "                     GreedyKS Reservoir Sampling  Lall + DDSketch  \\\n",
       "$10^3$       10 / 60 / 511.37   11 / 83 / 267.17   91 / 0 / 21.89   \n",
       "$10^{3.5}$  11 / 11 / 1334.54   12 / 81 / 726.86   80 / 0 / 57.80   \n",
       "$10^4$        7 / 0 / 2066.48  10 / 81 / 4131.22  29 / 0 / 497.76   \n",
       "\n",
       "              IKS + Reservoir  \n",
       "$10^3$       10 / 80 / 365.70  \n",
       "$10^{3.5}$   20 / 63 / 700.18  \n",
       "$10^4$      23 / 62 / 3511.33  "
      ]
     },
     "metadata": {},
     "output_type": "display_data"
    },
    {
     "name": "stdout",
     "output_type": "stream",
     "text": [
      "exp\n"
     ]
    },
    {
     "data": {
      "text/html": [
       "<div>\n",
       "<style scoped>\n",
       "    .dataframe tbody tr th:only-of-type {\n",
       "        vertical-align: middle;\n",
       "    }\n",
       "\n",
       "    .dataframe tbody tr th {\n",
       "        vertical-align: top;\n",
       "    }\n",
       "\n",
       "    .dataframe thead th {\n",
       "        text-align: right;\n",
       "    }\n",
       "</style>\n",
       "<table border=\"1\" class=\"dataframe\">\n",
       "  <thead>\n",
       "    <tr style=\"text-align: right;\">\n",
       "      <th></th>\n",
       "      <th>GreedyKS</th>\n",
       "      <th>Reservoir Sampling</th>\n",
       "      <th>Lall + DDSketch</th>\n",
       "      <th>IKS + Reservoir</th>\n",
       "    </tr>\n",
       "  </thead>\n",
       "  <tbody>\n",
       "    <tr>\n",
       "      <th>$10^3$</th>\n",
       "      <td>6 / 0 / 283.41</td>\n",
       "      <td>5 / 88 / 515.29</td>\n",
       "      <td>16 / 0 / 133.54</td>\n",
       "      <td>5 / 83 / 300.25</td>\n",
       "    </tr>\n",
       "    <tr>\n",
       "      <th>$10^{3.5}$</th>\n",
       "      <td>11 / 0 / 387.82</td>\n",
       "      <td>9 / 85 / 884.67</td>\n",
       "      <td>16 / 0 / 276.90</td>\n",
       "      <td>20 / 63 / 1184.76</td>\n",
       "    </tr>\n",
       "    <tr>\n",
       "      <th>$10^4$</th>\n",
       "      <td>7 / 0 / 586.09</td>\n",
       "      <td>21 / 51 / 4066.21</td>\n",
       "      <td>14 / 0 / 525.90</td>\n",
       "      <td>23 / 54 / 3692.48</td>\n",
       "    </tr>\n",
       "  </tbody>\n",
       "</table>\n",
       "</div>"
      ],
      "text/plain": [
       "                   GreedyKS Reservoir Sampling  Lall + DDSketch  \\\n",
       "$10^3$       6 / 0 / 283.41    5 / 88 / 515.29  16 / 0 / 133.54   \n",
       "$10^{3.5}$  11 / 0 / 387.82    9 / 85 / 884.67  16 / 0 / 276.90   \n",
       "$10^4$       7 / 0 / 586.09  21 / 51 / 4066.21  14 / 0 / 525.90   \n",
       "\n",
       "              IKS + Reservoir  \n",
       "$10^3$        5 / 83 / 300.25  \n",
       "$10^{3.5}$  20 / 63 / 1184.76  \n",
       "$10^4$      23 / 54 / 3692.48  "
      ]
     },
     "metadata": {},
     "output_type": "display_data"
    },
    {
     "name": "stdout",
     "output_type": "stream",
     "text": [
      ">>>>>>>>>> memo_perct\n",
      "normal\n"
     ]
    },
    {
     "data": {
      "text/html": [
       "<div>\n",
       "<style scoped>\n",
       "    .dataframe tbody tr th:only-of-type {\n",
       "        vertical-align: middle;\n",
       "    }\n",
       "\n",
       "    .dataframe tbody tr th {\n",
       "        vertical-align: top;\n",
       "    }\n",
       "\n",
       "    .dataframe thead th {\n",
       "        text-align: right;\n",
       "    }\n",
       "</style>\n",
       "<table border=\"1\" class=\"dataframe\">\n",
       "  <thead>\n",
       "    <tr style=\"text-align: right;\">\n",
       "      <th></th>\n",
       "      <th>GreedyKS</th>\n",
       "      <th>Reservoir Sampling</th>\n",
       "      <th>Lall + DDSketch</th>\n",
       "      <th>IKS + Reservoir</th>\n",
       "    </tr>\n",
       "  </thead>\n",
       "  <tbody>\n",
       "    <tr>\n",
       "      <th>$10^{-3}$</th>\n",
       "      <td>18 / 0 / 1975.04</td>\n",
       "      <td>11 / 81 / 3226.75</td>\n",
       "      <td>100 / 0 / nan</td>\n",
       "      <td>23 / 63 / 4068.64</td>\n",
       "    </tr>\n",
       "    <tr>\n",
       "      <th>$10^{-2.5}$</th>\n",
       "      <td>17 / 0 / 1655.02</td>\n",
       "      <td>16 / 75 / 2941.11</td>\n",
       "      <td>100 / 0 / nan</td>\n",
       "      <td>34 / 51 / 2077.87</td>\n",
       "    </tr>\n",
       "    <tr>\n",
       "      <th>$10^{-2}$</th>\n",
       "      <td>10 / 0 / 1487.38</td>\n",
       "      <td>7 / 74 / 2933.16</td>\n",
       "      <td>42 / 0 / 470.02</td>\n",
       "      <td>19 / 59 / 2576.45</td>\n",
       "    </tr>\n",
       "  </tbody>\n",
       "</table>\n",
       "</div>"
      ],
      "text/plain": [
       "                     GreedyKS Reservoir Sampling  Lall + DDSketch  \\\n",
       "$10^{-3}$    18 / 0 / 1975.04  11 / 81 / 3226.75    100 / 0 / nan   \n",
       "$10^{-2.5}$  17 / 0 / 1655.02  16 / 75 / 2941.11    100 / 0 / nan   \n",
       "$10^{-2}$    10 / 0 / 1487.38   7 / 74 / 2933.16  42 / 0 / 470.02   \n",
       "\n",
       "               IKS + Reservoir  \n",
       "$10^{-3}$    23 / 63 / 4068.64  \n",
       "$10^{-2.5}$  34 / 51 / 2077.87  \n",
       "$10^{-2}$    19 / 59 / 2576.45  "
      ]
     },
     "metadata": {},
     "output_type": "display_data"
    },
    {
     "name": "stdout",
     "output_type": "stream",
     "text": [
      "uniform\n"
     ]
    },
    {
     "data": {
      "text/html": [
       "<div>\n",
       "<style scoped>\n",
       "    .dataframe tbody tr th:only-of-type {\n",
       "        vertical-align: middle;\n",
       "    }\n",
       "\n",
       "    .dataframe tbody tr th {\n",
       "        vertical-align: top;\n",
       "    }\n",
       "\n",
       "    .dataframe thead th {\n",
       "        text-align: right;\n",
       "    }\n",
       "</style>\n",
       "<table border=\"1\" class=\"dataframe\">\n",
       "  <thead>\n",
       "    <tr style=\"text-align: right;\">\n",
       "      <th></th>\n",
       "      <th>GreedyKS</th>\n",
       "      <th>Reservoir Sampling</th>\n",
       "      <th>Lall + DDSketch</th>\n",
       "      <th>IKS + Reservoir</th>\n",
       "    </tr>\n",
       "  </thead>\n",
       "  <tbody>\n",
       "    <tr>\n",
       "      <th>$10^{-3}$</th>\n",
       "      <td>8 / 0 / 2275.80</td>\n",
       "      <td>10 / 83 / 1039.43</td>\n",
       "      <td>100 / 0 / nan</td>\n",
       "      <td>15 / 73 / 2684.00</td>\n",
       "    </tr>\n",
       "    <tr>\n",
       "      <th>$10^{-2.5}$</th>\n",
       "      <td>9 / 0 / 2000.84</td>\n",
       "      <td>15 / 78 / 3177.29</td>\n",
       "      <td>100 / 0 / nan</td>\n",
       "      <td>24 / 56 / 2851.10</td>\n",
       "    </tr>\n",
       "    <tr>\n",
       "      <th>$10^{-2}$</th>\n",
       "      <td>11 / 0 / 2039.66</td>\n",
       "      <td>14 / 69 / 3296.59</td>\n",
       "      <td>32 / 0 / 364.63</td>\n",
       "      <td>23 / 58 / 2009.16</td>\n",
       "    </tr>\n",
       "  </tbody>\n",
       "</table>\n",
       "</div>"
      ],
      "text/plain": [
       "                     GreedyKS Reservoir Sampling  Lall + DDSketch  \\\n",
       "$10^{-3}$     8 / 0 / 2275.80  10 / 83 / 1039.43    100 / 0 / nan   \n",
       "$10^{-2.5}$   9 / 0 / 2000.84  15 / 78 / 3177.29    100 / 0 / nan   \n",
       "$10^{-2}$    11 / 0 / 2039.66  14 / 69 / 3296.59  32 / 0 / 364.63   \n",
       "\n",
       "               IKS + Reservoir  \n",
       "$10^{-3}$    15 / 73 / 2684.00  \n",
       "$10^{-2.5}$  24 / 56 / 2851.10  \n",
       "$10^{-2}$    23 / 58 / 2009.16  "
      ]
     },
     "metadata": {},
     "output_type": "display_data"
    },
    {
     "name": "stdout",
     "output_type": "stream",
     "text": [
      "exp\n"
     ]
    },
    {
     "data": {
      "text/html": [
       "<div>\n",
       "<style scoped>\n",
       "    .dataframe tbody tr th:only-of-type {\n",
       "        vertical-align: middle;\n",
       "    }\n",
       "\n",
       "    .dataframe tbody tr th {\n",
       "        vertical-align: top;\n",
       "    }\n",
       "\n",
       "    .dataframe thead th {\n",
       "        text-align: right;\n",
       "    }\n",
       "</style>\n",
       "<table border=\"1\" class=\"dataframe\">\n",
       "  <thead>\n",
       "    <tr style=\"text-align: right;\">\n",
       "      <th></th>\n",
       "      <th>GreedyKS</th>\n",
       "      <th>Reservoir Sampling</th>\n",
       "      <th>Lall + DDSketch</th>\n",
       "      <th>IKS + Reservoir</th>\n",
       "    </tr>\n",
       "  </thead>\n",
       "  <tbody>\n",
       "    <tr>\n",
       "      <th>$10^{-3}$</th>\n",
       "      <td>11 / 0 / 661.28</td>\n",
       "      <td>15 / 81 / 2658.25</td>\n",
       "      <td>100 / 0 / nan</td>\n",
       "      <td>18 / 76 / 3838.33</td>\n",
       "    </tr>\n",
       "    <tr>\n",
       "      <th>$10^{-2.5}$</th>\n",
       "      <td>5 / 0 / 601.32</td>\n",
       "      <td>16 / 76 / 2813.12</td>\n",
       "      <td>42 / 0 / 332.98</td>\n",
       "      <td>24 / 59 / 2685.06</td>\n",
       "    </tr>\n",
       "    <tr>\n",
       "      <th>$10^{-2}$</th>\n",
       "      <td>15 / 0 / 596.61</td>\n",
       "      <td>8 / 70 / 4517.73</td>\n",
       "      <td>19 / 0 / 552.28</td>\n",
       "      <td>22 / 56 / 3697.09</td>\n",
       "    </tr>\n",
       "  </tbody>\n",
       "</table>\n",
       "</div>"
      ],
      "text/plain": [
       "                    GreedyKS Reservoir Sampling  Lall + DDSketch  \\\n",
       "$10^{-3}$    11 / 0 / 661.28  15 / 81 / 2658.25    100 / 0 / nan   \n",
       "$10^{-2.5}$   5 / 0 / 601.32  16 / 76 / 2813.12  42 / 0 / 332.98   \n",
       "$10^{-2}$    15 / 0 / 596.61   8 / 70 / 4517.73  19 / 0 / 552.28   \n",
       "\n",
       "               IKS + Reservoir  \n",
       "$10^{-3}$    18 / 76 / 3838.33  \n",
       "$10^{-2.5}$  24 / 59 / 2685.06  \n",
       "$10^{-2}$    22 / 56 / 3697.09  "
      ]
     },
     "metadata": {},
     "output_type": "display_data"
    },
    {
     "name": "stdout",
     "output_type": "stream",
     "text": [
      ">>>>>>>>>> mean_diff\n",
      "normal\n"
     ]
    },
    {
     "data": {
      "text/html": [
       "<div>\n",
       "<style scoped>\n",
       "    .dataframe tbody tr th:only-of-type {\n",
       "        vertical-align: middle;\n",
       "    }\n",
       "\n",
       "    .dataframe tbody tr th {\n",
       "        vertical-align: top;\n",
       "    }\n",
       "\n",
       "    .dataframe thead th {\n",
       "        text-align: right;\n",
       "    }\n",
       "</style>\n",
       "<table border=\"1\" class=\"dataframe\">\n",
       "  <thead>\n",
       "    <tr style=\"text-align: right;\">\n",
       "      <th></th>\n",
       "      <th>GreedyKS</th>\n",
       "      <th>Reservoir Sampling</th>\n",
       "      <th>Lall + DDSketch</th>\n",
       "      <th>IKS + Reservoir</th>\n",
       "    </tr>\n",
       "  </thead>\n",
       "  <tbody>\n",
       "    <tr>\n",
       "      <th>$10^{-2}$</th>\n",
       "      <td>6 / 88 / 3995.17</td>\n",
       "      <td>6 / 83 / 4245.64</td>\n",
       "      <td>46 / 0 / 902.61</td>\n",
       "      <td>22 / 67 / 2596.18</td>\n",
       "    </tr>\n",
       "    <tr>\n",
       "      <th>$10^{-1.5}$</th>\n",
       "      <td>8 / 40 / 4619.85</td>\n",
       "      <td>5 / 84 / 2078.18</td>\n",
       "      <td>38 / 0 / 746.85</td>\n",
       "      <td>31 / 53 / 2995.69</td>\n",
       "    </tr>\n",
       "    <tr>\n",
       "      <th>$10^{-1}$</th>\n",
       "      <td>7 / 0 / 1507.06</td>\n",
       "      <td>10 / 70 / 2503.20</td>\n",
       "      <td>39 / 0 / 479.67</td>\n",
       "      <td>15 / 67 / 3087.11</td>\n",
       "    </tr>\n",
       "  </tbody>\n",
       "</table>\n",
       "</div>"
      ],
      "text/plain": [
       "                     GreedyKS Reservoir Sampling  Lall + DDSketch  \\\n",
       "$10^{-2}$    6 / 88 / 3995.17   6 / 83 / 4245.64  46 / 0 / 902.61   \n",
       "$10^{-1.5}$  8 / 40 / 4619.85   5 / 84 / 2078.18  38 / 0 / 746.85   \n",
       "$10^{-1}$     7 / 0 / 1507.06  10 / 70 / 2503.20  39 / 0 / 479.67   \n",
       "\n",
       "               IKS + Reservoir  \n",
       "$10^{-2}$    22 / 67 / 2596.18  \n",
       "$10^{-1.5}$  31 / 53 / 2995.69  \n",
       "$10^{-1}$    15 / 67 / 3087.11  "
      ]
     },
     "metadata": {},
     "output_type": "display_data"
    },
    {
     "name": "stdout",
     "output_type": "stream",
     "text": [
      "uniform\n"
     ]
    },
    {
     "data": {
      "text/html": [
       "<div>\n",
       "<style scoped>\n",
       "    .dataframe tbody tr th:only-of-type {\n",
       "        vertical-align: middle;\n",
       "    }\n",
       "\n",
       "    .dataframe tbody tr th {\n",
       "        vertical-align: top;\n",
       "    }\n",
       "\n",
       "    .dataframe thead th {\n",
       "        text-align: right;\n",
       "    }\n",
       "</style>\n",
       "<table border=\"1\" class=\"dataframe\">\n",
       "  <thead>\n",
       "    <tr style=\"text-align: right;\">\n",
       "      <th></th>\n",
       "      <th>GreedyKS</th>\n",
       "      <th>Reservoir Sampling</th>\n",
       "      <th>Lall + DDSketch</th>\n",
       "      <th>IKS + Reservoir</th>\n",
       "    </tr>\n",
       "  </thead>\n",
       "  <tbody>\n",
       "    <tr>\n",
       "      <th>$10^{-2}$</th>\n",
       "      <td>10 / 79 / 4099.73</td>\n",
       "      <td>7 / 87 / 1637.83</td>\n",
       "      <td>42 / 0 / 740.47</td>\n",
       "      <td>23 / 62 / 2357.87</td>\n",
       "    </tr>\n",
       "    <tr>\n",
       "      <th>$10^{-1.5}$</th>\n",
       "      <td>7 / 52 / 5033.22</td>\n",
       "      <td>8 / 84 / 3067.25</td>\n",
       "      <td>45 / 0 / 529.07</td>\n",
       "      <td>19 / 66 / 3088.27</td>\n",
       "    </tr>\n",
       "    <tr>\n",
       "      <th>$10^{-1}$</th>\n",
       "      <td>8 / 0 / 1810.50</td>\n",
       "      <td>11 / 77 / 3467.08</td>\n",
       "      <td>46 / 0 / 406.19</td>\n",
       "      <td>23 / 60 / 2803.59</td>\n",
       "    </tr>\n",
       "  </tbody>\n",
       "</table>\n",
       "</div>"
      ],
      "text/plain": [
       "                      GreedyKS Reservoir Sampling  Lall + DDSketch  \\\n",
       "$10^{-2}$    10 / 79 / 4099.73   7 / 87 / 1637.83  42 / 0 / 740.47   \n",
       "$10^{-1.5}$   7 / 52 / 5033.22   8 / 84 / 3067.25  45 / 0 / 529.07   \n",
       "$10^{-1}$      8 / 0 / 1810.50  11 / 77 / 3467.08  46 / 0 / 406.19   \n",
       "\n",
       "               IKS + Reservoir  \n",
       "$10^{-2}$    23 / 62 / 2357.87  \n",
       "$10^{-1.5}$  19 / 66 / 3088.27  \n",
       "$10^{-1}$    23 / 60 / 2803.59  "
      ]
     },
     "metadata": {},
     "output_type": "display_data"
    },
    {
     "name": "stdout",
     "output_type": "stream",
     "text": [
      "exp\n"
     ]
    },
    {
     "data": {
      "text/html": [
       "<div>\n",
       "<style scoped>\n",
       "    .dataframe tbody tr th:only-of-type {\n",
       "        vertical-align: middle;\n",
       "    }\n",
       "\n",
       "    .dataframe tbody tr th {\n",
       "        vertical-align: top;\n",
       "    }\n",
       "\n",
       "    .dataframe thead th {\n",
       "        text-align: right;\n",
       "    }\n",
       "</style>\n",
       "<table border=\"1\" class=\"dataframe\">\n",
       "  <thead>\n",
       "    <tr style=\"text-align: right;\">\n",
       "      <th></th>\n",
       "      <th>GreedyKS</th>\n",
       "      <th>Reservoir Sampling</th>\n",
       "      <th>Lall + DDSketch</th>\n",
       "      <th>IKS + Reservoir</th>\n",
       "    </tr>\n",
       "  </thead>\n",
       "  <tbody>\n",
       "    <tr>\n",
       "      <th>$10^{-2}$</th>\n",
       "      <td>10 / 70 / 4389.80</td>\n",
       "      <td>8 / 80 / 1821.92</td>\n",
       "      <td>20 / 9 / 3929.94</td>\n",
       "      <td>23 / 58 / 3377.63</td>\n",
       "    </tr>\n",
       "    <tr>\n",
       "      <th>$10^{-1.5}$</th>\n",
       "      <td>9 / 0 / 2505.22</td>\n",
       "      <td>7 / 86 / 2256.14</td>\n",
       "      <td>19 / 0 / 1970.05</td>\n",
       "      <td>29 / 57 / 2641.57</td>\n",
       "    </tr>\n",
       "    <tr>\n",
       "      <th>$10^{-1}$</th>\n",
       "      <td>8 / 0 / 584.58</td>\n",
       "      <td>9 / 62 / 3182.34</td>\n",
       "      <td>14 / 0 / 530.31</td>\n",
       "      <td>18 / 57 / 4048.12</td>\n",
       "    </tr>\n",
       "  </tbody>\n",
       "</table>\n",
       "</div>"
      ],
      "text/plain": [
       "                      GreedyKS Reservoir Sampling   Lall + DDSketch  \\\n",
       "$10^{-2}$    10 / 70 / 4389.80   8 / 80 / 1821.92  20 / 9 / 3929.94   \n",
       "$10^{-1.5}$    9 / 0 / 2505.22   7 / 86 / 2256.14  19 / 0 / 1970.05   \n",
       "$10^{-1}$       8 / 0 / 584.58   9 / 62 / 3182.34   14 / 0 / 530.31   \n",
       "\n",
       "               IKS + Reservoir  \n",
       "$10^{-2}$    23 / 58 / 3377.63  \n",
       "$10^{-1.5}$  29 / 57 / 2641.57  \n",
       "$10^{-1}$    18 / 57 / 4048.12  "
      ]
     },
     "metadata": {},
     "output_type": "display_data"
    },
    {
     "name": "stdout",
     "output_type": "stream",
     "text": [
      ">>>>>>>>>> std_diff\n",
      "normal\n"
     ]
    },
    {
     "data": {
      "text/html": [
       "<div>\n",
       "<style scoped>\n",
       "    .dataframe tbody tr th:only-of-type {\n",
       "        vertical-align: middle;\n",
       "    }\n",
       "\n",
       "    .dataframe tbody tr th {\n",
       "        vertical-align: top;\n",
       "    }\n",
       "\n",
       "    .dataframe thead th {\n",
       "        text-align: right;\n",
       "    }\n",
       "</style>\n",
       "<table border=\"1\" class=\"dataframe\">\n",
       "  <thead>\n",
       "    <tr style=\"text-align: right;\">\n",
       "      <th></th>\n",
       "      <th>GreedyKS</th>\n",
       "      <th>Reservoir Sampling</th>\n",
       "      <th>Lall + DDSketch</th>\n",
       "      <th>IKS + Reservoir</th>\n",
       "    </tr>\n",
       "  </thead>\n",
       "  <tbody>\n",
       "    <tr>\n",
       "      <th>$10^{-2}$</th>\n",
       "      <td>14 / 79 / 2487.29</td>\n",
       "      <td>16 / 78 / 2190.50</td>\n",
       "      <td>37 / 0 / 958.21</td>\n",
       "      <td>21 / 66 / 3452.08</td>\n",
       "    </tr>\n",
       "    <tr>\n",
       "      <th>$10^{-1.5}$</th>\n",
       "      <td>10 / 74 / 3073.81</td>\n",
       "      <td>9 / 84 / 3602.71</td>\n",
       "      <td>40 / 0 / 869.38</td>\n",
       "      <td>20 / 63 / 3172.29</td>\n",
       "    </tr>\n",
       "    <tr>\n",
       "      <th>$10^{-1}$</th>\n",
       "      <td>7 / 0 / 3107.51</td>\n",
       "      <td>10 / 80 / 2686.80</td>\n",
       "      <td>37 / 0 / 758.75</td>\n",
       "      <td>22 / 63 / 2514.60</td>\n",
       "    </tr>\n",
       "  </tbody>\n",
       "</table>\n",
       "</div>"
      ],
      "text/plain": [
       "                      GreedyKS Reservoir Sampling  Lall + DDSketch  \\\n",
       "$10^{-2}$    14 / 79 / 2487.29  16 / 78 / 2190.50  37 / 0 / 958.21   \n",
       "$10^{-1.5}$  10 / 74 / 3073.81   9 / 84 / 3602.71  40 / 0 / 869.38   \n",
       "$10^{-1}$      7 / 0 / 3107.51  10 / 80 / 2686.80  37 / 0 / 758.75   \n",
       "\n",
       "               IKS + Reservoir  \n",
       "$10^{-2}$    21 / 66 / 3452.08  \n",
       "$10^{-1.5}$  20 / 63 / 3172.29  \n",
       "$10^{-1}$    22 / 63 / 2514.60  "
      ]
     },
     "metadata": {},
     "output_type": "display_data"
    },
    {
     "name": "stdout",
     "output_type": "stream",
     "text": [
      "uniform\n"
     ]
    },
    {
     "data": {
      "text/html": [
       "<div>\n",
       "<style scoped>\n",
       "    .dataframe tbody tr th:only-of-type {\n",
       "        vertical-align: middle;\n",
       "    }\n",
       "\n",
       "    .dataframe tbody tr th {\n",
       "        vertical-align: top;\n",
       "    }\n",
       "\n",
       "    .dataframe thead th {\n",
       "        text-align: right;\n",
       "    }\n",
       "</style>\n",
       "<table border=\"1\" class=\"dataframe\">\n",
       "  <thead>\n",
       "    <tr style=\"text-align: right;\">\n",
       "      <th></th>\n",
       "      <th>GreedyKS</th>\n",
       "      <th>Reservoir Sampling</th>\n",
       "      <th>Lall + DDSketch</th>\n",
       "      <th>IKS + Reservoir</th>\n",
       "    </tr>\n",
       "  </thead>\n",
       "  <tbody>\n",
       "    <tr>\n",
       "      <th>$10^{-2}$</th>\n",
       "      <td>2 / 85 / 4801.08</td>\n",
       "      <td>8 / 83 / 2225.78</td>\n",
       "      <td>35 / 0 / 669.57</td>\n",
       "      <td>22 / 63 / 3408.67</td>\n",
       "    </tr>\n",
       "    <tr>\n",
       "      <th>$10^{-1.5}$</th>\n",
       "      <td>5 / 49 / 6249.67</td>\n",
       "      <td>11 / 79 / 3922.60</td>\n",
       "      <td>39 / 0 / 520.03</td>\n",
       "      <td>17 / 68 / 3178.67</td>\n",
       "    </tr>\n",
       "    <tr>\n",
       "      <th>$10^{-1}$</th>\n",
       "      <td>9 / 0 / 1443.14</td>\n",
       "      <td>18 / 70 / 3054.50</td>\n",
       "      <td>39 / 0 / 290.02</td>\n",
       "      <td>17 / 66 / 3004.41</td>\n",
       "    </tr>\n",
       "  </tbody>\n",
       "</table>\n",
       "</div>"
      ],
      "text/plain": [
       "                     GreedyKS Reservoir Sampling  Lall + DDSketch  \\\n",
       "$10^{-2}$    2 / 85 / 4801.08   8 / 83 / 2225.78  35 / 0 / 669.57   \n",
       "$10^{-1.5}$  5 / 49 / 6249.67  11 / 79 / 3922.60  39 / 0 / 520.03   \n",
       "$10^{-1}$     9 / 0 / 1443.14  18 / 70 / 3054.50  39 / 0 / 290.02   \n",
       "\n",
       "               IKS + Reservoir  \n",
       "$10^{-2}$    22 / 63 / 3408.67  \n",
       "$10^{-1.5}$  17 / 68 / 3178.67  \n",
       "$10^{-1}$    17 / 66 / 3004.41  "
      ]
     },
     "metadata": {},
     "output_type": "display_data"
    },
    {
     "name": "stdout",
     "output_type": "stream",
     "text": [
      "exp\n"
     ]
    },
    {
     "data": {
      "text/html": [
       "<div>\n",
       "<style scoped>\n",
       "    .dataframe tbody tr th:only-of-type {\n",
       "        vertical-align: middle;\n",
       "    }\n",
       "\n",
       "    .dataframe tbody tr th {\n",
       "        vertical-align: top;\n",
       "    }\n",
       "\n",
       "    .dataframe thead th {\n",
       "        text-align: right;\n",
       "    }\n",
       "</style>\n",
       "<table border=\"1\" class=\"dataframe\">\n",
       "  <thead>\n",
       "    <tr style=\"text-align: right;\">\n",
       "      <th></th>\n",
       "      <th>GreedyKS</th>\n",
       "      <th>Reservoir Sampling</th>\n",
       "      <th>Lall + DDSketch</th>\n",
       "      <th>IKS + Reservoir</th>\n",
       "    </tr>\n",
       "  </thead>\n",
       "  <tbody>\n",
       "    <tr>\n",
       "      <th>$10^{-2}$</th>\n",
       "      <td>12 / 81 / 4141.86</td>\n",
       "      <td>11 / 80 / 3072.89</td>\n",
       "      <td>34 / 0 / 1566.09</td>\n",
       "      <td>23 / 62 / 2674.00</td>\n",
       "    </tr>\n",
       "    <tr>\n",
       "      <th>$10^{-1.5}$</th>\n",
       "      <td>10 / 0 / 3270.09</td>\n",
       "      <td>13 / 80 / 3898.71</td>\n",
       "      <td>33 / 0 / 1261.39</td>\n",
       "      <td>18 / 66 / 3621.56</td>\n",
       "    </tr>\n",
       "    <tr>\n",
       "      <th>$10^{-1}$</th>\n",
       "      <td>8 / 0 / 682.77</td>\n",
       "      <td>13 / 71 / 3090.56</td>\n",
       "      <td>22 / 0 / 532.68</td>\n",
       "      <td>21 / 63 / 2786.31</td>\n",
       "    </tr>\n",
       "  </tbody>\n",
       "</table>\n",
       "</div>"
      ],
      "text/plain": [
       "                      GreedyKS Reservoir Sampling   Lall + DDSketch  \\\n",
       "$10^{-2}$    12 / 81 / 4141.86  11 / 80 / 3072.89  34 / 0 / 1566.09   \n",
       "$10^{-1.5}$   10 / 0 / 3270.09  13 / 80 / 3898.71  33 / 0 / 1261.39   \n",
       "$10^{-1}$       8 / 0 / 682.77  13 / 71 / 3090.56   22 / 0 / 532.68   \n",
       "\n",
       "               IKS + Reservoir  \n",
       "$10^{-2}$    23 / 62 / 2674.00  \n",
       "$10^{-1.5}$  18 / 66 / 3621.56  \n",
       "$10^{-1}$    21 / 63 / 2786.31  "
      ]
     },
     "metadata": {},
     "output_type": "display_data"
    }
   ],
   "source": [
    "for e in experiments:\n",
    "    f = e[-1]\n",
    "    results = pd.read_pickle('./data_pdf_files/' + f)\n",
    "    exp_type = f[f.find('_') + 1 : f.rfind('_')]\n",
    "    print('>' * 10, exp_type)\n",
    "    res = util.plot_table(results, exp_type, './data_pdf_files/effectiveness_' + exp_type)\n",
    "    for k in res:\n",
    "        print(k)\n",
    "        display(res[k])\n"
   ]
  },
  {
   "cell_type": "code",
   "execution_count": null,
   "metadata": {},
   "outputs": [],
   "source": []
  }
 ],
 "metadata": {
  "kernelspec": {
   "display_name": "Python 3 (ipykernel)",
   "language": "python",
   "name": "python3"
  },
  "language_info": {
   "codemirror_mode": {
    "name": "ipython",
    "version": 3
   },
   "file_extension": ".py",
   "mimetype": "text/x-python",
   "name": "python",
   "nbconvert_exporter": "python",
   "pygments_lexer": "ipython3",
   "version": "3.9.7"
  }
 },
 "nbformat": 4,
 "nbformat_minor": 4
}

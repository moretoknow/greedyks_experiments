{
 "cells": [
  {
   "cell_type": "code",
   "execution_count": 1,
   "id": "18c8f297",
   "metadata": {
    "ExecuteTime": {
     "end_time": "2022-04-09T18:42:56.196856Z",
     "start_time": "2022-04-09T18:42:55.270533Z"
    }
   },
   "outputs": [],
   "source": [
    "import numpy as np\n",
    "import pandas as pd\n",
    "import time\n",
    "import jcs_paper_util as util"
   ]
  },
  {
   "cell_type": "code",
   "execution_count": 2,
   "id": "5e6d34a3",
   "metadata": {
    "ExecuteTime": {
     "end_time": "2022-04-09T18:42:56.202856Z",
     "start_time": "2022-04-09T18:42:56.198396Z"
    }
   },
   "outputs": [],
   "source": [
    "util.matplotlib_setup()\n",
    "util.default_num_reps = 100\n",
    "\n",
    "experiments = [\n",
    "    [{'sample_size': 10 ** np.arange(3, 6)}, 'Sample size', 'sample_size', 'data_pdf_files/results_sample_size_1647465261.pkl'],\n",
    "    [{'memo_perct': 10. ** np.arange(-3, 0)}, 'Memory fraction', 'memo_perct', 'data_pdf_files/results_memo_perct_1647473584.pkl'],\n",
    "    [{'mean_diff': 10. ** np.arange(-3, 0)}, 'Difference in distribution mean', 'mean_diff', 'data_pdf_files/results_mean_diff_1647476529.pkl'],\n",
    "    [{'std_diff': 10. ** np.arange(-3, 0), 'mean_diff':[0]}, 'Difference in distribution standard deviation', 'std_diff', 'data_pdf_files/results_std_diff_1647479506.pkl'],\n",
    "]"
   ]
  },
  {
   "cell_type": "code",
   "execution_count": null,
   "id": "d4d130b7",
   "metadata": {
    "ExecuteTime": {
     "start_time": "2022-04-09T18:42:55.274Z"
    },
    "scrolled": false
   },
   "outputs": [
    {
     "name": "stdout",
     "output_type": "stream",
     "text": [
      "sample_size\n"
     ]
    },
    {
     "name": "stderr",
     "output_type": "stream",
     "text": [
      "100%|█████████████████████████████████████████████████████████████████████████████████████████████████████████████████████████████████████████| 900/900 [19:29<00:00,  1.30s/it]"
     ]
    },
    {
     "name": "stdout",
     "output_type": "stream",
     "text": [
      "memo_perct\n"
     ]
    },
    {
     "name": "stderr",
     "output_type": "stream",
     "text": [
      "\n",
      "  0%|▌                                                                                                                                        | 4/900 [00:45<2:13:36,  8.95s/it]"
     ]
    }
   ],
   "source": [
    "for e in experiments:\n",
    "    print(e[2])\n",
    "    results = util.get_results(**e[0])\n",
    "    timestamp = int(time.time())\n",
    "    e.append('./data_pdf_files/abs_error_{}_{}.pkl'.format(e[2], timestamp))\n",
    "    results.to_pickle(e[-1])\n",
    "    "
   ]
  },
  {
   "cell_type": "code",
   "execution_count": null,
   "id": "4578b234",
   "metadata": {
    "ExecuteTime": {
     "start_time": "2022-04-09T18:42:55.277Z"
    }
   },
   "outputs": [],
   "source": [
    "for e in experiments:\n",
    "    \n",
    "    results = pd.read_pickle(e[-1])\n",
    "    util.plot_errors(\n",
    "        results,\n",
    "        ['Normal distribution', 'Uniform distribution', 'Exponential distribution'],\n",
    "        'Absolute error',\n",
    "        e[1],\n",
    "        e[2],\n",
    "        \"./data_pdf_files/abs_error_{}.pdf\".format(e[2])\n",
    "        )"
   ]
  },
  {
   "cell_type": "code",
   "execution_count": null,
   "id": "a5e3fcef",
   "metadata": {},
   "outputs": [],
   "source": []
  }
 ],
 "metadata": {
  "celltoolbar": "Raw Cell Format",
  "kernelspec": {
   "display_name": "Python 3 (ipykernel)",
   "language": "python",
   "name": "python3"
  },
  "language_info": {
   "codemirror_mode": {
    "name": "ipython",
    "version": 3
   },
   "file_extension": ".py",
   "mimetype": "text/x-python",
   "name": "python",
   "nbconvert_exporter": "python",
   "pygments_lexer": "ipython3",
   "version": "3.9.7"
  }
 },
 "nbformat": 4,
 "nbformat_minor": 5
}

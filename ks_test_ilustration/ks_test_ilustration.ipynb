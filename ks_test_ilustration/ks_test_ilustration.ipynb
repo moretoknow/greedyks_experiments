{
 "cells": [
  {
   "cell_type": "code",
   "execution_count": 1,
   "metadata": {},
   "outputs": [],
   "source": [
    "import numpy as np\n",
    "import pandas as pd\n",
    "import seaborn as sns\n",
    "import matplotlib.pyplot as plt\n",
    "import matplotlib\n",
    "import cycler\n",
    "\n",
    "from scipy.stats import norm"
   ]
  },
  {
   "cell_type": "code",
   "execution_count": 36,
   "metadata": {},
   "outputs": [],
   "source": [
    "def matplotlib_setup():\n",
    "    matplotlib.rc('mathtext', fontset='cm')\n",
    "\n",
    "    font = {\n",
    "        'family':'serif', \n",
    "        'weight':'normal', \n",
    "        'size':8\n",
    "    }\n",
    "    matplotlib.rc('font', **font)\n",
    "\n",
    "    legend = {\n",
    "        'markerscale':1, \n",
    "        'labelspacing':0.3, \n",
    "        'borderpad':0.2, \n",
    "        'handletextpad':0.4,\n",
    "        'columnspacing':1.2,\n",
    "        'loc':'upper left'\n",
    "    }\n",
    "    matplotlib.rc('legend', **legend)\n",
    "\n",
    "    axes_prop_cycle = {\n",
    "        # 'markersize':[3]*20,\n",
    "        #'markeredgewidth':[.8]*20,\n",
    "        #'markeredgecolor':['w']*20,\n",
    "        'linewidth':[1]*20,\n",
    "        # 'linestyle':['-', '--', '-.', ':']*5,\n",
    "        # 'marker':['o', 'X', 's', 'P', 'D']*4,\n",
    "        'color':sns.color_palette(\"Set1\", 20)\n",
    "    }\n",
    "\n",
    "    matplotlib.rc('axes', prop_cycle=cycler.cycler(**axes_prop_cycle))\n",
    "\n",
    "\n",
    "def get_ecdf(sample):\n",
    "    ecdf = []\n",
    "    for x in sample:\n",
    "        ecdf.append(sum(sample < x)/float(len(sample)))\n",
    "    \n",
    "    return np.array(ecdf)\n",
    "\n",
    "\n",
    "def get_Dxy(ref_dist, sample):\n",
    "    ecdf = get_ecdf(sample)\n",
    "    ks_values = ecdf - ref_dist.cdf(sample)\n",
    "\n",
    "    D_pos = np.argmax(ks_values)\n",
    "    D_neg = np.argmin(ks_values)\n",
    "\n",
    "    x1 = sample[D_pos]\n",
    "    x2 = sample[D_neg]\n",
    "\n",
    "    y1 = ecdf[np.where(sample == x1)[0][0]]\n",
    "    y2 = ecdf[np.where(sample == x2)[0][0]]\n",
    "\n",
    "    return x1, x2, y1, y2\n",
    "\n",
    "\n",
    "N = 1000\n",
    "ref_dist = norm(0, 1)\n",
    "sample_dist = norm(0, 1.5)"
   ]
  },
  {
   "cell_type": "code",
   "execution_count": 37,
   "metadata": {},
   "outputs": [
    {
     "data": {
      "image/png": "[encoded data removed]",
      "text/plain": [
       "<Figure size 216x144 with 1 Axes>"
      ]
     },
     "metadata": {
      "needs_background": "light"
     },
     "output_type": "display_data"
    }
   ],
   "source": [
    "matplotlib_setup()\n",
    "\n",
    "ref_sample = ref_dist.rvs(size=N)\n",
    "\n",
    "x_cdf = np.sort(ref_sample)\n",
    "y_cdf = ref_dist.cdf(x_cdf)\n",
    "\n",
    "plt.subplots(figsize=(3.,2.))\n",
    "\n",
    "plt.plot(x_cdf, y_cdf, label='CDF')\n",
    "\n",
    "dist_sample = sample_dist.rvs(size=int(N/20.0))\n",
    "\n",
    "sns.ecdfplot(x=dist_sample)\n",
    "\n",
    "plt.title('Geometry of KS test')\n",
    "plt.ylabel('Cumulative Probability')\n",
    "plt.xlabel('x')\n",
    "plt.xticks([-3, -1.5, 0, 1.5, 3])\n",
    "\n",
    "x1, x2, y1, y2 = get_Dxy(ref_dist, dist_sample)\n",
    "\n",
    "plt.plot([x1, x1], [ref_dist.cdf(x1), y1], label='D+')\n",
    "plt.plot([x2, x2], [ref_dist.cdf(x2), y2], label='D-')\n",
    "\n",
    "# plt.legend(loc=\"upper left\")\n",
    "plt.legend(labels=[\"CDF\",\"ECDF\",r'$D^+$',r'$D^-$'])\n",
    "plt.grid(True)\n",
    "plt.savefig('ks_test.pdf', bbox_inches='tight')\n",
    "plt.show()"
   ]
  },
  {
   "cell_type": "code",
   "execution_count": null,
   "metadata": {},
   "outputs": [],
   "source": []
  }
 ],
 "metadata": {
  "interpreter": {
   "hash": "916dbcbb3f70747c44a77c7bcd40155683ae19c65e1c03b4aa3499c5328201f1"
  },
  "kernelspec": {
   "display_name": "Python 3.8.10 64-bit",
   "language": "python",
   "name": "python3"
  },
  "language_info": {
   "codemirror_mode": {
    "name": "ipython",
    "version": 3
   },
   "file_extension": ".py",
   "mimetype": "text/x-python",
   "name": "python",
   "nbconvert_exporter": "python",
   "pygments_lexer": "ipython3",
   "version": "3.8.10"
  },
  "orig_nbformat": 4
 },
 "nbformat": 4,
 "nbformat_minor": 2
}

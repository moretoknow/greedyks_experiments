{
 "cells": [
  {
   "cell_type": "code",
   "execution_count": 1,
   "metadata": {
    "ExecuteTime": {
     "end_time": "2022-04-21T00:29:57.329575Z",
     "start_time": "2022-04-21T00:29:56.284986Z"
    }
   },
   "outputs": [],
   "source": [
    "import numpy as np\n",
    "import time\n",
    "import jcs_paper_util as util\n",
    "import pandas as pd"
   ]
  },
  {
   "cell_type": "code",
   "execution_count": 2,
   "metadata": {
    "ExecuteTime": {
     "end_time": "2022-04-21T00:29:57.334133Z",
     "start_time": "2022-04-21T00:29:57.331041Z"
    }
   },
   "outputs": [],
   "source": [
    "util.matplotlib_setup()\n",
    "util.default_num_reps = 100\n",
    "util.eval_error_D = util.eval_effectiveness\n",
    "util.approx_methods.insert(1, 'Exact KS')"
   ]
  },
  {
   "cell_type": "code",
   "execution_count": 3,
   "metadata": {
    "ExecuteTime": {
     "end_time": "2022-04-21T04:57:01.846499Z",
     "start_time": "2022-04-21T00:29:57.335273Z"
    },
    "scrolled": false
   },
   "outputs": [
    {
     "name": "stdout",
     "output_type": "stream",
     "text": [
      ">>>>>>>>>> sample_size\n"
     ]
    },
    {
     "name": "stderr",
     "output_type": "stream",
     "text": [
      "100%|█████████████████████████████████████████████████████████████████████████████████████████████████████████████████████████████████████████| 900/900 [40:17<00:00,  2.69s/it]"
     ]
    },
    {
     "name": "stdout",
     "output_type": "stream",
     "text": [
      ">>>>>>>>>> memo_units\n"
     ]
    },
    {
     "name": "stderr",
     "output_type": "stream",
     "text": [
      "\n",
      "900it [44:41,  2.98s/it]                                                                                                                                                        "
     ]
    },
    {
     "name": "stdout",
     "output_type": "stream",
     "text": [
      ">>>>>>>>>> mean_diff\n"
     ]
    },
    {
     "name": "stderr",
     "output_type": "stream",
     "text": [
      "\n",
      "900it [1:32:46,  6.19s/it]                                                                                                                                                      "
     ]
    },
    {
     "name": "stdout",
     "output_type": "stream",
     "text": [
      ">>>>>>>>>> std_diff\n"
     ]
    },
    {
     "name": "stderr",
     "output_type": "stream",
     "text": [
      "\n",
      "900it [1:29:17,  5.95s/it]                                                                                                                                                      \n"
     ]
    }
   ],
   "source": [
    "experiments = [\n",
    "    [{'sample_size': (10 ** np.arange(3, 4.5, 0.5)).astype(int)}, 'Sample size', 'sample_size'],\n",
    "    [{'memo_units': (10 ** np.arange(1, 2.5, 0.5)).astype(int)}, 'Memory units', 'memo_units'],\n",
    "    [{'mean_diff': 10. ** np.arange(-2, -0.5, 0.5)}, 'Difference in distribution mean', 'mean_diff'],\n",
    "    [{'std_diff': 10. ** np.arange(-2, -0.5, 0.5), 'mean_diff':[0]}, 'Difference in distribution standard deviation', 'std_diff'],\n",
    "]\n",
    "\n",
    "for e in experiments:\n",
    "    print('>' * 10, e[2])\n",
    "    results = util.get_results(**e[0])\n",
    "    timestamp = int(time.time())\n",
    "    e.append('effectiveness_{}_{}.pkl'.format(e[2], timestamp))\n",
    "    results.to_pickle('./data_pdf_files/' + e[-1])"
   ]
  },
  {
   "cell_type": "code",
   "execution_count": 7,
   "metadata": {
    "ExecuteTime": {
     "end_time": "2022-04-21T07:25:19.750406Z",
     "start_time": "2022-04-21T07:25:18.992508Z"
    },
    "scrolled": false
   },
   "outputs": [
    {
     "name": "stdout",
     "output_type": "stream",
     "text": [
      ">>>>>>>>>> sample_size effectiveness_sample_size_1650503415.pkl\n",
      "normal\n"
     ]
    },
    {
     "data": {
      "text/html": [
       "<div>\n",
       "<style scoped>\n",
       "    .dataframe tbody tr th:only-of-type {\n",
       "        vertical-align: middle;\n",
       "    }\n",
       "\n",
       "    .dataframe tbody tr th {\n",
       "        vertical-align: top;\n",
       "    }\n",
       "\n",
       "    .dataframe thead th {\n",
       "        text-align: right;\n",
       "    }\n",
       "</style>\n",
       "<table border=\"1\" class=\"dataframe\">\n",
       "  <thead>\n",
       "    <tr style=\"text-align: right;\">\n",
       "      <th></th>\n",
       "      <th>GreedyKS</th>\n",
       "      <th>Exact KS</th>\n",
       "      <th>Reservoir Sampling</th>\n",
       "      <th>IKS + Reservoir</th>\n",
       "      <th>Lall + DDSketch</th>\n",
       "    </tr>\n",
       "  </thead>\n",
       "  <tbody>\n",
       "    <tr>\n",
       "      <th>$10^3$</th>\n",
       "      <td>0/46/367.2</td>\n",
       "      <td>0/48/386.4</td>\n",
       "      <td>0/82/355.1</td>\n",
       "      <td>0/71/281.5</td>\n",
       "      <td>0/19/413.9</td>\n",
       "    </tr>\n",
       "    <tr>\n",
       "      <th>$10^{3.5}$</th>\n",
       "      <td>7/0/972.4</td>\n",
       "      <td>6/0/946.2</td>\n",
       "      <td>6/75/1318.1</td>\n",
       "      <td>16/63/1258.5</td>\n",
       "      <td>10/0/525.7</td>\n",
       "    </tr>\n",
       "    <tr>\n",
       "      <th>$10^4$</th>\n",
       "      <td>13/0/1668.6</td>\n",
       "      <td>12/0/1603.7</td>\n",
       "      <td>19/62/2759.8</td>\n",
       "      <td>22/65/2657.3</td>\n",
       "      <td>37/0/538.1</td>\n",
       "    </tr>\n",
       "  </tbody>\n",
       "</table>\n",
       "</div>"
      ],
      "text/plain": [
       "               GreedyKS     Exact KS Reservoir Sampling IKS + Reservoir  \\\n",
       "$10^3$       0/46/367.2   0/48/386.4         0/82/355.1      0/71/281.5   \n",
       "$10^{3.5}$    7/0/972.4    6/0/946.2        6/75/1318.1    16/63/1258.5   \n",
       "$10^4$      13/0/1668.6  12/0/1603.7       19/62/2759.8    22/65/2657.3   \n",
       "\n",
       "           Lall + DDSketch  \n",
       "$10^3$          0/19/413.9  \n",
       "$10^{3.5}$      10/0/525.7  \n",
       "$10^4$          37/0/538.1  "
      ]
     },
     "metadata": {},
     "output_type": "display_data"
    },
    {
     "name": "stdout",
     "output_type": "stream",
     "text": [
      "uniform\n"
     ]
    },
    {
     "data": {
      "text/html": [
       "<div>\n",
       "<style scoped>\n",
       "    .dataframe tbody tr th:only-of-type {\n",
       "        vertical-align: middle;\n",
       "    }\n",
       "\n",
       "    .dataframe tbody tr th {\n",
       "        vertical-align: top;\n",
       "    }\n",
       "\n",
       "    .dataframe thead th {\n",
       "        text-align: right;\n",
       "    }\n",
       "</style>\n",
       "<table border=\"1\" class=\"dataframe\">\n",
       "  <thead>\n",
       "    <tr style=\"text-align: right;\">\n",
       "      <th></th>\n",
       "      <th>GreedyKS</th>\n",
       "      <th>Exact KS</th>\n",
       "      <th>Reservoir Sampling</th>\n",
       "      <th>IKS + Reservoir</th>\n",
       "      <th>Lall + DDSketch</th>\n",
       "    </tr>\n",
       "  </thead>\n",
       "  <tbody>\n",
       "    <tr>\n",
       "      <th>$10^3$</th>\n",
       "      <td>0/59/422.3</td>\n",
       "      <td>0/59/421.3</td>\n",
       "      <td>0/79/282.8</td>\n",
       "      <td>0/74/195.4</td>\n",
       "      <td>0/18/451.2</td>\n",
       "    </tr>\n",
       "    <tr>\n",
       "      <th>$10^{3.5}$</th>\n",
       "      <td>0/4/1322.1</td>\n",
       "      <td>2/3/1298.2</td>\n",
       "      <td>7/81/1095.8</td>\n",
       "      <td>10/60/741.4</td>\n",
       "      <td>10/0/563.0</td>\n",
       "    </tr>\n",
       "    <tr>\n",
       "      <th>$10^4$</th>\n",
       "      <td>10/0/1824.5</td>\n",
       "      <td>11/0/1756.9</td>\n",
       "      <td>11/77/2092.5</td>\n",
       "      <td>18/61/4363.3</td>\n",
       "      <td>35/0/346.4</td>\n",
       "    </tr>\n",
       "  </tbody>\n",
       "</table>\n",
       "</div>"
      ],
      "text/plain": [
       "               GreedyKS     Exact KS Reservoir Sampling IKS + Reservoir  \\\n",
       "$10^3$       0/59/422.3   0/59/421.3         0/79/282.8      0/74/195.4   \n",
       "$10^{3.5}$   0/4/1322.1   2/3/1298.2        7/81/1095.8     10/60/741.4   \n",
       "$10^4$      10/0/1824.5  11/0/1756.9       11/77/2092.5    18/61/4363.3   \n",
       "\n",
       "           Lall + DDSketch  \n",
       "$10^3$          0/18/451.2  \n",
       "$10^{3.5}$      10/0/563.0  \n",
       "$10^4$          35/0/346.4  "
      ]
     },
     "metadata": {},
     "output_type": "display_data"
    },
    {
     "name": "stdout",
     "output_type": "stream",
     "text": [
      "exp\n"
     ]
    },
    {
     "data": {
      "text/html": [
       "<div>\n",
       "<style scoped>\n",
       "    .dataframe tbody tr th:only-of-type {\n",
       "        vertical-align: middle;\n",
       "    }\n",
       "\n",
       "    .dataframe tbody tr th {\n",
       "        vertical-align: top;\n",
       "    }\n",
       "\n",
       "    .dataframe thead th {\n",
       "        text-align: right;\n",
       "    }\n",
       "</style>\n",
       "<table border=\"1\" class=\"dataframe\">\n",
       "  <thead>\n",
       "    <tr style=\"text-align: right;\">\n",
       "      <th></th>\n",
       "      <th>GreedyKS</th>\n",
       "      <th>Exact KS</th>\n",
       "      <th>Reservoir Sampling</th>\n",
       "      <th>IKS + Reservoir</th>\n",
       "      <th>Lall + DDSketch</th>\n",
       "    </tr>\n",
       "  </thead>\n",
       "  <tbody>\n",
       "    <tr>\n",
       "      <th>$10^3$</th>\n",
       "      <td>0/0/281.1</td>\n",
       "      <td>0/0/275.9</td>\n",
       "      <td>0/70/375.6</td>\n",
       "      <td>0/65/313.3</td>\n",
       "      <td>0/0/279.1</td>\n",
       "    </tr>\n",
       "    <tr>\n",
       "      <th>$10^{3.5}$</th>\n",
       "      <td>6/0/379.7</td>\n",
       "      <td>5/0/371.5</td>\n",
       "      <td>6/71/951.7</td>\n",
       "      <td>10/62/1423.5</td>\n",
       "      <td>6/0/365.6</td>\n",
       "    </tr>\n",
       "    <tr>\n",
       "      <th>$10^4$</th>\n",
       "      <td>9/0/580.0</td>\n",
       "      <td>7/0/569.7</td>\n",
       "      <td>11/62/3658.0</td>\n",
       "      <td>26/50/3317.5</td>\n",
       "      <td>17/0/524.2</td>\n",
       "    </tr>\n",
       "  </tbody>\n",
       "</table>\n",
       "</div>"
      ],
      "text/plain": [
       "             GreedyKS   Exact KS Reservoir Sampling IKS + Reservoir  \\\n",
       "$10^3$      0/0/281.1  0/0/275.9         0/70/375.6      0/65/313.3   \n",
       "$10^{3.5}$  6/0/379.7  5/0/371.5         6/71/951.7    10/62/1423.5   \n",
       "$10^4$      9/0/580.0  7/0/569.7       11/62/3658.0    26/50/3317.5   \n",
       "\n",
       "           Lall + DDSketch  \n",
       "$10^3$           0/0/279.1  \n",
       "$10^{3.5}$       6/0/365.6  \n",
       "$10^4$          17/0/524.2  "
      ]
     },
     "metadata": {},
     "output_type": "display_data"
    },
    {
     "name": "stdout",
     "output_type": "stream",
     "text": [
      ">>>>>>>>>> memo_units effectiveness_memo_units_1650506097.pkl\n",
      "normal\n"
     ]
    },
    {
     "data": {
      "text/html": [
       "<div>\n",
       "<style scoped>\n",
       "    .dataframe tbody tr th:only-of-type {\n",
       "        vertical-align: middle;\n",
       "    }\n",
       "\n",
       "    .dataframe tbody tr th {\n",
       "        vertical-align: top;\n",
       "    }\n",
       "\n",
       "    .dataframe thead th {\n",
       "        text-align: right;\n",
       "    }\n",
       "</style>\n",
       "<table border=\"1\" class=\"dataframe\">\n",
       "  <thead>\n",
       "    <tr style=\"text-align: right;\">\n",
       "      <th></th>\n",
       "      <th>GreedyKS</th>\n",
       "      <th>Exact KS</th>\n",
       "      <th>Reservoir Sampling</th>\n",
       "      <th>IKS + Reservoir</th>\n",
       "      <th>Lall + DDSketch</th>\n",
       "    </tr>\n",
       "  </thead>\n",
       "  <tbody>\n",
       "    <tr>\n",
       "      <th>$10^1$</th>\n",
       "      <td>8/0/1714.4</td>\n",
       "      <td>12/0/1442.4</td>\n",
       "      <td>11/85/3401.5</td>\n",
       "      <td>19/73/1692.6</td>\n",
       "      <td>100/0/nan</td>\n",
       "    </tr>\n",
       "    <tr>\n",
       "      <th>$10^{1.5}$</th>\n",
       "      <td>13/0/1621.5</td>\n",
       "      <td>12/0/1510.6</td>\n",
       "      <td>17/76/2818.3</td>\n",
       "      <td>21/60/2334.2</td>\n",
       "      <td>100/0/nan</td>\n",
       "    </tr>\n",
       "    <tr>\n",
       "      <th>$10^2$</th>\n",
       "      <td>12/0/1492.6</td>\n",
       "      <td>12/0/1453.2</td>\n",
       "      <td>11/75/3163.3</td>\n",
       "      <td>26/53/2940.0</td>\n",
       "      <td>39/0/450.1</td>\n",
       "    </tr>\n",
       "  </tbody>\n",
       "</table>\n",
       "</div>"
      ],
      "text/plain": [
       "               GreedyKS     Exact KS Reservoir Sampling IKS + Reservoir  \\\n",
       "$10^1$       8/0/1714.4  12/0/1442.4       11/85/3401.5    19/73/1692.6   \n",
       "$10^{1.5}$  13/0/1621.5  12/0/1510.6       17/76/2818.3    21/60/2334.2   \n",
       "$10^2$      12/0/1492.6  12/0/1453.2       11/75/3163.3    26/53/2940.0   \n",
       "\n",
       "           Lall + DDSketch  \n",
       "$10^1$           100/0/nan  \n",
       "$10^{1.5}$       100/0/nan  \n",
       "$10^2$          39/0/450.1  "
      ]
     },
     "metadata": {},
     "output_type": "display_data"
    },
    {
     "name": "stdout",
     "output_type": "stream",
     "text": [
      "uniform\n"
     ]
    },
    {
     "data": {
      "text/html": [
       "<div>\n",
       "<style scoped>\n",
       "    .dataframe tbody tr th:only-of-type {\n",
       "        vertical-align: middle;\n",
       "    }\n",
       "\n",
       "    .dataframe tbody tr th {\n",
       "        vertical-align: top;\n",
       "    }\n",
       "\n",
       "    .dataframe thead th {\n",
       "        text-align: right;\n",
       "    }\n",
       "</style>\n",
       "<table border=\"1\" class=\"dataframe\">\n",
       "  <thead>\n",
       "    <tr style=\"text-align: right;\">\n",
       "      <th></th>\n",
       "      <th>GreedyKS</th>\n",
       "      <th>Exact KS</th>\n",
       "      <th>Reservoir Sampling</th>\n",
       "      <th>IKS + Reservoir</th>\n",
       "      <th>Lall + DDSketch</th>\n",
       "    </tr>\n",
       "  </thead>\n",
       "  <tbody>\n",
       "    <tr>\n",
       "      <th>$10^1$</th>\n",
       "      <td>9/0/2533.9</td>\n",
       "      <td>13/0/2053.0</td>\n",
       "      <td>13/84/831.0</td>\n",
       "      <td>19/74/2117.4</td>\n",
       "      <td>100/0/nan</td>\n",
       "    </tr>\n",
       "    <tr>\n",
       "      <th>$10^{1.5}$</th>\n",
       "      <td>10/0/2036.4</td>\n",
       "      <td>10/0/1849.5</td>\n",
       "      <td>6/90/397.2</td>\n",
       "      <td>25/60/3018.9</td>\n",
       "      <td>100/0/nan</td>\n",
       "    </tr>\n",
       "    <tr>\n",
       "      <th>$10^2$</th>\n",
       "      <td>12/0/1901.1</td>\n",
       "      <td>10/0/1853.6</td>\n",
       "      <td>10/71/3105.9</td>\n",
       "      <td>21/57/2861.0</td>\n",
       "      <td>45/0/484.3</td>\n",
       "    </tr>\n",
       "  </tbody>\n",
       "</table>\n",
       "</div>"
      ],
      "text/plain": [
       "               GreedyKS     Exact KS Reservoir Sampling IKS + Reservoir  \\\n",
       "$10^1$       9/0/2533.9  13/0/2053.0        13/84/831.0    19/74/2117.4   \n",
       "$10^{1.5}$  10/0/2036.4  10/0/1849.5         6/90/397.2    25/60/3018.9   \n",
       "$10^2$      12/0/1901.1  10/0/1853.6       10/71/3105.9    21/57/2861.0   \n",
       "\n",
       "           Lall + DDSketch  \n",
       "$10^1$           100/0/nan  \n",
       "$10^{1.5}$       100/0/nan  \n",
       "$10^2$          45/0/484.3  "
      ]
     },
     "metadata": {},
     "output_type": "display_data"
    },
    {
     "name": "stdout",
     "output_type": "stream",
     "text": [
      "exp\n"
     ]
    },
    {
     "data": {
      "text/html": [
       "<div>\n",
       "<style scoped>\n",
       "    .dataframe tbody tr th:only-of-type {\n",
       "        vertical-align: middle;\n",
       "    }\n",
       "\n",
       "    .dataframe tbody tr th {\n",
       "        vertical-align: top;\n",
       "    }\n",
       "\n",
       "    .dataframe thead th {\n",
       "        text-align: right;\n",
       "    }\n",
       "</style>\n",
       "<table border=\"1\" class=\"dataframe\">\n",
       "  <thead>\n",
       "    <tr style=\"text-align: right;\">\n",
       "      <th></th>\n",
       "      <th>GreedyKS</th>\n",
       "      <th>Exact KS</th>\n",
       "      <th>Reservoir Sampling</th>\n",
       "      <th>IKS + Reservoir</th>\n",
       "      <th>Lall + DDSketch</th>\n",
       "    </tr>\n",
       "  </thead>\n",
       "  <tbody>\n",
       "    <tr>\n",
       "      <th>$10^1$</th>\n",
       "      <td>10/0/646.9</td>\n",
       "      <td>13/0/563.6</td>\n",
       "      <td>13/81/4046.8</td>\n",
       "      <td>27/63/3101.8</td>\n",
       "      <td>100/0/nan</td>\n",
       "    </tr>\n",
       "    <tr>\n",
       "      <th>$10^{1.5}$</th>\n",
       "      <td>8/0/615.9</td>\n",
       "      <td>7/0/571.2</td>\n",
       "      <td>13/80/4968.0</td>\n",
       "      <td>27/55/2837.7</td>\n",
       "      <td>44/0/339.4</td>\n",
       "    </tr>\n",
       "    <tr>\n",
       "      <th>$10^2$</th>\n",
       "      <td>10/0/569.5</td>\n",
       "      <td>7/0/552.0</td>\n",
       "      <td>14/58/3391.4</td>\n",
       "      <td>24/52/3120.2</td>\n",
       "      <td>17/0/519.9</td>\n",
       "    </tr>\n",
       "  </tbody>\n",
       "</table>\n",
       "</div>"
      ],
      "text/plain": [
       "              GreedyKS    Exact KS Reservoir Sampling IKS + Reservoir  \\\n",
       "$10^1$      10/0/646.9  13/0/563.6       13/81/4046.8    27/63/3101.8   \n",
       "$10^{1.5}$   8/0/615.9   7/0/571.2       13/80/4968.0    27/55/2837.7   \n",
       "$10^2$      10/0/569.5   7/0/552.0       14/58/3391.4    24/52/3120.2   \n",
       "\n",
       "           Lall + DDSketch  \n",
       "$10^1$           100/0/nan  \n",
       "$10^{1.5}$      44/0/339.4  \n",
       "$10^2$          17/0/519.9  "
      ]
     },
     "metadata": {},
     "output_type": "display_data"
    },
    {
     "name": "stdout",
     "output_type": "stream",
     "text": [
      ">>>>>>>>>> mean_diff effectiveness_mean_diff_1650511663.pkl\n",
      "normal\n"
     ]
    },
    {
     "data": {
      "text/html": [
       "<div>\n",
       "<style scoped>\n",
       "    .dataframe tbody tr th:only-of-type {\n",
       "        vertical-align: middle;\n",
       "    }\n",
       "\n",
       "    .dataframe tbody tr th {\n",
       "        vertical-align: top;\n",
       "    }\n",
       "\n",
       "    .dataframe thead th {\n",
       "        text-align: right;\n",
       "    }\n",
       "</style>\n",
       "<table border=\"1\" class=\"dataframe\">\n",
       "  <thead>\n",
       "    <tr style=\"text-align: right;\">\n",
       "      <th></th>\n",
       "      <th>GreedyKS</th>\n",
       "      <th>Exact KS</th>\n",
       "      <th>Reservoir Sampling</th>\n",
       "      <th>IKS + Reservoir</th>\n",
       "      <th>Lall + DDSketch</th>\n",
       "    </tr>\n",
       "  </thead>\n",
       "  <tbody>\n",
       "    <tr>\n",
       "      <th>$10^{-2}$</th>\n",
       "      <td>7/81/2986.1</td>\n",
       "      <td>7/79/2811.6</td>\n",
       "      <td>14/74/3213.3</td>\n",
       "      <td>18/64/2363.3</td>\n",
       "      <td>46/0/852.3</td>\n",
       "    </tr>\n",
       "    <tr>\n",
       "      <th>$10^{-1.5}$</th>\n",
       "      <td>11/47/4601.9</td>\n",
       "      <td>13/42/4507.9</td>\n",
       "      <td>11/82/1911.7</td>\n",
       "      <td>21/67/1975.6</td>\n",
       "      <td>46/0/771.3</td>\n",
       "    </tr>\n",
       "    <tr>\n",
       "      <th>$10^{-1}$</th>\n",
       "      <td>6/0/1443.1</td>\n",
       "      <td>6/0/1408.2</td>\n",
       "      <td>12/72/2554.3</td>\n",
       "      <td>18/62/2484.9</td>\n",
       "      <td>34/0/474.3</td>\n",
       "    </tr>\n",
       "  </tbody>\n",
       "</table>\n",
       "</div>"
      ],
      "text/plain": [
       "                 GreedyKS      Exact KS Reservoir Sampling IKS + Reservoir  \\\n",
       "$10^{-2}$     7/81/2986.1   7/79/2811.6       14/74/3213.3    18/64/2363.3   \n",
       "$10^{-1.5}$  11/47/4601.9  13/42/4507.9       11/82/1911.7    21/67/1975.6   \n",
       "$10^{-1}$      6/0/1443.1    6/0/1408.2       12/72/2554.3    18/62/2484.9   \n",
       "\n",
       "            Lall + DDSketch  \n",
       "$10^{-2}$        46/0/852.3  \n",
       "$10^{-1.5}$      46/0/771.3  \n",
       "$10^{-1}$        34/0/474.3  "
      ]
     },
     "metadata": {},
     "output_type": "display_data"
    },
    {
     "name": "stdout",
     "output_type": "stream",
     "text": [
      "uniform\n"
     ]
    },
    {
     "data": {
      "text/html": [
       "<div>\n",
       "<style scoped>\n",
       "    .dataframe tbody tr th:only-of-type {\n",
       "        vertical-align: middle;\n",
       "    }\n",
       "\n",
       "    .dataframe tbody tr th {\n",
       "        vertical-align: top;\n",
       "    }\n",
       "\n",
       "    .dataframe thead th {\n",
       "        text-align: right;\n",
       "    }\n",
       "</style>\n",
       "<table border=\"1\" class=\"dataframe\">\n",
       "  <thead>\n",
       "    <tr style=\"text-align: right;\">\n",
       "      <th></th>\n",
       "      <th>GreedyKS</th>\n",
       "      <th>Exact KS</th>\n",
       "      <th>Reservoir Sampling</th>\n",
       "      <th>IKS + Reservoir</th>\n",
       "      <th>Lall + DDSketch</th>\n",
       "    </tr>\n",
       "  </thead>\n",
       "  <tbody>\n",
       "    <tr>\n",
       "      <th>$10^{-2}$</th>\n",
       "      <td>9/83/3097.2</td>\n",
       "      <td>9/80/2858.6</td>\n",
       "      <td>14/81/3603.4</td>\n",
       "      <td>17/68/3069.3</td>\n",
       "      <td>38/0/706.1</td>\n",
       "    </tr>\n",
       "    <tr>\n",
       "      <th>$10^{-1.5}$</th>\n",
       "      <td>8/59/4926.4</td>\n",
       "      <td>8/55/4598.7</td>\n",
       "      <td>13/81/4058.8</td>\n",
       "      <td>20/70/2230.8</td>\n",
       "      <td>27/0/693.1</td>\n",
       "    </tr>\n",
       "    <tr>\n",
       "      <th>$10^{-1}$</th>\n",
       "      <td>16/0/1820.8</td>\n",
       "      <td>15/0/1750.5</td>\n",
       "      <td>11/69/3627.6</td>\n",
       "      <td>17/62/2420.0</td>\n",
       "      <td>42/0/397.1</td>\n",
       "    </tr>\n",
       "  </tbody>\n",
       "</table>\n",
       "</div>"
      ],
      "text/plain": [
       "                GreedyKS     Exact KS Reservoir Sampling IKS + Reservoir  \\\n",
       "$10^{-2}$    9/83/3097.2  9/80/2858.6       14/81/3603.4    17/68/3069.3   \n",
       "$10^{-1.5}$  8/59/4926.4  8/55/4598.7       13/81/4058.8    20/70/2230.8   \n",
       "$10^{-1}$    16/0/1820.8  15/0/1750.5       11/69/3627.6    17/62/2420.0   \n",
       "\n",
       "            Lall + DDSketch  \n",
       "$10^{-2}$        38/0/706.1  \n",
       "$10^{-1.5}$      27/0/693.1  \n",
       "$10^{-1}$        42/0/397.1  "
      ]
     },
     "metadata": {},
     "output_type": "display_data"
    },
    {
     "name": "stdout",
     "output_type": "stream",
     "text": [
      "exp\n"
     ]
    },
    {
     "data": {
      "text/html": [
       "<div>\n",
       "<style scoped>\n",
       "    .dataframe tbody tr th:only-of-type {\n",
       "        vertical-align: middle;\n",
       "    }\n",
       "\n",
       "    .dataframe tbody tr th {\n",
       "        vertical-align: top;\n",
       "    }\n",
       "\n",
       "    .dataframe thead th {\n",
       "        text-align: right;\n",
       "    }\n",
       "</style>\n",
       "<table border=\"1\" class=\"dataframe\">\n",
       "  <thead>\n",
       "    <tr style=\"text-align: right;\">\n",
       "      <th></th>\n",
       "      <th>GreedyKS</th>\n",
       "      <th>Exact KS</th>\n",
       "      <th>Reservoir Sampling</th>\n",
       "      <th>IKS + Reservoir</th>\n",
       "      <th>Lall + DDSketch</th>\n",
       "    </tr>\n",
       "  </thead>\n",
       "  <tbody>\n",
       "    <tr>\n",
       "      <th>$10^{-2}$</th>\n",
       "      <td>3/81/5421.2</td>\n",
       "      <td>3/79/5237.7</td>\n",
       "      <td>7/82/3524.5</td>\n",
       "      <td>24/63/2873.1</td>\n",
       "      <td>12/8/3506.6</td>\n",
       "    </tr>\n",
       "    <tr>\n",
       "      <th>$10^{-1.5}$</th>\n",
       "      <td>12/0/2617.0</td>\n",
       "      <td>12/0/2536.8</td>\n",
       "      <td>18/75/3349.6</td>\n",
       "      <td>20/59/3350.5</td>\n",
       "      <td>17/0/2025.0</td>\n",
       "    </tr>\n",
       "    <tr>\n",
       "      <th>$10^{-1}$</th>\n",
       "      <td>10/0/561.1</td>\n",
       "      <td>9/0/543.8</td>\n",
       "      <td>14/59/3905.4</td>\n",
       "      <td>21/57/2422.2</td>\n",
       "      <td>17/0/519.7</td>\n",
       "    </tr>\n",
       "  </tbody>\n",
       "</table>\n",
       "</div>"
      ],
      "text/plain": [
       "                GreedyKS     Exact KS Reservoir Sampling IKS + Reservoir  \\\n",
       "$10^{-2}$    3/81/5421.2  3/79/5237.7        7/82/3524.5    24/63/2873.1   \n",
       "$10^{-1.5}$  12/0/2617.0  12/0/2536.8       18/75/3349.6    20/59/3350.5   \n",
       "$10^{-1}$     10/0/561.1    9/0/543.8       14/59/3905.4    21/57/2422.2   \n",
       "\n",
       "            Lall + DDSketch  \n",
       "$10^{-2}$       12/8/3506.6  \n",
       "$10^{-1.5}$     17/0/2025.0  \n",
       "$10^{-1}$        17/0/519.7  "
      ]
     },
     "metadata": {},
     "output_type": "display_data"
    },
    {
     "name": "stdout",
     "output_type": "stream",
     "text": [
      ">>>>>>>>>> std_diff effectiveness_std_diff_1650517021.pkl\n",
      "normal\n"
     ]
    },
    {
     "data": {
      "text/html": [
       "<div>\n",
       "<style scoped>\n",
       "    .dataframe tbody tr th:only-of-type {\n",
       "        vertical-align: middle;\n",
       "    }\n",
       "\n",
       "    .dataframe tbody tr th {\n",
       "        vertical-align: top;\n",
       "    }\n",
       "\n",
       "    .dataframe thead th {\n",
       "        text-align: right;\n",
       "    }\n",
       "</style>\n",
       "<table border=\"1\" class=\"dataframe\">\n",
       "  <thead>\n",
       "    <tr style=\"text-align: right;\">\n",
       "      <th></th>\n",
       "      <th>GreedyKS</th>\n",
       "      <th>Exact KS</th>\n",
       "      <th>Reservoir Sampling</th>\n",
       "      <th>IKS + Reservoir</th>\n",
       "      <th>Lall + DDSketch</th>\n",
       "    </tr>\n",
       "  </thead>\n",
       "  <tbody>\n",
       "    <tr>\n",
       "      <th>$10^{-2}$</th>\n",
       "      <td>5/87/3785.2</td>\n",
       "      <td>5/86/3191.8</td>\n",
       "      <td>17/74/2551.9</td>\n",
       "      <td>23/62/1360.9</td>\n",
       "      <td>42/0/682.2</td>\n",
       "    </tr>\n",
       "    <tr>\n",
       "      <th>$10^{-1.5}$</th>\n",
       "      <td>6/78/4308.8</td>\n",
       "      <td>4/78/4101.9</td>\n",
       "      <td>6/82/3260.3</td>\n",
       "      <td>24/63/2717.2</td>\n",
       "      <td>37/0/924.8</td>\n",
       "    </tr>\n",
       "    <tr>\n",
       "      <th>$10^{-1}$</th>\n",
       "      <td>9/0/3201.7</td>\n",
       "      <td>8/0/2988.0</td>\n",
       "      <td>12/78/4629.8</td>\n",
       "      <td>18/68/3497.4</td>\n",
       "      <td>38/0/672.0</td>\n",
       "    </tr>\n",
       "  </tbody>\n",
       "</table>\n",
       "</div>"
      ],
      "text/plain": [
       "                GreedyKS     Exact KS Reservoir Sampling IKS + Reservoir  \\\n",
       "$10^{-2}$    5/87/3785.2  5/86/3191.8       17/74/2551.9    23/62/1360.9   \n",
       "$10^{-1.5}$  6/78/4308.8  4/78/4101.9        6/82/3260.3    24/63/2717.2   \n",
       "$10^{-1}$     9/0/3201.7   8/0/2988.0       12/78/4629.8    18/68/3497.4   \n",
       "\n",
       "            Lall + DDSketch  \n",
       "$10^{-2}$        42/0/682.2  \n",
       "$10^{-1.5}$      37/0/924.8  \n",
       "$10^{-1}$        38/0/672.0  "
      ]
     },
     "metadata": {},
     "output_type": "display_data"
    },
    {
     "name": "stdout",
     "output_type": "stream",
     "text": [
      "uniform\n"
     ]
    },
    {
     "data": {
      "text/html": [
       "<div>\n",
       "<style scoped>\n",
       "    .dataframe tbody tr th:only-of-type {\n",
       "        vertical-align: middle;\n",
       "    }\n",
       "\n",
       "    .dataframe tbody tr th {\n",
       "        vertical-align: top;\n",
       "    }\n",
       "\n",
       "    .dataframe thead th {\n",
       "        text-align: right;\n",
       "    }\n",
       "</style>\n",
       "<table border=\"1\" class=\"dataframe\">\n",
       "  <thead>\n",
       "    <tr style=\"text-align: right;\">\n",
       "      <th></th>\n",
       "      <th>GreedyKS</th>\n",
       "      <th>Exact KS</th>\n",
       "      <th>Reservoir Sampling</th>\n",
       "      <th>IKS + Reservoir</th>\n",
       "      <th>Lall + DDSketch</th>\n",
       "    </tr>\n",
       "  </thead>\n",
       "  <tbody>\n",
       "    <tr>\n",
       "      <th>$10^{-2}$</th>\n",
       "      <td>12/82/3474.8</td>\n",
       "      <td>11/82/3253.1</td>\n",
       "      <td>15/70/2297.7</td>\n",
       "      <td>21/65/1437.4</td>\n",
       "      <td>36/0/589.3</td>\n",
       "    </tr>\n",
       "    <tr>\n",
       "      <th>$10^{-1.5}$</th>\n",
       "      <td>7/49/6055.9</td>\n",
       "      <td>7/43/5874.6</td>\n",
       "      <td>11/79/1945.9</td>\n",
       "      <td>22/66/4106.8</td>\n",
       "      <td>37/0/540.4</td>\n",
       "    </tr>\n",
       "    <tr>\n",
       "      <th>$10^{-1}$</th>\n",
       "      <td>10/0/1528.6</td>\n",
       "      <td>10/0/1496.5</td>\n",
       "      <td>17/73/2511.1</td>\n",
       "      <td>22/63/4207.1</td>\n",
       "      <td>44/0/383.9</td>\n",
       "    </tr>\n",
       "  </tbody>\n",
       "</table>\n",
       "</div>"
      ],
      "text/plain": [
       "                 GreedyKS      Exact KS Reservoir Sampling IKS + Reservoir  \\\n",
       "$10^{-2}$    12/82/3474.8  11/82/3253.1       15/70/2297.7    21/65/1437.4   \n",
       "$10^{-1.5}$   7/49/6055.9   7/43/5874.6       11/79/1945.9    22/66/4106.8   \n",
       "$10^{-1}$     10/0/1528.6   10/0/1496.5       17/73/2511.1    22/63/4207.1   \n",
       "\n",
       "            Lall + DDSketch  \n",
       "$10^{-2}$        36/0/589.3  \n",
       "$10^{-1.5}$      37/0/540.4  \n",
       "$10^{-1}$        44/0/383.9  "
      ]
     },
     "metadata": {},
     "output_type": "display_data"
    },
    {
     "name": "stdout",
     "output_type": "stream",
     "text": [
      "exp\n"
     ]
    },
    {
     "data": {
      "text/html": [
       "<div>\n",
       "<style scoped>\n",
       "    .dataframe tbody tr th:only-of-type {\n",
       "        vertical-align: middle;\n",
       "    }\n",
       "\n",
       "    .dataframe tbody tr th {\n",
       "        vertical-align: top;\n",
       "    }\n",
       "\n",
       "    .dataframe thead th {\n",
       "        text-align: right;\n",
       "    }\n",
       "</style>\n",
       "<table border=\"1\" class=\"dataframe\">\n",
       "  <thead>\n",
       "    <tr style=\"text-align: right;\">\n",
       "      <th></th>\n",
       "      <th>GreedyKS</th>\n",
       "      <th>Exact KS</th>\n",
       "      <th>Reservoir Sampling</th>\n",
       "      <th>IKS + Reservoir</th>\n",
       "      <th>Lall + DDSketch</th>\n",
       "    </tr>\n",
       "  </thead>\n",
       "  <tbody>\n",
       "    <tr>\n",
       "      <th>$10^{-2}$</th>\n",
       "      <td>9/80/3641.4</td>\n",
       "      <td>7/80/4161.6</td>\n",
       "      <td>10/80/2775.5</td>\n",
       "      <td>29/54/3062.3</td>\n",
       "      <td>34/0/1366.4</td>\n",
       "    </tr>\n",
       "    <tr>\n",
       "      <th>$10^{-1.5}$</th>\n",
       "      <td>12/0/3185.0</td>\n",
       "      <td>12/0/3015.8</td>\n",
       "      <td>8/77/3680.1</td>\n",
       "      <td>14/66/2923.2</td>\n",
       "      <td>24/0/1293.7</td>\n",
       "    </tr>\n",
       "    <tr>\n",
       "      <th>$10^{-1}$</th>\n",
       "      <td>16/0/656.6</td>\n",
       "      <td>15/0/651.2</td>\n",
       "      <td>14/66/2737.5</td>\n",
       "      <td>27/55/3450.4</td>\n",
       "      <td>39/0/498.3</td>\n",
       "    </tr>\n",
       "  </tbody>\n",
       "</table>\n",
       "</div>"
      ],
      "text/plain": [
       "                GreedyKS     Exact KS Reservoir Sampling IKS + Reservoir  \\\n",
       "$10^{-2}$    9/80/3641.4  7/80/4161.6       10/80/2775.5    29/54/3062.3   \n",
       "$10^{-1.5}$  12/0/3185.0  12/0/3015.8        8/77/3680.1    14/66/2923.2   \n",
       "$10^{-1}$     16/0/656.6   15/0/651.2       14/66/2737.5    27/55/3450.4   \n",
       "\n",
       "            Lall + DDSketch  \n",
       "$10^{-2}$       34/0/1366.4  \n",
       "$10^{-1.5}$     24/0/1293.7  \n",
       "$10^{-1}$        39/0/498.3  "
      ]
     },
     "metadata": {},
     "output_type": "display_data"
    }
   ],
   "source": [
    "for e in experiments:\n",
    "    f = e[-1]\n",
    "    results = pd.read_pickle('./data_pdf_files/' + f)\n",
    "    exp_type = f[f.find('_') + 1 : f.rfind('_')]\n",
    "    print('>' * 10, exp_type, f)\n",
    "    res = util.plot_table(results, exp_type, './data_pdf_files/effectiveness_' + exp_type)\n",
    "    for k in res:\n",
    "        print(k)\n",
    "        display(res[k])\n"
   ]
  }
 ],
 "metadata": {
  "kernelspec": {
   "display_name": "Python 3 (ipykernel)",
   "language": "python",
   "name": "python3"
  },
  "language_info": {
   "codemirror_mode": {
    "name": "ipython",
    "version": 3
   },
   "file_extension": ".py",
   "mimetype": "text/x-python",
   "name": "python",
   "nbconvert_exporter": "python",
   "pygments_lexer": "ipython3",
   "version": "3.9.7"
  }
 },
 "nbformat": 4,
 "nbformat_minor": 4
}

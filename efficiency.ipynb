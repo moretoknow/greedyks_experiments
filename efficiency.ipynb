{
 "cells": [
  {
   "cell_type": "code",
   "execution_count": 1,
   "id": "23e7c2ef",
   "metadata": {},
   "outputs": [],
   "source": [
    "import numpy as np\n",
    "import time\n",
    "import jcs_paper_util as util"
   ]
  },
  {
   "cell_type": "code",
   "execution_count": 2,
   "id": "aa4198a2",
   "metadata": {},
   "outputs": [],
   "source": [
    "util.matplotlib_setup()\n",
    "util.default_num_reps = 100\n",
    "util.single_process = util.single_process_eff"
   ]
  },
  {
   "cell_type": "code",
   "execution_count": null,
   "id": "e5506f3b",
   "metadata": {},
   "outputs": [
    {
     "name": "stdout",
     "output_type": "stream",
     "text": [
      "q_interval\n"
     ]
    },
    {
     "name": "stderr",
     "output_type": "stream",
     "text": [
      "\r",
      "  0%|                                                       | 0/300 [00:00<?, ?it/s]"
     ]
    }
   ],
   "source": [
    "# Query interval default = 1\n",
    "experiments = [\n",
    "    ['q_interval', 10 ** np.arange(0,3), 'Query interval'],\n",
    "    ['sample_size', (10 ** np.arange(3, 4.5, 0.5)).astype(int), 'Sample size'],\n",
    "    ['memo_perct', 10. ** np.arange(-3, 0), 'Memory fraction'],\n",
    "]\n",
    "\n",
    "for e in experiments:\n",
    "    print(e[0])\n",
    "    results = util.get_results(**{'sample_size': (10**4,), e[0]: e[1]})\n",
    "    timestamp = int(time.time())\n",
    "    file_name = './data_&_pdf_files/results_{}_{}.pkl'.format(e[0], timestamp)\n",
    "    results.to_pickle(file_name)\n",
    "    util.plot_errors(\n",
    "        results,\n",
    "        ['title_norm', 'title_uniform', 'title_expon'],\n",
    "        'Time',\n",
    "        e[2],\n",
    "        e[0],\n",
    "        \"./data_&_pdf_files/results_{}_1.pdf\".format(e[0])\n",
    "        )\n"
   ]
  },
  {
   "cell_type": "code",
   "execution_count": null,
   "id": "d3fcb2f6",
   "metadata": {},
   "outputs": [],
   "source": [
    "# Query interval default = 10\n",
    "experiments = [\n",
    "#     ['q_interval', 10 ** np.arange(0,3), 'Query interval'],\n",
    "    ['sample_size', (10 ** np.arange(3, 4.5, 0.5)).astype(int), 'Sample size'],\n",
    "    ['memo_perct', 10. ** np.arange(-3, 0), 'Memory fraction'],\n",
    "]\n",
    "\n",
    "for e in experiments:\n",
    "    print(e[0])\n",
    "    results = util.get_results(**{'q_interval': (10,), 'sample_size': (10**4,), e[0]: e[1]})\n",
    "    timestamp = int(time.time())\n",
    "    file_name = './data_&_pdf_files/results_{}_{}.pkl'.format(e[0], timestamp)\n",
    "    results.to_pickle(file_name)\n",
    "    util.plot_errors(\n",
    "        results,\n",
    "        ['title_norm', 'title_uniform', 'title_expon'],\n",
    "        'Time',\n",
    "        e[2],\n",
    "        e[0],\n",
    "        \"./data_&_pdf_files/results_{}_10.pdf\".format(e[0])\n",
    "        )\n"
   ]
  },
  {
   "cell_type": "code",
   "execution_count": null,
   "id": "1041c1ea",
   "metadata": {},
   "outputs": [],
   "source": [
    "# Query interval default = 100\n",
    "experiments = [\n",
    "#     ['q_interval', 10 ** np.arange(0,3), 'Query interval'],\n",
    "    ['sample_size', (10 ** np.arange(3, 4.5, 0.5)).astype(int), 'Sample size'],\n",
    "    ['memo_perct', 10. ** np.arange(-3, 0), 'Memory fraction'],\n",
    "]\n",
    "\n",
    "for e in experiments:\n",
    "    print(e[0])\n",
    "    results = util.get_results(**{'q_interval': (100,), 'sample_size': (10**4,), e[0]: e[1]})\n",
    "    timestamp = int(time.time())\n",
    "    file_name = './data_&_pdf_files/results_{}_{}.pkl'.format(e[0], timestamp)\n",
    "    results.to_pickle(file_name)\n",
    "    util.plot_errors(\n",
    "        results,\n",
    "        ['title_norm', 'title_uniform', 'title_expon'],\n",
    "        'Time',\n",
    "        e[2],\n",
    "        e[0],\n",
    "        \"./data_&_pdf_files/results_{}_100.pdf\".format(e[0])\n",
    "        )\n"
   ]
  },
  {
   "cell_type": "code",
   "execution_count": null,
   "id": "13239f3f",
   "metadata": {},
   "outputs": [],
   "source": [
    "# Plota arquivo sem escala log no eixo y\n",
    "# import pandas as pd\n",
    "\n",
    "# results = pd.read_pickle(file_name)\n",
    "# util.plot_errors(\n",
    "#     results,\n",
    "#     ['title_norm', 'title_uniform', 'title_expon'],\n",
    "#     'Time',\n",
    "#     e[2],\n",
    "#     e[0],\n",
    "#     \"./data_&_pdf_files/results_{}.pdf\".format(experiments[0][0] + 'y_linear'),\n",
    "#     ylog=False\n",
    "#     )\n"
   ]
  }
 ],
 "metadata": {
  "kernelspec": {
   "display_name": "Python 3 (ipykernel)",
   "language": "python",
   "name": "python3"
  },
  "language_info": {
   "codemirror_mode": {
    "name": "ipython",
    "version": 3
   },
   "file_extension": ".py",
   "mimetype": "text/x-python",
   "name": "python",
   "nbconvert_exporter": "python",
   "pygments_lexer": "ipython3",
   "version": "3.8.10"
  }
 },
 "nbformat": 4,
 "nbformat_minor": 5
}

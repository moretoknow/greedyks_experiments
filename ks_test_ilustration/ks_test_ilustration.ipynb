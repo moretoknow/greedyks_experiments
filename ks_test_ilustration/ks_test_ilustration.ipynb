{
 "cells": [
  {
   "cell_type": "code",
   "execution_count": 4,
   "metadata": {
    "ExecuteTime": {
     "end_time": "2022-04-30T15:52:49.362536Z",
     "start_time": "2022-04-30T15:52:49.354670Z"
    }
   },
   "outputs": [],
   "source": [
    "import numpy as np\n",
    "import seaborn as sns\n",
    "\n",
    "import matplotlib.pyplot as plt\n",
    "import matplotlib\n",
    "import cycler\n",
    "\n",
    "from scipy.stats import norm"
   ]
  },
  {
   "cell_type": "code",
   "execution_count": 5,
   "metadata": {
    "ExecuteTime": {
     "end_time": "2022-04-30T15:52:49.758919Z",
     "start_time": "2022-04-30T15:52:49.747408Z"
    }
   },
   "outputs": [],
   "source": [
    "def matplotlib_setup():\n",
    "    matplotlib.rc('mathtext', fontset='cm')\n",
    "\n",
    "    font = {\n",
    "        'family':'serif', \n",
    "        'weight':'normal', \n",
    "        'size':8\n",
    "    }\n",
    "    matplotlib.rc('font', **font)\n",
    "\n",
    "    legend = {\n",
    "        'markerscale':1, \n",
    "        'labelspacing':0.3, \n",
    "        'borderpad':0.2, \n",
    "        'handletextpad':0.4,\n",
    "        'columnspacing':1.2\n",
    "    }\n",
    "    matplotlib.rc('legend', **legend)\n",
    "\n",
    "    axes_prop_cycle = {\n",
    "        'markersize':[3]*20,\n",
    "        #'markeredgewidth':[.8]*20,\n",
    "        #'markeredgecolor':['w']*20,\n",
    "        'linewidth':[1.]*20,\n",
    "#         'linestyle':['-', '--', '-.', ':']*5,\n",
    "#         'marker':['o', 'X', 's', 'P', 'D']*4,\n",
    "        'color':sns.color_palette(\"Set1\", 20)\n",
    "    }\n",
    "\n",
    "    matplotlib.rc('axes', prop_cycle=cycler.cycler(**axes_prop_cycle))\n",
    "\n",
    "\n",
    "def get_ecdf(sample):\n",
    "    ecdf = []\n",
    "    for x in sample:\n",
    "        ecdf.append(sum(sample < x)/float(len(sample)))\n",
    "    \n",
    "    return np.array(ecdf)\n",
    "\n",
    "\n",
    "def get_Dxy(ref_dist, sample):\n",
    "    ecdf = get_ecdf(sample)\n",
    "    ks_values = ecdf - ref_dist.cdf(sample)\n",
    "\n",
    "    D_pos = np.argmax(ks_values)\n",
    "    D_neg = np.argmin(ks_values)\n",
    "\n",
    "    x1 = sample[D_pos]\n",
    "    x2 = sample[D_neg]\n",
    "\n",
    "    y1 = ecdf[np.where(sample == x1)[0][0]]\n",
    "    y2 = ecdf[np.where(sample == x2)[0][0]]\n",
    "\n",
    "    return x1, x2, y1, y2\n",
    "\n",
    "\n",
    "N = 1000\n",
    "ref_dist = norm(0, 1)\n",
    "sample_dist = norm(0, 1.5)"
   ]
  },
  {
   "cell_type": "code",
   "execution_count": 69,
   "metadata": {
    "ExecuteTime": {
     "end_time": "2022-04-30T18:40:11.649691Z",
     "start_time": "2022-04-30T18:40:11.430939Z"
    }
   },
   "outputs": [
    {
     "data": {
      "image/png": "[encoded data removed]",
      "text/plain": [
       "<Figure size 288x144 with 1 Axes>"
      ]
     },
     "metadata": {
      "needs_background": "light"
     },
     "output_type": "display_data"
    }
   ],
   "source": [
    "matplotlib_setup()\n",
    "\n",
    "ref_sample = ref_dist.rvs(size=N)\n",
    "\n",
    "x_cdf = np.sort(ref_sample)\n",
    "y_cdf = ref_dist.cdf(x_cdf)\n",
    "\n",
    "fig_size = np.array([1.,.5])*4.\n",
    "plt.subplots(figsize=fig_size)\n",
    "\n",
    "plt.plot(x_cdf, y_cdf, label='CDF')\n",
    "\n",
    "dist_sample = sample_dist.rvs(size=int(N/20.0))\n",
    "\n",
    "sns.ecdfplot(x=dist_sample)\n",
    "\n",
    "plt.title('CDF / ECDF')\n",
    "plt.ylabel('Cumulative Probability')\n",
    "plt.xlabel(r'$X$')\n",
    "plt.xticks([-2, -1, 0, 1, 2])\n",
    "\n",
    "x1, x2, y1, y2 = get_Dxy(ref_dist, dist_sample)\n",
    "\n",
    "plt.plot([x1, x1], [ref_dist.cdf(x1), y1], label='D+')\n",
    "plt.plot([x2, x2], [ref_dist.cdf(x2), y2], label='D-')\n",
    "plt.xlim(-3, 3)\n",
    "\n",
    "plt.legend(labels=[\"CDF\",\"ECDF\",r'$D^+$',r'$D^-$'], loc='lower center', ncol=5, bbox_to_anchor=(0.53, -0.45))\n",
    "plt.grid(True)\n",
    "plt.savefig('../data_pdf_files/ks_test.pdf', bbox_inches='tight')\n",
    "plt.show()\n",
    "\n",
    "#!cp ../data_pdf_files/ks_test.pdf ../../jcs2022/fig"
   ]
  },
  {
   "cell_type": "code",
   "execution_count": null,
   "metadata": {},
   "outputs": [],
   "source": []
  }
 ],
 "metadata": {
  "interpreter": {
   "hash": "916dbcbb3f70747c44a77c7bcd40155683ae19c65e1c03b4aa3499c5328201f1"
  },
  "kernelspec": {
   "display_name": "Python 3 (ipykernel)",
   "language": "python",
   "name": "python3"
  },
  "language_info": {
   "codemirror_mode": {
    "name": "ipython",
    "version": 3
   },
   "file_extension": ".py",
   "mimetype": "text/x-python",
   "name": "python",
   "nbconvert_exporter": "python",
   "pygments_lexer": "ipython3",
   "version": "3.9.7"
  }
 },
 "nbformat": 4,
 "nbformat_minor": 2
}

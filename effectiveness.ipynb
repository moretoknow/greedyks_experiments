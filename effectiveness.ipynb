{
 "cells": [
  {
   "cell_type": "code",
   "execution_count": 1,
   "metadata": {
    "ExecuteTime": {
     "end_time": "2022-05-24T02:16:54.772084Z",
     "start_time": "2022-05-24T02:16:53.472957Z"
    }
   },
   "outputs": [],
   "source": [
    "import numpy as np\n",
    "import time\n",
    "import jcs_paper_util as util\n",
    "import pandas as pd"
   ]
  },
  {
   "cell_type": "code",
   "execution_count": 2,
   "metadata": {
    "ExecuteTime": {
     "end_time": "2022-05-24T02:16:54.777675Z",
     "start_time": "2022-05-24T02:16:54.774006Z"
    }
   },
   "outputs": [],
   "source": [
    "util.matplotlib_setup()\n",
    "util.default_num_reps = 100\n",
    "util.eval_error_D = util.eval_effectiveness\n",
    "util.approx_methods.insert(1, 'Exact KS')"
   ]
  },
  {
   "cell_type": "code",
   "execution_count": 3,
   "metadata": {
    "ExecuteTime": {
     "end_time": "2022-05-24T07:39:04.946145Z",
     "start_time": "2022-05-24T02:16:54.778725Z"
    },
    "scrolled": false
   },
   "outputs": [
    {
     "name": "stdout",
     "output_type": "stream",
     "text": [
      ">>>>>>>>>> sample_size\n"
     ]
    },
    {
     "name": "stderr",
     "output_type": "stream",
     "text": [
      "100%|███████████████████████████████████████████████████████████████████████████████████████████████████████████████████████████████████████| 900/900 [1:41:35<00:00,  6.77s/it]"
     ]
    },
    {
     "name": "stdout",
     "output_type": "stream",
     "text": [
      ">>>>>>>>>> memo_units\n"
     ]
    },
    {
     "name": "stderr",
     "output_type": "stream",
     "text": [
      "\n",
      "100%|█████████████████████████████████████████████████████████████████████████████████████████████████████████████████████████████████████████| 900/900 [43:25<00:00,  2.89s/it]"
     ]
    },
    {
     "name": "stdout",
     "output_type": "stream",
     "text": [
      ">>>>>>>>>> mean_diff\n"
     ]
    },
    {
     "name": "stderr",
     "output_type": "stream",
     "text": [
      "\n",
      "100%|███████████████████████████████████████████████████████████████████████████████████████████████████████████████████████████████████████| 900/900 [1:27:00<00:00,  5.80s/it]"
     ]
    },
    {
     "name": "stdout",
     "output_type": "stream",
     "text": [
      ">>>>>>>>>> std_diff\n"
     ]
    },
    {
     "name": "stderr",
     "output_type": "stream",
     "text": [
      "\n",
      "100%|███████████████████████████████████████████████████████████████████████████████████████████████████████████████████████████████████████| 900/900 [1:30:08<00:00,  6.01s/it]\n"
     ]
    }
   ],
   "source": [
    "experiments = [\n",
    "    [{'sample_size': (10 ** np.arange(3.5, 5, 0.5)).astype(int)}, 'Sample size', 'sample_size'],\n",
    "    [{'memo_units': (10 ** np.arange(1, 2.5, 0.5)).astype(int)}, 'Memory units', 'memo_units'],\n",
    "    [{'mean_diff': 10. ** np.arange(-2, -0.5, 0.5)}, 'Difference in distribution mean', 'mean_diff'],\n",
    "    [{'std_diff': 10. ** np.arange(-2, -0.5, 0.5), 'mean_diff':[0]}, 'Difference in distribution standard deviation', 'std_diff'],\n",
    "]\n",
    "\n",
    "for e in experiments:\n",
    "    print('>' * 10, e[2])\n",
    "    results = util.get_results(**e[0])\n",
    "    timestamp = int(time.time())\n",
    "    e.append('effectiveness_{}_{}.pkl'.format(e[2], timestamp))\n",
    "    results.to_pickle('./data_pdf_files/' + e[-1])"
   ]
  },
  {
   "cell_type": "code",
   "execution_count": 4,
   "metadata": {
    "ExecuteTime": {
     "end_time": "2022-05-24T07:39:05.234101Z",
     "start_time": "2022-05-24T07:39:04.949433Z"
    },
    "scrolled": false
   },
   "outputs": [
    {
     "name": "stdout",
     "output_type": "stream",
     "text": [
      ">>>>>>>>>> sample_size effectiveness_sample_size_1653364710.pkl\n",
      "normal\n"
     ]
    },
    {
     "data": {
      "text/html": [
       "<div>\n",
       "<style scoped>\n",
       "    .dataframe tbody tr th:only-of-type {\n",
       "        vertical-align: middle;\n",
       "    }\n",
       "\n",
       "    .dataframe tbody tr th {\n",
       "        vertical-align: top;\n",
       "    }\n",
       "\n",
       "    .dataframe thead th {\n",
       "        text-align: right;\n",
       "    }\n",
       "</style>\n",
       "<table border=\"1\" class=\"dataframe\">\n",
       "  <thead>\n",
       "    <tr style=\"text-align: right;\">\n",
       "      <th></th>\n",
       "      <th>GreedyKS</th>\n",
       "      <th>Exact KS</th>\n",
       "      <th>Reservoir Sampling</th>\n",
       "      <th>IKS + RS</th>\n",
       "      <th>Lall + DDSketch</th>\n",
       "    </tr>\n",
       "  </thead>\n",
       "  <tbody>\n",
       "    <tr>\n",
       "      <th>$10^{3.5}$</th>\n",
       "      <td>3/0/1051.4</td>\n",
       "      <td>3/0/1040.0</td>\n",
       "      <td>7/75/1074.3</td>\n",
       "      <td>10/66/980.0</td>\n",
       "      <td>7/0/562.7</td>\n",
       "    </tr>\n",
       "    <tr>\n",
       "      <th>$10^4$</th>\n",
       "      <td>10/0/1604.2</td>\n",
       "      <td>11/0/1539.1</td>\n",
       "      <td>12/76/2639.2</td>\n",
       "      <td>11/74/3114.2</td>\n",
       "      <td>39/0/389.7</td>\n",
       "    </tr>\n",
       "    <tr>\n",
       "      <th>$10^{4.5}$</th>\n",
       "      <td>8/0/2421.9</td>\n",
       "      <td>9/0/2321.7</td>\n",
       "      <td>16/68/9747.6</td>\n",
       "      <td>26/58/7619.6</td>\n",
       "      <td>98/0/180.5</td>\n",
       "    </tr>\n",
       "  </tbody>\n",
       "</table>\n",
       "</div>"
      ],
      "text/plain": [
       "               GreedyKS     Exact KS Reservoir Sampling      IKS + RS  \\\n",
       "$10^{3.5}$   3/0/1051.4   3/0/1040.0        7/75/1074.3   10/66/980.0   \n",
       "$10^4$      10/0/1604.2  11/0/1539.1       12/76/2639.2  11/74/3114.2   \n",
       "$10^{4.5}$   8/0/2421.9   9/0/2321.7       16/68/9747.6  26/58/7619.6   \n",
       "\n",
       "           Lall + DDSketch  \n",
       "$10^{3.5}$       7/0/562.7  \n",
       "$10^4$          39/0/389.7  \n",
       "$10^{4.5}$      98/0/180.5  "
      ]
     },
     "metadata": {},
     "output_type": "display_data"
    },
    {
     "name": "stdout",
     "output_type": "stream",
     "text": [
      "uniform\n"
     ]
    },
    {
     "data": {
      "text/html": [
       "<div>\n",
       "<style scoped>\n",
       "    .dataframe tbody tr th:only-of-type {\n",
       "        vertical-align: middle;\n",
       "    }\n",
       "\n",
       "    .dataframe tbody tr th {\n",
       "        vertical-align: top;\n",
       "    }\n",
       "\n",
       "    .dataframe thead th {\n",
       "        text-align: right;\n",
       "    }\n",
       "</style>\n",
       "<table border=\"1\" class=\"dataframe\">\n",
       "  <thead>\n",
       "    <tr style=\"text-align: right;\">\n",
       "      <th></th>\n",
       "      <th>GreedyKS</th>\n",
       "      <th>Exact KS</th>\n",
       "      <th>Reservoir Sampling</th>\n",
       "      <th>IKS + RS</th>\n",
       "      <th>Lall + DDSketch</th>\n",
       "    </tr>\n",
       "  </thead>\n",
       "  <tbody>\n",
       "    <tr>\n",
       "      <th>$10^{3.5}$</th>\n",
       "      <td>5/7/1282.9</td>\n",
       "      <td>6/5/1268.5</td>\n",
       "      <td>5/81/1113.1</td>\n",
       "      <td>14/63/1010.0</td>\n",
       "      <td>14/0/558.3</td>\n",
       "    </tr>\n",
       "    <tr>\n",
       "      <th>$10^4$</th>\n",
       "      <td>6/0/1951.6</td>\n",
       "      <td>6/0/1881.3</td>\n",
       "      <td>9/76/2822.1</td>\n",
       "      <td>19/64/2413.6</td>\n",
       "      <td>33/0/422.7</td>\n",
       "    </tr>\n",
       "    <tr>\n",
       "      <th>$10^{4.5}$</th>\n",
       "      <td>14/0/2590.3</td>\n",
       "      <td>15/0/2486.7</td>\n",
       "      <td>18/64/9033.1</td>\n",
       "      <td>35/54/4206.7</td>\n",
       "      <td>100/0/nan</td>\n",
       "    </tr>\n",
       "  </tbody>\n",
       "</table>\n",
       "</div>"
      ],
      "text/plain": [
       "               GreedyKS     Exact KS Reservoir Sampling      IKS + RS  \\\n",
       "$10^{3.5}$   5/7/1282.9   6/5/1268.5        5/81/1113.1  14/63/1010.0   \n",
       "$10^4$       6/0/1951.6   6/0/1881.3        9/76/2822.1  19/64/2413.6   \n",
       "$10^{4.5}$  14/0/2590.3  15/0/2486.7       18/64/9033.1  35/54/4206.7   \n",
       "\n",
       "           Lall + DDSketch  \n",
       "$10^{3.5}$      14/0/558.3  \n",
       "$10^4$          33/0/422.7  \n",
       "$10^{4.5}$       100/0/nan  "
      ]
     },
     "metadata": {},
     "output_type": "display_data"
    },
    {
     "name": "stdout",
     "output_type": "stream",
     "text": [
      "exp\n"
     ]
    },
    {
     "data": {
      "text/html": [
       "<div>\n",
       "<style scoped>\n",
       "    .dataframe tbody tr th:only-of-type {\n",
       "        vertical-align: middle;\n",
       "    }\n",
       "\n",
       "    .dataframe tbody tr th {\n",
       "        vertical-align: top;\n",
       "    }\n",
       "\n",
       "    .dataframe thead th {\n",
       "        text-align: right;\n",
       "    }\n",
       "</style>\n",
       "<table border=\"1\" class=\"dataframe\">\n",
       "  <thead>\n",
       "    <tr style=\"text-align: right;\">\n",
       "      <th></th>\n",
       "      <th>GreedyKS</th>\n",
       "      <th>Exact KS</th>\n",
       "      <th>Reservoir Sampling</th>\n",
       "      <th>IKS + RS</th>\n",
       "      <th>Lall + DDSketch</th>\n",
       "    </tr>\n",
       "  </thead>\n",
       "  <tbody>\n",
       "    <tr>\n",
       "      <th>$10^{3.5}$</th>\n",
       "      <td>2/0/372.1</td>\n",
       "      <td>2/0/364.6</td>\n",
       "      <td>5/62/1230.0</td>\n",
       "      <td>14/63/1011.9</td>\n",
       "      <td>5/0/327.5</td>\n",
       "    </tr>\n",
       "    <tr>\n",
       "      <th>$10^4$</th>\n",
       "      <td>4/0/572.3</td>\n",
       "      <td>4/0/553.0</td>\n",
       "      <td>9/65/3463.6</td>\n",
       "      <td>30/48/3404.5</td>\n",
       "      <td>21/0/424.6</td>\n",
       "    </tr>\n",
       "    <tr>\n",
       "      <th>$10^{4.5}$</th>\n",
       "      <td>9/0/952.8</td>\n",
       "      <td>10/0/924.8</td>\n",
       "      <td>13/57/9471.5</td>\n",
       "      <td>36/45/7799.5</td>\n",
       "      <td>74/0/443.8</td>\n",
       "    </tr>\n",
       "  </tbody>\n",
       "</table>\n",
       "</div>"
      ],
      "text/plain": [
       "             GreedyKS    Exact KS Reservoir Sampling      IKS + RS  \\\n",
       "$10^{3.5}$  2/0/372.1   2/0/364.6        5/62/1230.0  14/63/1011.9   \n",
       "$10^4$      4/0/572.3   4/0/553.0        9/65/3463.6  30/48/3404.5   \n",
       "$10^{4.5}$  9/0/952.8  10/0/924.8       13/57/9471.5  36/45/7799.5   \n",
       "\n",
       "           Lall + DDSketch  \n",
       "$10^{3.5}$       5/0/327.5  \n",
       "$10^4$          21/0/424.6  \n",
       "$10^{4.5}$      74/0/443.8  "
      ]
     },
     "metadata": {},
     "output_type": "display_data"
    },
    {
     "name": "stdout",
     "output_type": "stream",
     "text": [
      ">>>>>>>>>> memo_units effectiveness_memo_units_1653367315.pkl\n",
      "normal\n"
     ]
    },
    {
     "data": {
      "text/html": [
       "<div>\n",
       "<style scoped>\n",
       "    .dataframe tbody tr th:only-of-type {\n",
       "        vertical-align: middle;\n",
       "    }\n",
       "\n",
       "    .dataframe tbody tr th {\n",
       "        vertical-align: top;\n",
       "    }\n",
       "\n",
       "    .dataframe thead th {\n",
       "        text-align: right;\n",
       "    }\n",
       "</style>\n",
       "<table border=\"1\" class=\"dataframe\">\n",
       "  <thead>\n",
       "    <tr style=\"text-align: right;\">\n",
       "      <th></th>\n",
       "      <th>GreedyKS</th>\n",
       "      <th>Exact KS</th>\n",
       "      <th>Reservoir Sampling</th>\n",
       "      <th>IKS + RS</th>\n",
       "      <th>Lall + DDSketch</th>\n",
       "    </tr>\n",
       "  </thead>\n",
       "  <tbody>\n",
       "    <tr>\n",
       "      <th>$10^1$</th>\n",
       "      <td>12/0/1778.3</td>\n",
       "      <td>14/0/1523.9</td>\n",
       "      <td>15/78/2638.1</td>\n",
       "      <td>19/66/4144.3</td>\n",
       "      <td>100/0/nan</td>\n",
       "    </tr>\n",
       "    <tr>\n",
       "      <th>$10^{1.5}$</th>\n",
       "      <td>10/0/1665.7</td>\n",
       "      <td>7/0/1436.8</td>\n",
       "      <td>17/72/4112.1</td>\n",
       "      <td>23/61/2943.6</td>\n",
       "      <td>100/0/nan</td>\n",
       "    </tr>\n",
       "    <tr>\n",
       "      <th>$10^2$</th>\n",
       "      <td>10/0/1625.0</td>\n",
       "      <td>10/0/1518.7</td>\n",
       "      <td>14/73/3309.5</td>\n",
       "      <td>19/64/2848.4</td>\n",
       "      <td>51/0/517.0</td>\n",
       "    </tr>\n",
       "  </tbody>\n",
       "</table>\n",
       "</div>"
      ],
      "text/plain": [
       "               GreedyKS     Exact KS Reservoir Sampling      IKS + RS  \\\n",
       "$10^1$      12/0/1778.3  14/0/1523.9       15/78/2638.1  19/66/4144.3   \n",
       "$10^{1.5}$  10/0/1665.7   7/0/1436.8       17/72/4112.1  23/61/2943.6   \n",
       "$10^2$      10/0/1625.0  10/0/1518.7       14/73/3309.5  19/64/2848.4   \n",
       "\n",
       "           Lall + DDSketch  \n",
       "$10^1$           100/0/nan  \n",
       "$10^{1.5}$       100/0/nan  \n",
       "$10^2$          51/0/517.0  "
      ]
     },
     "metadata": {},
     "output_type": "display_data"
    },
    {
     "name": "stdout",
     "output_type": "stream",
     "text": [
      "uniform\n"
     ]
    },
    {
     "data": {
      "text/html": [
       "<div>\n",
       "<style scoped>\n",
       "    .dataframe tbody tr th:only-of-type {\n",
       "        vertical-align: middle;\n",
       "    }\n",
       "\n",
       "    .dataframe tbody tr th {\n",
       "        vertical-align: top;\n",
       "    }\n",
       "\n",
       "    .dataframe thead th {\n",
       "        text-align: right;\n",
       "    }\n",
       "</style>\n",
       "<table border=\"1\" class=\"dataframe\">\n",
       "  <thead>\n",
       "    <tr style=\"text-align: right;\">\n",
       "      <th></th>\n",
       "      <th>GreedyKS</th>\n",
       "      <th>Exact KS</th>\n",
       "      <th>Reservoir Sampling</th>\n",
       "      <th>IKS + RS</th>\n",
       "      <th>Lall + DDSketch</th>\n",
       "    </tr>\n",
       "  </thead>\n",
       "  <tbody>\n",
       "    <tr>\n",
       "      <th>$10^1$</th>\n",
       "      <td>10/0/2231.6</td>\n",
       "      <td>13/0/1770.7</td>\n",
       "      <td>13/82/5173.0</td>\n",
       "      <td>25/67/3624.4</td>\n",
       "      <td>100/0/nan</td>\n",
       "    </tr>\n",
       "    <tr>\n",
       "      <th>$10^{1.5}$</th>\n",
       "      <td>12/0/2212.1</td>\n",
       "      <td>11/0/1888.1</td>\n",
       "      <td>11/81/2941.2</td>\n",
       "      <td>23/62/2915.7</td>\n",
       "      <td>100/0/nan</td>\n",
       "    </tr>\n",
       "    <tr>\n",
       "      <th>$10^2$</th>\n",
       "      <td>6/0/1837.1</td>\n",
       "      <td>6/0/1763.1</td>\n",
       "      <td>12/76/4000.2</td>\n",
       "      <td>20/64/2790.9</td>\n",
       "      <td>28/0/423.4</td>\n",
       "    </tr>\n",
       "  </tbody>\n",
       "</table>\n",
       "</div>"
      ],
      "text/plain": [
       "               GreedyKS     Exact KS Reservoir Sampling      IKS + RS  \\\n",
       "$10^1$      10/0/2231.6  13/0/1770.7       13/82/5173.0  25/67/3624.4   \n",
       "$10^{1.5}$  12/0/2212.1  11/0/1888.1       11/81/2941.2  23/62/2915.7   \n",
       "$10^2$       6/0/1837.1   6/0/1763.1       12/76/4000.2  20/64/2790.9   \n",
       "\n",
       "           Lall + DDSketch  \n",
       "$10^1$           100/0/nan  \n",
       "$10^{1.5}$       100/0/nan  \n",
       "$10^2$          28/0/423.4  "
      ]
     },
     "metadata": {},
     "output_type": "display_data"
    },
    {
     "name": "stdout",
     "output_type": "stream",
     "text": [
      "exp\n"
     ]
    },
    {
     "data": {
      "text/html": [
       "<div>\n",
       "<style scoped>\n",
       "    .dataframe tbody tr th:only-of-type {\n",
       "        vertical-align: middle;\n",
       "    }\n",
       "\n",
       "    .dataframe tbody tr th {\n",
       "        vertical-align: top;\n",
       "    }\n",
       "\n",
       "    .dataframe thead th {\n",
       "        text-align: right;\n",
       "    }\n",
       "</style>\n",
       "<table border=\"1\" class=\"dataframe\">\n",
       "  <thead>\n",
       "    <tr style=\"text-align: right;\">\n",
       "      <th></th>\n",
       "      <th>GreedyKS</th>\n",
       "      <th>Exact KS</th>\n",
       "      <th>Reservoir Sampling</th>\n",
       "      <th>IKS + RS</th>\n",
       "      <th>Lall + DDSketch</th>\n",
       "    </tr>\n",
       "  </thead>\n",
       "  <tbody>\n",
       "    <tr>\n",
       "      <th>$10^1$</th>\n",
       "      <td>6/0/646.5</td>\n",
       "      <td>8/0/569.5</td>\n",
       "      <td>15/80/3245.0</td>\n",
       "      <td>19/71/3174.4</td>\n",
       "      <td>100/0/nan</td>\n",
       "    </tr>\n",
       "    <tr>\n",
       "      <th>$10^{1.5}$</th>\n",
       "      <td>6/0/583.8</td>\n",
       "      <td>6/0/534.2</td>\n",
       "      <td>13/78/3387.3</td>\n",
       "      <td>32/55/2190.4</td>\n",
       "      <td>100/0/nan</td>\n",
       "    </tr>\n",
       "    <tr>\n",
       "      <th>$10^2$</th>\n",
       "      <td>6/0/571.5</td>\n",
       "      <td>7/0/556.3</td>\n",
       "      <td>12/59/2959.0</td>\n",
       "      <td>19/47/2992.9</td>\n",
       "      <td>20/0/454.6</td>\n",
       "    </tr>\n",
       "  </tbody>\n",
       "</table>\n",
       "</div>"
      ],
      "text/plain": [
       "             GreedyKS   Exact KS Reservoir Sampling      IKS + RS  \\\n",
       "$10^1$      6/0/646.5  8/0/569.5       15/80/3245.0  19/71/3174.4   \n",
       "$10^{1.5}$  6/0/583.8  6/0/534.2       13/78/3387.3  32/55/2190.4   \n",
       "$10^2$      6/0/571.5  7/0/556.3       12/59/2959.0  19/47/2992.9   \n",
       "\n",
       "           Lall + DDSketch  \n",
       "$10^1$           100/0/nan  \n",
       "$10^{1.5}$       100/0/nan  \n",
       "$10^2$          20/0/454.6  "
      ]
     },
     "metadata": {},
     "output_type": "display_data"
    },
    {
     "name": "stdout",
     "output_type": "stream",
     "text": [
      ">>>>>>>>>> mean_diff effectiveness_mean_diff_1653372536.pkl\n",
      "normal\n"
     ]
    },
    {
     "data": {
      "text/html": [
       "<div>\n",
       "<style scoped>\n",
       "    .dataframe tbody tr th:only-of-type {\n",
       "        vertical-align: middle;\n",
       "    }\n",
       "\n",
       "    .dataframe tbody tr th {\n",
       "        vertical-align: top;\n",
       "    }\n",
       "\n",
       "    .dataframe thead th {\n",
       "        text-align: right;\n",
       "    }\n",
       "</style>\n",
       "<table border=\"1\" class=\"dataframe\">\n",
       "  <thead>\n",
       "    <tr style=\"text-align: right;\">\n",
       "      <th></th>\n",
       "      <th>GreedyKS</th>\n",
       "      <th>Exact KS</th>\n",
       "      <th>Reservoir Sampling</th>\n",
       "      <th>IKS + RS</th>\n",
       "      <th>Lall + DDSketch</th>\n",
       "    </tr>\n",
       "  </thead>\n",
       "  <tbody>\n",
       "    <tr>\n",
       "      <th>$10^{-2}$</th>\n",
       "      <td>7/83/2801.6</td>\n",
       "      <td>9/79/3592.6</td>\n",
       "      <td>12/80/3228.5</td>\n",
       "      <td>23/60/4069.4</td>\n",
       "      <td>53/0/993.6</td>\n",
       "    </tr>\n",
       "    <tr>\n",
       "      <th>$10^{-1.5}$</th>\n",
       "      <td>7/56/3865.4</td>\n",
       "      <td>6/52/4055.3</td>\n",
       "      <td>9/78/2167.5</td>\n",
       "      <td>18/72/2700.6</td>\n",
       "      <td>40/0/728.5</td>\n",
       "    </tr>\n",
       "    <tr>\n",
       "      <th>$10^{-1}$</th>\n",
       "      <td>10/0/1537.1</td>\n",
       "      <td>10/0/1490.4</td>\n",
       "      <td>9/71/3076.8</td>\n",
       "      <td>22/55/2911.0</td>\n",
       "      <td>42/0/493.1</td>\n",
       "    </tr>\n",
       "  </tbody>\n",
       "</table>\n",
       "</div>"
      ],
      "text/plain": [
       "                GreedyKS     Exact KS Reservoir Sampling      IKS + RS  \\\n",
       "$10^{-2}$    7/83/2801.6  9/79/3592.6       12/80/3228.5  23/60/4069.4   \n",
       "$10^{-1.5}$  7/56/3865.4  6/52/4055.3        9/78/2167.5  18/72/2700.6   \n",
       "$10^{-1}$    10/0/1537.1  10/0/1490.4        9/71/3076.8  22/55/2911.0   \n",
       "\n",
       "            Lall + DDSketch  \n",
       "$10^{-2}$        53/0/993.6  \n",
       "$10^{-1.5}$      40/0/728.5  \n",
       "$10^{-1}$        42/0/493.1  "
      ]
     },
     "metadata": {},
     "output_type": "display_data"
    },
    {
     "name": "stdout",
     "output_type": "stream",
     "text": [
      "uniform\n"
     ]
    },
    {
     "data": {
      "text/html": [
       "<div>\n",
       "<style scoped>\n",
       "    .dataframe tbody tr th:only-of-type {\n",
       "        vertical-align: middle;\n",
       "    }\n",
       "\n",
       "    .dataframe tbody tr th {\n",
       "        vertical-align: top;\n",
       "    }\n",
       "\n",
       "    .dataframe thead th {\n",
       "        text-align: right;\n",
       "    }\n",
       "</style>\n",
       "<table border=\"1\" class=\"dataframe\">\n",
       "  <thead>\n",
       "    <tr style=\"text-align: right;\">\n",
       "      <th></th>\n",
       "      <th>GreedyKS</th>\n",
       "      <th>Exact KS</th>\n",
       "      <th>Reservoir Sampling</th>\n",
       "      <th>IKS + RS</th>\n",
       "      <th>Lall + DDSketch</th>\n",
       "    </tr>\n",
       "  </thead>\n",
       "  <tbody>\n",
       "    <tr>\n",
       "      <th>$10^{-2}$</th>\n",
       "      <td>6/83/2646.0</td>\n",
       "      <td>6/80/2640.1</td>\n",
       "      <td>15/75/1974.5</td>\n",
       "      <td>26/58/2488.4</td>\n",
       "      <td>28/0/586.0</td>\n",
       "    </tr>\n",
       "    <tr>\n",
       "      <th>$10^{-1.5}$</th>\n",
       "      <td>11/49/5277.6</td>\n",
       "      <td>8/49/5137.4</td>\n",
       "      <td>10/76/3721.1</td>\n",
       "      <td>21/67/2107.4</td>\n",
       "      <td>39/0/645.7</td>\n",
       "    </tr>\n",
       "    <tr>\n",
       "      <th>$10^{-1}$</th>\n",
       "      <td>6/0/1872.4</td>\n",
       "      <td>6/0/1796.3</td>\n",
       "      <td>12/73/3164.2</td>\n",
       "      <td>18/65/3908.1</td>\n",
       "      <td>39/0/498.3</td>\n",
       "    </tr>\n",
       "  </tbody>\n",
       "</table>\n",
       "</div>"
      ],
      "text/plain": [
       "                 GreedyKS     Exact KS Reservoir Sampling      IKS + RS  \\\n",
       "$10^{-2}$     6/83/2646.0  6/80/2640.1       15/75/1974.5  26/58/2488.4   \n",
       "$10^{-1.5}$  11/49/5277.6  8/49/5137.4       10/76/3721.1  21/67/2107.4   \n",
       "$10^{-1}$      6/0/1872.4   6/0/1796.3       12/73/3164.2  18/65/3908.1   \n",
       "\n",
       "            Lall + DDSketch  \n",
       "$10^{-2}$        28/0/586.0  \n",
       "$10^{-1.5}$      39/0/645.7  \n",
       "$10^{-1}$        39/0/498.3  "
      ]
     },
     "metadata": {},
     "output_type": "display_data"
    },
    {
     "name": "stdout",
     "output_type": "stream",
     "text": [
      "exp\n"
     ]
    },
    {
     "data": {
      "text/html": [
       "<div>\n",
       "<style scoped>\n",
       "    .dataframe tbody tr th:only-of-type {\n",
       "        vertical-align: middle;\n",
       "    }\n",
       "\n",
       "    .dataframe tbody tr th {\n",
       "        vertical-align: top;\n",
       "    }\n",
       "\n",
       "    .dataframe thead th {\n",
       "        text-align: right;\n",
       "    }\n",
       "</style>\n",
       "<table border=\"1\" class=\"dataframe\">\n",
       "  <thead>\n",
       "    <tr style=\"text-align: right;\">\n",
       "      <th></th>\n",
       "      <th>GreedyKS</th>\n",
       "      <th>Exact KS</th>\n",
       "      <th>Reservoir Sampling</th>\n",
       "      <th>IKS + RS</th>\n",
       "      <th>Lall + DDSketch</th>\n",
       "    </tr>\n",
       "  </thead>\n",
       "  <tbody>\n",
       "    <tr>\n",
       "      <th>$10^{-2}$</th>\n",
       "      <td>9/76/4318.7</td>\n",
       "      <td>9/73/3905.0</td>\n",
       "      <td>9/83/3751.8</td>\n",
       "      <td>19/70/1884.0</td>\n",
       "      <td>24/1/1959.9</td>\n",
       "    </tr>\n",
       "    <tr>\n",
       "      <th>$10^{-1.5}$</th>\n",
       "      <td>13/0/2547.4</td>\n",
       "      <td>10/0/2432.5</td>\n",
       "      <td>15/77/1082.6</td>\n",
       "      <td>19/69/3447.8</td>\n",
       "      <td>29/0/1515.9</td>\n",
       "    </tr>\n",
       "    <tr>\n",
       "      <th>$10^{-1}$</th>\n",
       "      <td>13/0/574.7</td>\n",
       "      <td>13/0/553.9</td>\n",
       "      <td>16/61/3228.4</td>\n",
       "      <td>30/42/3175.0</td>\n",
       "      <td>24/0/455.6</td>\n",
       "    </tr>\n",
       "  </tbody>\n",
       "</table>\n",
       "</div>"
      ],
      "text/plain": [
       "                GreedyKS     Exact KS Reservoir Sampling      IKS + RS  \\\n",
       "$10^{-2}$    9/76/4318.7  9/73/3905.0        9/83/3751.8  19/70/1884.0   \n",
       "$10^{-1.5}$  13/0/2547.4  10/0/2432.5       15/77/1082.6  19/69/3447.8   \n",
       "$10^{-1}$     13/0/574.7   13/0/553.9       16/61/3228.4  30/42/3175.0   \n",
       "\n",
       "            Lall + DDSketch  \n",
       "$10^{-2}$       24/1/1959.9  \n",
       "$10^{-1.5}$     29/0/1515.9  \n",
       "$10^{-1}$        24/0/455.6  "
      ]
     },
     "metadata": {},
     "output_type": "display_data"
    },
    {
     "name": "stdout",
     "output_type": "stream",
     "text": [
      ">>>>>>>>>> std_diff effectiveness_std_diff_1653377944.pkl\n",
      "normal\n"
     ]
    },
    {
     "data": {
      "text/html": [
       "<div>\n",
       "<style scoped>\n",
       "    .dataframe tbody tr th:only-of-type {\n",
       "        vertical-align: middle;\n",
       "    }\n",
       "\n",
       "    .dataframe tbody tr th {\n",
       "        vertical-align: top;\n",
       "    }\n",
       "\n",
       "    .dataframe thead th {\n",
       "        text-align: right;\n",
       "    }\n",
       "</style>\n",
       "<table border=\"1\" class=\"dataframe\">\n",
       "  <thead>\n",
       "    <tr style=\"text-align: right;\">\n",
       "      <th></th>\n",
       "      <th>GreedyKS</th>\n",
       "      <th>Exact KS</th>\n",
       "      <th>Reservoir Sampling</th>\n",
       "      <th>IKS + RS</th>\n",
       "      <th>Lall + DDSketch</th>\n",
       "    </tr>\n",
       "  </thead>\n",
       "  <tbody>\n",
       "    <tr>\n",
       "      <th>$10^{-2}$</th>\n",
       "      <td>10/82/2556.2</td>\n",
       "      <td>9/82/2728.2</td>\n",
       "      <td>11/77/3588.7</td>\n",
       "      <td>21/61/2860.1</td>\n",
       "      <td>42/0/919.8</td>\n",
       "    </tr>\n",
       "    <tr>\n",
       "      <th>$10^{-1.5}$</th>\n",
       "      <td>11/75/5049.4</td>\n",
       "      <td>12/71/4925.5</td>\n",
       "      <td>11/84/1610.2</td>\n",
       "      <td>25/62/2693.9</td>\n",
       "      <td>45/0/835.1</td>\n",
       "    </tr>\n",
       "    <tr>\n",
       "      <th>$10^{-1}$</th>\n",
       "      <td>6/0/2734.6</td>\n",
       "      <td>8/0/2614.4</td>\n",
       "      <td>11/80/2407.8</td>\n",
       "      <td>27/62/2446.9</td>\n",
       "      <td>49/0/577.2</td>\n",
       "    </tr>\n",
       "  </tbody>\n",
       "</table>\n",
       "</div>"
      ],
      "text/plain": [
       "                 GreedyKS      Exact KS Reservoir Sampling      IKS + RS  \\\n",
       "$10^{-2}$    10/82/2556.2   9/82/2728.2       11/77/3588.7  21/61/2860.1   \n",
       "$10^{-1.5}$  11/75/5049.4  12/71/4925.5       11/84/1610.2  25/62/2693.9   \n",
       "$10^{-1}$      6/0/2734.6    8/0/2614.4       11/80/2407.8  27/62/2446.9   \n",
       "\n",
       "            Lall + DDSketch  \n",
       "$10^{-2}$        42/0/919.8  \n",
       "$10^{-1.5}$      45/0/835.1  \n",
       "$10^{-1}$        49/0/577.2  "
      ]
     },
     "metadata": {},
     "output_type": "display_data"
    },
    {
     "name": "stdout",
     "output_type": "stream",
     "text": [
      "uniform\n"
     ]
    },
    {
     "data": {
      "text/html": [
       "<div>\n",
       "<style scoped>\n",
       "    .dataframe tbody tr th:only-of-type {\n",
       "        vertical-align: middle;\n",
       "    }\n",
       "\n",
       "    .dataframe tbody tr th {\n",
       "        vertical-align: top;\n",
       "    }\n",
       "\n",
       "    .dataframe thead th {\n",
       "        text-align: right;\n",
       "    }\n",
       "</style>\n",
       "<table border=\"1\" class=\"dataframe\">\n",
       "  <thead>\n",
       "    <tr style=\"text-align: right;\">\n",
       "      <th></th>\n",
       "      <th>GreedyKS</th>\n",
       "      <th>Exact KS</th>\n",
       "      <th>Reservoir Sampling</th>\n",
       "      <th>IKS + RS</th>\n",
       "      <th>Lall + DDSketch</th>\n",
       "    </tr>\n",
       "  </thead>\n",
       "  <tbody>\n",
       "    <tr>\n",
       "      <th>$10^{-2}$</th>\n",
       "      <td>7/85/3923.8</td>\n",
       "      <td>8/82/3430.9</td>\n",
       "      <td>12/78/3602.4</td>\n",
       "      <td>24/63/4368.3</td>\n",
       "      <td>34/0/667.9</td>\n",
       "    </tr>\n",
       "    <tr>\n",
       "      <th>$10^{-1.5}$</th>\n",
       "      <td>9/50/6083.8</td>\n",
       "      <td>8/41/6246.8</td>\n",
       "      <td>11/81/3488.1</td>\n",
       "      <td>17/72/2612.1</td>\n",
       "      <td>36/0/489.5</td>\n",
       "    </tr>\n",
       "    <tr>\n",
       "      <th>$10^{-1}$</th>\n",
       "      <td>6/0/1494.4</td>\n",
       "      <td>6/0/1449.9</td>\n",
       "      <td>9/81/3314.4</td>\n",
       "      <td>27/59/2195.1</td>\n",
       "      <td>36/0/346.0</td>\n",
       "    </tr>\n",
       "  </tbody>\n",
       "</table>\n",
       "</div>"
      ],
      "text/plain": [
       "                GreedyKS     Exact KS Reservoir Sampling      IKS + RS  \\\n",
       "$10^{-2}$    7/85/3923.8  8/82/3430.9       12/78/3602.4  24/63/4368.3   \n",
       "$10^{-1.5}$  9/50/6083.8  8/41/6246.8       11/81/3488.1  17/72/2612.1   \n",
       "$10^{-1}$     6/0/1494.4   6/0/1449.9        9/81/3314.4  27/59/2195.1   \n",
       "\n",
       "            Lall + DDSketch  \n",
       "$10^{-2}$        34/0/667.9  \n",
       "$10^{-1.5}$      36/0/489.5  \n",
       "$10^{-1}$        36/0/346.0  "
      ]
     },
     "metadata": {},
     "output_type": "display_data"
    },
    {
     "name": "stdout",
     "output_type": "stream",
     "text": [
      "exp\n"
     ]
    },
    {
     "data": {
      "text/html": [
       "<div>\n",
       "<style scoped>\n",
       "    .dataframe tbody tr th:only-of-type {\n",
       "        vertical-align: middle;\n",
       "    }\n",
       "\n",
       "    .dataframe tbody tr th {\n",
       "        vertical-align: top;\n",
       "    }\n",
       "\n",
       "    .dataframe thead th {\n",
       "        text-align: right;\n",
       "    }\n",
       "</style>\n",
       "<table border=\"1\" class=\"dataframe\">\n",
       "  <thead>\n",
       "    <tr style=\"text-align: right;\">\n",
       "      <th></th>\n",
       "      <th>GreedyKS</th>\n",
       "      <th>Exact KS</th>\n",
       "      <th>Reservoir Sampling</th>\n",
       "      <th>IKS + RS</th>\n",
       "      <th>Lall + DDSketch</th>\n",
       "    </tr>\n",
       "  </thead>\n",
       "  <tbody>\n",
       "    <tr>\n",
       "      <th>$10^{-2}$</th>\n",
       "      <td>4/82/3124.1</td>\n",
       "      <td>4/80/3683.9</td>\n",
       "      <td>14/73/2042.2</td>\n",
       "      <td>27/59/1971.1</td>\n",
       "      <td>35/0/1540.7</td>\n",
       "    </tr>\n",
       "    <tr>\n",
       "      <th>$10^{-1.5}$</th>\n",
       "      <td>12/0/3031.1</td>\n",
       "      <td>12/0/2901.2</td>\n",
       "      <td>14/73/3424.4</td>\n",
       "      <td>17/68/2861.9</td>\n",
       "      <td>33/0/992.1</td>\n",
       "    </tr>\n",
       "    <tr>\n",
       "      <th>$10^{-1}$</th>\n",
       "      <td>8/0/668.2</td>\n",
       "      <td>8/0/661.1</td>\n",
       "      <td>11/73/2623.6</td>\n",
       "      <td>19/61/3922.8</td>\n",
       "      <td>34/0/530.4</td>\n",
       "    </tr>\n",
       "  </tbody>\n",
       "</table>\n",
       "</div>"
      ],
      "text/plain": [
       "                GreedyKS     Exact KS Reservoir Sampling      IKS + RS  \\\n",
       "$10^{-2}$    4/82/3124.1  4/80/3683.9       14/73/2042.2  27/59/1971.1   \n",
       "$10^{-1.5}$  12/0/3031.1  12/0/2901.2       14/73/3424.4  17/68/2861.9   \n",
       "$10^{-1}$      8/0/668.2    8/0/661.1       11/73/2623.6  19/61/3922.8   \n",
       "\n",
       "            Lall + DDSketch  \n",
       "$10^{-2}$       35/0/1540.7  \n",
       "$10^{-1.5}$      33/0/992.1  \n",
       "$10^{-1}$        34/0/530.4  "
      ]
     },
     "metadata": {},
     "output_type": "display_data"
    }
   ],
   "source": [
    "for e in experiments:\n",
    "    f = e[-1]\n",
    "    results = pd.read_pickle('./data_pdf_files/' + f)\n",
    "    exp_type = f[f.find('_') + 1 : f.rfind('_')]\n",
    "    print('>' * 10, exp_type, f)\n",
    "    res = util.plot_table(results, exp_type, './data_pdf_files/effectiveness_' + exp_type)\n",
    "    for k in res:\n",
    "        print(k)\n",
    "        display(res[k])\n"
   ]
  }
 ],
 "metadata": {
  "kernelspec": {
   "display_name": "Python 3 (ipykernel)",
   "language": "python",
   "name": "python3"
  },
  "language_info": {
   "codemirror_mode": {
    "name": "ipython",
    "version": 3
   },
   "file_extension": ".py",
   "mimetype": "text/x-python",
   "name": "python",
   "nbconvert_exporter": "python",
   "pygments_lexer": "ipython3",
   "version": "3.9.7"
  }
 },
 "nbformat": 4,
 "nbformat_minor": 4
}

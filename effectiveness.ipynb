{
 "cells": [
  {
   "cell_type": "code",
   "execution_count": 1,
   "metadata": {},
   "outputs": [],
   "source": [
    "import numpy as np\n",
    "import time\n",
    "import jcs_paper_util as util"
   ]
  },
  {
   "cell_type": "code",
   "execution_count": 2,
   "metadata": {},
   "outputs": [],
   "source": [
    "util.matplotlib_setup()\n",
    "util.default_num_reps = 100\n",
    "util.eval_error_D = util.eval_responsiveness\n",
    "util.approx_methods = ['Reservoir Sampling', 'Exact KS','GreedyKS', 'Lall + DDSketch', 'IKS + Reservoir']"
   ]
  },
  {
   "cell_type": "code",
   "execution_count": null,
   "metadata": {
    "scrolled": false
   },
   "outputs": [
    {
     "name": "stdout",
     "output_type": "stream",
     "text": [
      "sample_size\n"
     ]
    },
    {
     "name": "stderr",
     "output_type": "stream",
     "text": [
      "  0%|▏                                              | 4/900 [00:07<23:34,  1.58s/it]"
     ]
    }
   ],
   "source": [
    "experiments = [\n",
    "    [{'sample_size': (10 ** np.arange(3, 4.5, 0.5)).astype(int)}, 'Sample size', 'sample_size'],\n",
    "    [{'memo_perct': 10. ** np.arange(-3, -1.5, .5)}, 'Memory fraction', 'memo_perct'],\n",
    "    [{'mean_diff': 10. ** np.arange(-3, 0)}, 'Difference in distribution mean', 'mean_diff'],\n",
    "    [{'std_diff': 10. ** np.arange(-3, 0), 'mean_diff':[0]}, 'Difference in distribution standard deviation', 'std_diff'],\n",
    "]\n",
    "\n",
    "for e in experiments:\n",
    "    print(e[2])\n",
    "    kwargs = {'sample_size': (10**4,)}\n",
    "    kwargs.update(e[0])\n",
    "    results = util.get_results(**kwargs)\n",
    "    timestamp = int(time.time())\n",
    "    results.to_pickle('./data_&_pdf_files/results_{}_{}.pkl'.format(e[2], timestamp))\n",
    "#     util.plot_errors(\n",
    "#         results,\n",
    "#         ['title_norm', 'title_uniform', 'title_expon'],\n",
    "#         'time drift detecteds',\n",
    "#         e[1],\n",
    "#         e[2],\n",
    "#         \"./data_&_pdf_files/results_{}.pdf\".format(e[2]),\n",
    "#         ylog=False\n",
    "#         )\n",
    "    util.plot_table(results, e[2])"
   ]
  },
  {
   "cell_type": "code",
   "execution_count": null,
   "metadata": {},
   "outputs": [],
   "source": []
  },
  {
   "cell_type": "code",
   "execution_count": null,
   "metadata": {},
   "outputs": [],
   "source": [
    "# import pandas as pd"
   ]
  },
  {
   "cell_type": "code",
   "execution_count": null,
   "metadata": {},
   "outputs": [],
   "source": [
    "# data = pd.read_pickle('data_&_pdf_files/results_memo_perct_1644860428.pkl')"
   ]
  },
  {
   "cell_type": "code",
   "execution_count": null,
   "metadata": {},
   "outputs": [],
   "source": [
    "# data"
   ]
  },
  {
   "cell_type": "code",
   "execution_count": null,
   "metadata": {},
   "outputs": [],
   "source": [
    "# def f(x):\n",
    "#     return '{:d} / {:d} / {:.2f}'.format((x < 0).sum(), x.isna().sum(), x[x >= 0].mean())\n",
    "#     #return '%d / %d / %.2f' % ((x < 0).sum(), x.isna().sum(), x[x >= 0].mean())\n",
    "\n",
    "# result = pd.DataFrame()\n",
    "# for k, v in data[data.distrib == 'normal'].groupby('memo_perct'):\n",
    "# #     print(k)\n",
    "# #     display(v[util.approx_methods])\n",
    "#     #print(v[util.approx_methods].to_latex())\n",
    "# #     display(pd.DataFrame(v[util.approx_methods].apply(f).rename({0: 'qtd_negative', 1:'qtd_inf'})).T)\n",
    "# #     display(pd.DataFrame(v[util.approx_methods].apply(f)))\n",
    "#     result[k] = pd.DataFrame(v[util.approx_methods].apply(f))\n",
    "# result = result.rename(columns={0.001: '10**-3', 0.0031622776601683794:'10**-2.5', 0.01:'10**-2'}).T"
   ]
  },
  {
   "cell_type": "code",
   "execution_count": null,
   "metadata": {},
   "outputs": [],
   "source": [
    "# result"
   ]
  },
  {
   "cell_type": "code",
   "execution_count": null,
   "metadata": {},
   "outputs": [],
   "source": []
  }
 ],
 "metadata": {
  "kernelspec": {
   "display_name": "Python 3 (ipykernel)",
   "language": "python",
   "name": "python3"
  },
  "language_info": {
   "codemirror_mode": {
    "name": "ipython",
    "version": 3
   },
   "file_extension": ".py",
   "mimetype": "text/x-python",
   "name": "python",
   "nbconvert_exporter": "python",
   "pygments_lexer": "ipython3",
   "version": "3.8.10"
  }
 },
 "nbformat": 4,
 "nbformat_minor": 4
}
